{
 "cells": [
  {
   "cell_type": "markdown",
   "metadata": {},
   "source": [
    "# Cas Ménisque #2"
   ]
  },
  {
   "cell_type": "code",
   "execution_count": 1,
   "metadata": {
    "scrolled": true
   },
   "outputs": [
    {
     "name": "stderr",
     "output_type": "stream",
     "text": [
      "C:\\Users\\Admin\\Anaconda3\\lib\\site-packages\\sklearn\\utils\\deprecation.py:144: FutureWarning: The sklearn.metrics.scorer module is  deprecated in version 0.22 and will be removed in version 0.24. The corresponding classes / functions should instead be imported from sklearn.metrics. Anything that cannot be imported from sklearn.metrics is now part of the private API.\n",
      "  warnings.warn(message, FutureWarning)\n",
      "C:\\Users\\Admin\\Anaconda3\\lib\\site-packages\\sklearn\\utils\\deprecation.py:144: FutureWarning: The sklearn.feature_selection.base module is  deprecated in version 0.22 and will be removed in version 0.24. The corresponding classes / functions should instead be imported from sklearn.feature_selection. Anything that cannot be imported from sklearn.feature_selection is now part of the private API.\n",
      "  warnings.warn(message, FutureWarning)\n",
      "Using TensorFlow backend.\n",
      "C:\\Users\\Admin\\Anaconda3\\lib\\site-packages\\sklearn\\utils\\deprecation.py:144: FutureWarning: The sklearn.neighbors.base module is  deprecated in version 0.22 and will be removed in version 0.24. The corresponding classes / functions should instead be imported from sklearn.neighbors. Anything that cannot be imported from sklearn.neighbors is now part of the private API.\n",
      "  warnings.warn(message, FutureWarning)\n",
      "C:\\Users\\Admin\\Anaconda3\\lib\\site-packages\\sklearn\\utils\\deprecation.py:144: FutureWarning: The sklearn.ensemble.bagging module is  deprecated in version 0.22 and will be removed in version 0.24. The corresponding classes / functions should instead be imported from sklearn.ensemble. Anything that cannot be imported from sklearn.ensemble is now part of the private API.\n",
      "  warnings.warn(message, FutureWarning)\n",
      "C:\\Users\\Admin\\Anaconda3\\lib\\site-packages\\sklearn\\utils\\deprecation.py:144: FutureWarning: The sklearn.ensemble.base module is  deprecated in version 0.22 and will be removed in version 0.24. The corresponding classes / functions should instead be imported from sklearn.ensemble. Anything that cannot be imported from sklearn.ensemble is now part of the private API.\n",
      "  warnings.warn(message, FutureWarning)\n",
      "C:\\Users\\Admin\\Anaconda3\\lib\\site-packages\\sklearn\\utils\\deprecation.py:144: FutureWarning: The sklearn.ensemble.forest module is  deprecated in version 0.22 and will be removed in version 0.24. The corresponding classes / functions should instead be imported from sklearn.ensemble. Anything that cannot be imported from sklearn.ensemble is now part of the private API.\n",
      "  warnings.warn(message, FutureWarning)\n",
      "C:\\Users\\Admin\\Anaconda3\\lib\\site-packages\\sklearn\\utils\\deprecation.py:144: FutureWarning: The sklearn.utils.testing module is  deprecated in version 0.22 and will be removed in version 0.24. The corresponding classes / functions should instead be imported from sklearn.utils. Anything that cannot be imported from sklearn.utils is now part of the private API.\n",
      "  warnings.warn(message, FutureWarning)\n",
      "C:\\Users\\Admin\\Anaconda3\\lib\\site-packages\\sklearn\\utils\\deprecation.py:144: FutureWarning: The sklearn.metrics.classification module is  deprecated in version 0.22 and will be removed in version 0.24. The corresponding classes / functions should instead be imported from sklearn.metrics. Anything that cannot be imported from sklearn.metrics is now part of the private API.\n",
      "  warnings.warn(message, FutureWarning)\n"
     ]
    }
   ],
   "source": [
    "import os\n",
    "import pandas as pd\n",
    "import numpy as np\n",
    "from pprint import pprint\n",
    "\n",
    "#visualiation\n",
    "import matplotlib.pyplot as plt\n",
    "import seaborn as sns\n",
    "\n",
    "\n",
    "#machine learning\n",
    "import sklearn\n",
    "from sklearn.pipeline import Pipeline\n",
    "from sklearn.preprocessing import StandardScaler, MinMaxScaler, OneHotEncoder\n",
    "from sklearn.compose import ColumnTransformer\n",
    "from sklearn.model_selection import GridSearchCV, train_test_split, learning_curve\n",
    "from sklearn.linear_model import LogisticRegression\n",
    "from sklearn.neighbors import KNeighborsClassifier\n",
    "from sklearn.ensemble import GradientBoostingClassifier\n",
    "from sklearn.naive_bayes import GaussianNB\n",
    "from sklearn.svm import SVC\n",
    "from sklearn.metrics import balanced_accuracy_score, roc_auc_score, confusion_matrix\n",
    "\n",
    "import eli5\n",
    "from eli5.sklearn import PermutationImportance\n",
    "from sklearn.preprocessing import FunctionTransformer\n",
    "from sklearn.preprocessing import KBinsDiscretizer\n",
    "\n",
    "from imblearn.over_sampling import SMOTENC\n",
    "\n",
    "#sauvegarde du modèle\n",
    "import pickle\n"
   ]
  },
  {
   "cell_type": "markdown",
   "metadata": {},
   "source": [
    "# Préparation des données"
   ]
  },
  {
   "cell_type": "code",
   "execution_count": 2,
   "metadata": {},
   "outputs": [],
   "source": [
    "#données nettoyées à partir du fichier de David, et reimportées\n",
    "current_dir = os.getcwd()\n",
    "data = pd.read_excel(current_dir + '/data/clean_patients.xlsx')"
   ]
  },
  {
   "cell_type": "code",
   "execution_count": 3,
   "metadata": {},
   "outputs": [
    {
     "data": {
      "text/html": [
       "<div>\n",
       "<style scoped>\n",
       "    .dataframe tbody tr th:only-of-type {\n",
       "        vertical-align: middle;\n",
       "    }\n",
       "\n",
       "    .dataframe tbody tr th {\n",
       "        vertical-align: top;\n",
       "    }\n",
       "\n",
       "    .dataframe thead th {\n",
       "        text-align: right;\n",
       "    }\n",
       "</style>\n",
       "<table border=\"1\" class=\"dataframe\">\n",
       "  <thead>\n",
       "    <tr style=\"text-align: right;\">\n",
       "      <th></th>\n",
       "      <th>index</th>\n",
       "      <th>patient</th>\n",
       "      <th>reprise</th>\n",
       "      <th>age</th>\n",
       "      <th>int_ext</th>\n",
       "      <th>delay</th>\n",
       "      <th>ACL</th>\n",
       "      <th>height</th>\n",
       "      <th>poids</th>\n",
       "      <th>BH</th>\n",
       "      <th>BHI</th>\n",
       "    </tr>\n",
       "  </thead>\n",
       "  <tbody>\n",
       "    <tr>\n",
       "      <td>0</td>\n",
       "      <td>0</td>\n",
       "      <td>1</td>\n",
       "      <td>0</td>\n",
       "      <td>17</td>\n",
       "      <td>0</td>\n",
       "      <td>30</td>\n",
       "      <td>1</td>\n",
       "      <td>180</td>\n",
       "      <td>70</td>\n",
       "      <td>0</td>\n",
       "      <td>0</td>\n",
       "    </tr>\n",
       "    <tr>\n",
       "      <td>1</td>\n",
       "      <td>1</td>\n",
       "      <td>2</td>\n",
       "      <td>0</td>\n",
       "      <td>17</td>\n",
       "      <td>1</td>\n",
       "      <td>30</td>\n",
       "      <td>1</td>\n",
       "      <td>180</td>\n",
       "      <td>70</td>\n",
       "      <td>0</td>\n",
       "      <td>0</td>\n",
       "    </tr>\n",
       "    <tr>\n",
       "      <td>2</td>\n",
       "      <td>2</td>\n",
       "      <td>3</td>\n",
       "      <td>0</td>\n",
       "      <td>35</td>\n",
       "      <td>1</td>\n",
       "      <td>14</td>\n",
       "      <td>1</td>\n",
       "      <td>177</td>\n",
       "      <td>60</td>\n",
       "      <td>0</td>\n",
       "      <td>0</td>\n",
       "    </tr>\n",
       "    <tr>\n",
       "      <td>3</td>\n",
       "      <td>3</td>\n",
       "      <td>4</td>\n",
       "      <td>0</td>\n",
       "      <td>24</td>\n",
       "      <td>0</td>\n",
       "      <td>30</td>\n",
       "      <td>1</td>\n",
       "      <td>174</td>\n",
       "      <td>75</td>\n",
       "      <td>1</td>\n",
       "      <td>0</td>\n",
       "    </tr>\n",
       "    <tr>\n",
       "      <td>4</td>\n",
       "      <td>4</td>\n",
       "      <td>5</td>\n",
       "      <td>1</td>\n",
       "      <td>16</td>\n",
       "      <td>0</td>\n",
       "      <td>270</td>\n",
       "      <td>0</td>\n",
       "      <td>169</td>\n",
       "      <td>60</td>\n",
       "      <td>0</td>\n",
       "      <td>0</td>\n",
       "    </tr>\n",
       "  </tbody>\n",
       "</table>\n",
       "</div>"
      ],
      "text/plain": [
       "   index  patient  reprise  age  int_ext  delay  ACL  height  poids  BH  BHI\n",
       "0      0        1        0   17        0     30    1     180     70   0    0\n",
       "1      1        2        0   17        1     30    1     180     70   0    0\n",
       "2      2        3        0   35        1     14    1     177     60   0    0\n",
       "3      3        4        0   24        0     30    1     174     75   1    0\n",
       "4      4        5        1   16        0    270    0     169     60   0    0"
      ]
     },
     "execution_count": 3,
     "metadata": {},
     "output_type": "execute_result"
    }
   ],
   "source": [
    "data.head()"
   ]
  },
  {
   "cell_type": "markdown",
   "metadata": {},
   "source": [
    "# Data Exploration"
   ]
  },
  {
   "cell_type": "markdown",
   "metadata": {},
   "source": [
    "Recovery"
   ]
  },
  {
   "cell_type": "code",
   "execution_count": 4,
   "metadata": {},
   "outputs": [
    {
     "name": "stdout",
     "output_type": "stream",
     "text": [
      "reprise = 1 :  38\n",
      "reprise = 0 :  65\n"
     ]
    },
    {
     "data": {
      "image/png": "[encoded data removed]",
      "text/plain": [
       "<Figure size 576x288 with 1 Axes>"
      ]
     },
     "metadata": {
      "needs_background": "light"
     },
     "output_type": "display_data"
    }
   ],
   "source": [
    "plt.figure(figsize=(8,4))\n",
    "sns.distplot(data['reprise'], kde = False)\n",
    "\n",
    "\n",
    "print('reprise = 1 : ', sum(data['reprise'] == 1) ) \n",
    "print('reprise = 0 : ', sum(data['reprise'] == 0) ) "
   ]
  },
  {
   "cell_type": "markdown",
   "metadata": {},
   "source": [
    "Age"
   ]
  },
  {
   "cell_type": "code",
   "execution_count": 5,
   "metadata": {},
   "outputs": [
    {
     "data": {
      "text/plain": [
       "<matplotlib.axes._subplots.AxesSubplot at 0x286bfd52c08>"
      ]
     },
     "execution_count": 5,
     "metadata": {},
     "output_type": "execute_result"
    },
    {
     "data": {
      "image/png": "[encoded data removed]",
      "text/plain": [
       "<Figure size 576x288 with 1 Axes>"
      ]
     },
     "metadata": {
      "needs_background": "light"
     },
     "output_type": "display_data"
    }
   ],
   "source": [
    "plt.figure(figsize=(8,4))\n",
    "sns.distplot(data['age'], bins = 10, kde = False)"
   ]
  },
  {
   "cell_type": "markdown",
   "metadata": {},
   "source": [
    "Après log transformation"
   ]
  },
  {
   "cell_type": "code",
   "execution_count": 6,
   "metadata": {},
   "outputs": [
    {
     "data": {
      "text/plain": [
       "<matplotlib.axes._subplots.AxesSubplot at 0x286bfa07648>"
      ]
     },
     "execution_count": 6,
     "metadata": {},
     "output_type": "execute_result"
    },
    {
     "data": {
      "image/png": "[encoded data removed]",
      "text/plain": [
       "<Figure size 576x288 with 1 Axes>"
      ]
     },
     "metadata": {
      "needs_background": "light"
     },
     "output_type": "display_data"
    }
   ],
   "source": [
    "plt.figure(figsize=(8,4))\n",
    "sns.distplot(np.log1p(data['age']), bins = 10, kde = False)"
   ]
  },
  {
   "cell_type": "markdown",
   "metadata": {},
   "source": [
    "Int_ext"
   ]
  },
  {
   "cell_type": "code",
   "execution_count": 7,
   "metadata": {},
   "outputs": [
    {
     "data": {
      "text/plain": [
       "<matplotlib.axes._subplots.AxesSubplot at 0x286bfdd9d08>"
      ]
     },
     "execution_count": 7,
     "metadata": {},
     "output_type": "execute_result"
    },
    {
     "data": {
      "image/png": "[encoded data removed]",
      "text/plain": [
       "<Figure size 576x288 with 1 Axes>"
      ]
     },
     "metadata": {
      "needs_background": "light"
     },
     "output_type": "display_data"
    }
   ],
   "source": [
    "plt.figure(figsize=(8,4))\n",
    "sns.distplot(data['int_ext'], kde = False)"
   ]
  },
  {
   "cell_type": "code",
   "execution_count": 8,
   "metadata": {},
   "outputs": [
    {
     "data": {
      "text/plain": [
       "<matplotlib.axes._subplots.AxesSubplot at 0x286bfecf948>"
      ]
     },
     "execution_count": 8,
     "metadata": {},
     "output_type": "execute_result"
    },
    {
     "data": {
      "image/png": "[encoded data removed]",
      "text/plain": [
       "<Figure size 576x288 with 1 Axes>"
      ]
     },
     "metadata": {
      "needs_background": "light"
     },
     "output_type": "display_data"
    }
   ],
   "source": [
    "plt.figure(figsize=(8,4))\n",
    "sns.distplot(data['delay'], kde = False)"
   ]
  },
  {
   "cell_type": "code",
   "execution_count": 9,
   "metadata": {},
   "outputs": [
    {
     "data": {
      "text/plain": [
       "<matplotlib.axes._subplots.AxesSubplot at 0x286bfee1788>"
      ]
     },
     "execution_count": 9,
     "metadata": {},
     "output_type": "execute_result"
    },
    {
     "data": {
      "image/png": "[encoded data removed]",
      "text/plain": [
       "<Figure size 576x288 with 1 Axes>"
      ]
     },
     "metadata": {
      "needs_background": "light"
     },
     "output_type": "display_data"
    }
   ],
   "source": [
    "plt.figure(figsize=(8,4))\n",
    "sns.distplot(data['ACL'], kde = False)"
   ]
  },
  {
   "cell_type": "code",
   "execution_count": 10,
   "metadata": {},
   "outputs": [
    {
     "data": {
      "text/plain": [
       "<matplotlib.axes._subplots.AxesSubplot at 0x286c0040808>"
      ]
     },
     "execution_count": 10,
     "metadata": {},
     "output_type": "execute_result"
    },
    {
     "data": {
      "image/png": "[encoded data removed]",
      "text/plain": [
       "<Figure size 576x288 with 1 Axes>"
      ]
     },
     "metadata": {
      "needs_background": "light"
     },
     "output_type": "display_data"
    }
   ],
   "source": [
    "plt.figure(figsize=(8,4))\n",
    "sns.distplot(data['height'])"
   ]
  },
  {
   "cell_type": "code",
   "execution_count": 11,
   "metadata": {},
   "outputs": [
    {
     "data": {
      "text/plain": [
       "<matplotlib.axes._subplots.AxesSubplot at 0x286bf9e3048>"
      ]
     },
     "execution_count": 11,
     "metadata": {},
     "output_type": "execute_result"
    },
    {
     "data": {
      "image/png": "[encoded data removed]",
      "text/plain": [
       "<Figure size 576x288 with 1 Axes>"
      ]
     },
     "metadata": {
      "needs_background": "light"
     },
     "output_type": "display_data"
    }
   ],
   "source": [
    "plt.figure(figsize=(8,4))\n",
    "sns.distplot(data['poids'])"
   ]
  },
  {
   "cell_type": "code",
   "execution_count": 12,
   "metadata": {},
   "outputs": [
    {
     "data": {
      "text/plain": [
       "<matplotlib.axes._subplots.AxesSubplot at 0x286bfa0aa48>"
      ]
     },
     "execution_count": 12,
     "metadata": {},
     "output_type": "execute_result"
    },
    {
     "data": {
      "image/png": "[encoded data removed]",
      "text/plain": [
       "<Figure size 576x288 with 1 Axes>"
      ]
     },
     "metadata": {
      "needs_background": "light"
     },
     "output_type": "display_data"
    }
   ],
   "source": [
    "plt.figure(figsize=(8,4))\n",
    "sns.distplot(data['BH'], kde = False)"
   ]
  },
  {
   "cell_type": "code",
   "execution_count": 13,
   "metadata": {},
   "outputs": [
    {
     "data": {
      "text/plain": [
       "<matplotlib.axes._subplots.AxesSubplot at 0x286bf9f30c8>"
      ]
     },
     "execution_count": 13,
     "metadata": {},
     "output_type": "execute_result"
    },
    {
     "data": {
      "image/png": "[encoded data removed]",
      "text/plain": [
       "<Figure size 576x288 with 1 Axes>"
      ]
     },
     "metadata": {
      "needs_background": "light"
     },
     "output_type": "display_data"
    }
   ],
   "source": [
    "plt.figure(figsize=(8,4))\n",
    "sns.distplot(data['BHI'], kde = False)"
   ]
  },
  {
   "cell_type": "markdown",
   "metadata": {},
   "source": [
    "# Gestion des outliers : Discrétisation - log_transformation"
   ]
  },
  {
   "cell_type": "markdown",
   "metadata": {},
   "source": [
    "Pour la feature delay"
   ]
  },
  {
   "cell_type": "code",
   "execution_count": 14,
   "metadata": {},
   "outputs": [
    {
     "data": {
      "text/plain": [
       "<matplotlib.axes._subplots.AxesSubplot at 0x286c00dfb88>"
      ]
     },
     "execution_count": 14,
     "metadata": {},
     "output_type": "execute_result"
    },
    {
     "data": {
      "image/png": "[encoded data removed]",
      "text/plain": [
       "<Figure size 432x288 with 1 Axes>"
      ]
     },
     "metadata": {
      "needs_background": "light"
     },
     "output_type": "display_data"
    }
   ],
   "source": [
    "sns.boxplot(data=data['delay'])"
   ]
  },
  {
   "cell_type": "markdown",
   "metadata": {},
   "source": [
    "On observe de nombreux outliers grâce à cette boîte à moustache (points en noir). Nous ferons une log transformation par la suite"
   ]
  },
  {
   "cell_type": "markdown",
   "metadata": {},
   "source": [
    "# Feature Engineering"
   ]
  },
  {
   "cell_type": "markdown",
   "metadata": {},
   "source": [
    "Poids _ taille --> IMC"
   ]
  },
  {
   "cell_type": "code",
   "execution_count": 15,
   "metadata": {},
   "outputs": [],
   "source": [
    "data['IMC'] = data['poids'] / (data['height'] /100)**2"
   ]
  },
  {
   "cell_type": "code",
   "execution_count": 16,
   "metadata": {},
   "outputs": [
    {
     "data": {
      "text/html": [
       "<div>\n",
       "<style scoped>\n",
       "    .dataframe tbody tr th:only-of-type {\n",
       "        vertical-align: middle;\n",
       "    }\n",
       "\n",
       "    .dataframe tbody tr th {\n",
       "        vertical-align: top;\n",
       "    }\n",
       "\n",
       "    .dataframe thead th {\n",
       "        text-align: right;\n",
       "    }\n",
       "</style>\n",
       "<table border=\"1\" class=\"dataframe\">\n",
       "  <thead>\n",
       "    <tr style=\"text-align: right;\">\n",
       "      <th></th>\n",
       "      <th>index</th>\n",
       "      <th>patient</th>\n",
       "      <th>reprise</th>\n",
       "      <th>age</th>\n",
       "      <th>int_ext</th>\n",
       "      <th>delay</th>\n",
       "      <th>ACL</th>\n",
       "      <th>height</th>\n",
       "      <th>poids</th>\n",
       "      <th>BH</th>\n",
       "      <th>BHI</th>\n",
       "      <th>IMC</th>\n",
       "    </tr>\n",
       "  </thead>\n",
       "  <tbody>\n",
       "    <tr>\n",
       "      <td>0</td>\n",
       "      <td>0</td>\n",
       "      <td>1</td>\n",
       "      <td>0</td>\n",
       "      <td>17</td>\n",
       "      <td>0</td>\n",
       "      <td>30</td>\n",
       "      <td>1</td>\n",
       "      <td>180</td>\n",
       "      <td>70</td>\n",
       "      <td>0</td>\n",
       "      <td>0</td>\n",
       "      <td>21.604938</td>\n",
       "    </tr>\n",
       "    <tr>\n",
       "      <td>1</td>\n",
       "      <td>1</td>\n",
       "      <td>2</td>\n",
       "      <td>0</td>\n",
       "      <td>17</td>\n",
       "      <td>1</td>\n",
       "      <td>30</td>\n",
       "      <td>1</td>\n",
       "      <td>180</td>\n",
       "      <td>70</td>\n",
       "      <td>0</td>\n",
       "      <td>0</td>\n",
       "      <td>21.604938</td>\n",
       "    </tr>\n",
       "    <tr>\n",
       "      <td>2</td>\n",
       "      <td>2</td>\n",
       "      <td>3</td>\n",
       "      <td>0</td>\n",
       "      <td>35</td>\n",
       "      <td>1</td>\n",
       "      <td>14</td>\n",
       "      <td>1</td>\n",
       "      <td>177</td>\n",
       "      <td>60</td>\n",
       "      <td>0</td>\n",
       "      <td>0</td>\n",
       "      <td>19.151585</td>\n",
       "    </tr>\n",
       "    <tr>\n",
       "      <td>3</td>\n",
       "      <td>3</td>\n",
       "      <td>4</td>\n",
       "      <td>0</td>\n",
       "      <td>24</td>\n",
       "      <td>0</td>\n",
       "      <td>30</td>\n",
       "      <td>1</td>\n",
       "      <td>174</td>\n",
       "      <td>75</td>\n",
       "      <td>1</td>\n",
       "      <td>0</td>\n",
       "      <td>24.772097</td>\n",
       "    </tr>\n",
       "    <tr>\n",
       "      <td>4</td>\n",
       "      <td>4</td>\n",
       "      <td>5</td>\n",
       "      <td>1</td>\n",
       "      <td>16</td>\n",
       "      <td>0</td>\n",
       "      <td>270</td>\n",
       "      <td>0</td>\n",
       "      <td>169</td>\n",
       "      <td>60</td>\n",
       "      <td>0</td>\n",
       "      <td>0</td>\n",
       "      <td>21.007668</td>\n",
       "    </tr>\n",
       "  </tbody>\n",
       "</table>\n",
       "</div>"
      ],
      "text/plain": [
       "   index  patient  reprise  age  int_ext  delay  ACL  height  poids  BH  BHI  \\\n",
       "0      0        1        0   17        0     30    1     180     70   0    0   \n",
       "1      1        2        0   17        1     30    1     180     70   0    0   \n",
       "2      2        3        0   35        1     14    1     177     60   0    0   \n",
       "3      3        4        0   24        0     30    1     174     75   1    0   \n",
       "4      4        5        1   16        0    270    0     169     60   0    0   \n",
       "\n",
       "         IMC  \n",
       "0  21.604938  \n",
       "1  21.604938  \n",
       "2  19.151585  \n",
       "3  24.772097  \n",
       "4  21.007668  "
      ]
     },
     "execution_count": 16,
     "metadata": {},
     "output_type": "execute_result"
    }
   ],
   "source": [
    "data.head()"
   ]
  },
  {
   "cell_type": "markdown",
   "metadata": {},
   "source": [
    "Anse de Sceau, combinaison BH et BHI"
   ]
  },
  {
   "cell_type": "code",
   "execution_count": 17,
   "metadata": {},
   "outputs": [],
   "source": [
    "data['new_BH'] = data['BH'] + data['BHI'] \n",
    "data['new_BH'] = data['new_BH'].astype(int)"
   ]
  },
  {
   "cell_type": "markdown",
   "metadata": {},
   "source": [
    "# Data Augmentation"
   ]
  },
  {
   "cell_type": "code",
   "execution_count": 18,
   "metadata": {},
   "outputs": [],
   "source": [
    "smote = SMOTENC(sampling_strategy='minority', \n",
    "                categorical_features = [True, True, False, True, False, True, False, True, True, True],\n",
    "                random_state = 1, n_jobs=-1)"
   ]
  },
  {
   "cell_type": "code",
   "execution_count": 19,
   "metadata": {},
   "outputs": [],
   "source": [
    "features = ['index', 'patient', 'age', 'int_ext', 'delay', 'ACL', 'IMC', 'BH', 'BHI', 'new_BH']\n",
    "target = ['reprise']"
   ]
  },
  {
   "cell_type": "code",
   "execution_count": 20,
   "metadata": {},
   "outputs": [
    {
     "name": "stderr",
     "output_type": "stream",
     "text": [
      "C:\\Users\\Admin\\Anaconda3\\lib\\site-packages\\sklearn\\utils\\validation.py:760: DataConversionWarning: A column-vector y was passed when a 1d array was expected. Please change the shape of y to (n_samples, ), for example using ravel().\n",
      "  y = column_or_1d(y, warn=True)\n",
      "C:\\Users\\Admin\\Anaconda3\\lib\\site-packages\\sklearn\\utils\\deprecation.py:87: FutureWarning: Function safe_indexing is deprecated; safe_indexing is deprecated in version 0.22 and will be removed in version 0.24.\n",
      "  warnings.warn(msg, category=FutureWarning)\n",
      "C:\\Users\\Admin\\Anaconda3\\lib\\site-packages\\sklearn\\utils\\deprecation.py:87: FutureWarning: Function safe_indexing is deprecated; safe_indexing is deprecated in version 0.22 and will be removed in version 0.24.\n",
      "  warnings.warn(msg, category=FutureWarning)\n"
     ]
    }
   ],
   "source": [
    "X_sm, y_sm = smote.fit_resample(data[features], data[target])"
   ]
  },
  {
   "cell_type": "code",
   "execution_count": 21,
   "metadata": {},
   "outputs": [],
   "source": [
    "XX = pd.DataFrame(data = X_sm, columns = features)\n",
    "YY = pd.DataFrame(data = y_sm, columns = target)"
   ]
  },
  {
   "cell_type": "code",
   "execution_count": 22,
   "metadata": {},
   "outputs": [
    {
     "data": {
      "text/html": [
       "<div>\n",
       "<style scoped>\n",
       "    .dataframe tbody tr th:only-of-type {\n",
       "        vertical-align: middle;\n",
       "    }\n",
       "\n",
       "    .dataframe tbody tr th {\n",
       "        vertical-align: top;\n",
       "    }\n",
       "\n",
       "    .dataframe thead th {\n",
       "        text-align: right;\n",
       "    }\n",
       "</style>\n",
       "<table border=\"1\" class=\"dataframe\">\n",
       "  <thead>\n",
       "    <tr style=\"text-align: right;\">\n",
       "      <th></th>\n",
       "      <th>index</th>\n",
       "      <th>patient</th>\n",
       "      <th>age</th>\n",
       "      <th>int_ext</th>\n",
       "      <th>delay</th>\n",
       "      <th>ACL</th>\n",
       "      <th>IMC</th>\n",
       "      <th>BH</th>\n",
       "      <th>BHI</th>\n",
       "      <th>new_BH</th>\n",
       "    </tr>\n",
       "  </thead>\n",
       "  <tbody>\n",
       "    <tr>\n",
       "      <td>0</td>\n",
       "      <td>0.0</td>\n",
       "      <td>1.0</td>\n",
       "      <td>17.000000</td>\n",
       "      <td>0.0</td>\n",
       "      <td>30.000000</td>\n",
       "      <td>1.0</td>\n",
       "      <td>21.604938</td>\n",
       "      <td>0.0</td>\n",
       "      <td>0.0</td>\n",
       "      <td>0.0</td>\n",
       "    </tr>\n",
       "    <tr>\n",
       "      <td>1</td>\n",
       "      <td>1.0</td>\n",
       "      <td>2.0</td>\n",
       "      <td>17.000000</td>\n",
       "      <td>1.0</td>\n",
       "      <td>30.000000</td>\n",
       "      <td>1.0</td>\n",
       "      <td>21.604938</td>\n",
       "      <td>0.0</td>\n",
       "      <td>0.0</td>\n",
       "      <td>0.0</td>\n",
       "    </tr>\n",
       "    <tr>\n",
       "      <td>2</td>\n",
       "      <td>2.0</td>\n",
       "      <td>3.0</td>\n",
       "      <td>35.000000</td>\n",
       "      <td>1.0</td>\n",
       "      <td>14.000000</td>\n",
       "      <td>1.0</td>\n",
       "      <td>19.151585</td>\n",
       "      <td>0.0</td>\n",
       "      <td>0.0</td>\n",
       "      <td>0.0</td>\n",
       "    </tr>\n",
       "    <tr>\n",
       "      <td>3</td>\n",
       "      <td>3.0</td>\n",
       "      <td>4.0</td>\n",
       "      <td>24.000000</td>\n",
       "      <td>0.0</td>\n",
       "      <td>30.000000</td>\n",
       "      <td>1.0</td>\n",
       "      <td>24.772097</td>\n",
       "      <td>1.0</td>\n",
       "      <td>0.0</td>\n",
       "      <td>1.0</td>\n",
       "    </tr>\n",
       "    <tr>\n",
       "      <td>4</td>\n",
       "      <td>4.0</td>\n",
       "      <td>5.0</td>\n",
       "      <td>16.000000</td>\n",
       "      <td>0.0</td>\n",
       "      <td>270.000000</td>\n",
       "      <td>0.0</td>\n",
       "      <td>21.007668</td>\n",
       "      <td>0.0</td>\n",
       "      <td>0.0</td>\n",
       "      <td>0.0</td>\n",
       "    </tr>\n",
       "    <tr>\n",
       "      <td>...</td>\n",
       "      <td>...</td>\n",
       "      <td>...</td>\n",
       "      <td>...</td>\n",
       "      <td>...</td>\n",
       "      <td>...</td>\n",
       "      <td>...</td>\n",
       "      <td>...</td>\n",
       "      <td>...</td>\n",
       "      <td>...</td>\n",
       "      <td>...</td>\n",
       "    </tr>\n",
       "    <tr>\n",
       "      <td>125</td>\n",
       "      <td>81.0</td>\n",
       "      <td>98.0</td>\n",
       "      <td>15.366821</td>\n",
       "      <td>1.0</td>\n",
       "      <td>180.000000</td>\n",
       "      <td>0.0</td>\n",
       "      <td>21.924826</td>\n",
       "      <td>1.0</td>\n",
       "      <td>0.0</td>\n",
       "      <td>0.0</td>\n",
       "    </tr>\n",
       "    <tr>\n",
       "      <td>126</td>\n",
       "      <td>58.0</td>\n",
       "      <td>86.0</td>\n",
       "      <td>22.184569</td>\n",
       "      <td>1.0</td>\n",
       "      <td>365.000000</td>\n",
       "      <td>0.0</td>\n",
       "      <td>21.810004</td>\n",
       "      <td>0.0</td>\n",
       "      <td>0.0</td>\n",
       "      <td>0.0</td>\n",
       "    </tr>\n",
       "    <tr>\n",
       "      <td>127</td>\n",
       "      <td>99.0</td>\n",
       "      <td>101.0</td>\n",
       "      <td>31.230622</td>\n",
       "      <td>1.0</td>\n",
       "      <td>60.000000</td>\n",
       "      <td>0.0</td>\n",
       "      <td>22.484023</td>\n",
       "      <td>1.0</td>\n",
       "      <td>0.0</td>\n",
       "      <td>1.0</td>\n",
       "    </tr>\n",
       "    <tr>\n",
       "      <td>128</td>\n",
       "      <td>89.0</td>\n",
       "      <td>95.0</td>\n",
       "      <td>23.642707</td>\n",
       "      <td>1.0</td>\n",
       "      <td>13.323591</td>\n",
       "      <td>1.0</td>\n",
       "      <td>25.043640</td>\n",
       "      <td>1.0</td>\n",
       "      <td>0.0</td>\n",
       "      <td>0.0</td>\n",
       "    </tr>\n",
       "    <tr>\n",
       "      <td>129</td>\n",
       "      <td>98.0</td>\n",
       "      <td>103.0</td>\n",
       "      <td>14.477962</td>\n",
       "      <td>0.0</td>\n",
       "      <td>28.238981</td>\n",
       "      <td>0.0</td>\n",
       "      <td>23.967136</td>\n",
       "      <td>0.0</td>\n",
       "      <td>0.0</td>\n",
       "      <td>0.0</td>\n",
       "    </tr>\n",
       "  </tbody>\n",
       "</table>\n",
       "<p>130 rows × 10 columns</p>\n",
       "</div>"
      ],
      "text/plain": [
       "     index  patient        age  int_ext       delay  ACL        IMC   BH  BHI  \\\n",
       "0      0.0      1.0  17.000000      0.0   30.000000  1.0  21.604938  0.0  0.0   \n",
       "1      1.0      2.0  17.000000      1.0   30.000000  1.0  21.604938  0.0  0.0   \n",
       "2      2.0      3.0  35.000000      1.0   14.000000  1.0  19.151585  0.0  0.0   \n",
       "3      3.0      4.0  24.000000      0.0   30.000000  1.0  24.772097  1.0  0.0   \n",
       "4      4.0      5.0  16.000000      0.0  270.000000  0.0  21.007668  0.0  0.0   \n",
       "..     ...      ...        ...      ...         ...  ...        ...  ...  ...   \n",
       "125   81.0     98.0  15.366821      1.0  180.000000  0.0  21.924826  1.0  0.0   \n",
       "126   58.0     86.0  22.184569      1.0  365.000000  0.0  21.810004  0.0  0.0   \n",
       "127   99.0    101.0  31.230622      1.0   60.000000  0.0  22.484023  1.0  0.0   \n",
       "128   89.0     95.0  23.642707      1.0   13.323591  1.0  25.043640  1.0  0.0   \n",
       "129   98.0    103.0  14.477962      0.0   28.238981  0.0  23.967136  0.0  0.0   \n",
       "\n",
       "     new_BH  \n",
       "0       0.0  \n",
       "1       0.0  \n",
       "2       0.0  \n",
       "3       1.0  \n",
       "4       0.0  \n",
       "..      ...  \n",
       "125     0.0  \n",
       "126     0.0  \n",
       "127     1.0  \n",
       "128     0.0  \n",
       "129     0.0  \n",
       "\n",
       "[130 rows x 10 columns]"
      ]
     },
     "execution_count": 22,
     "metadata": {},
     "output_type": "execute_result"
    }
   ],
   "source": [
    "XX"
   ]
  },
  {
   "cell_type": "code",
   "execution_count": 23,
   "metadata": {},
   "outputs": [
    {
     "name": "stdout",
     "output_type": "stream",
     "text": [
      "reprise    65\n",
      "dtype: int64\n",
      "reprise    65\n",
      "dtype: int64\n",
      "130\n"
     ]
    }
   ],
   "source": [
    "print((YY ==0).sum())\n",
    "print((YY ==1).sum())\n",
    "\n",
    "print(YY.shape[0])"
   ]
  },
  {
   "cell_type": "code",
   "execution_count": 24,
   "metadata": {},
   "outputs": [],
   "source": [
    "#dataframe augmenté\n",
    "data = pd.concat([XX, YY], axis = 1)"
   ]
  },
  {
   "cell_type": "code",
   "execution_count": 25,
   "metadata": {},
   "outputs": [
    {
     "data": {
      "text/html": [
       "<div>\n",
       "<style scoped>\n",
       "    .dataframe tbody tr th:only-of-type {\n",
       "        vertical-align: middle;\n",
       "    }\n",
       "\n",
       "    .dataframe tbody tr th {\n",
       "        vertical-align: top;\n",
       "    }\n",
       "\n",
       "    .dataframe thead th {\n",
       "        text-align: right;\n",
       "    }\n",
       "</style>\n",
       "<table border=\"1\" class=\"dataframe\">\n",
       "  <thead>\n",
       "    <tr style=\"text-align: right;\">\n",
       "      <th></th>\n",
       "      <th>index</th>\n",
       "      <th>patient</th>\n",
       "      <th>age</th>\n",
       "      <th>int_ext</th>\n",
       "      <th>delay</th>\n",
       "      <th>ACL</th>\n",
       "      <th>IMC</th>\n",
       "      <th>BH</th>\n",
       "      <th>BHI</th>\n",
       "      <th>new_BH</th>\n",
       "      <th>reprise</th>\n",
       "    </tr>\n",
       "  </thead>\n",
       "  <tbody>\n",
       "    <tr>\n",
       "      <td>0</td>\n",
       "      <td>0.0</td>\n",
       "      <td>1.0</td>\n",
       "      <td>17.0</td>\n",
       "      <td>0.0</td>\n",
       "      <td>30.0</td>\n",
       "      <td>1.0</td>\n",
       "      <td>21.604938</td>\n",
       "      <td>0.0</td>\n",
       "      <td>0.0</td>\n",
       "      <td>0.0</td>\n",
       "      <td>0</td>\n",
       "    </tr>\n",
       "    <tr>\n",
       "      <td>1</td>\n",
       "      <td>1.0</td>\n",
       "      <td>2.0</td>\n",
       "      <td>17.0</td>\n",
       "      <td>1.0</td>\n",
       "      <td>30.0</td>\n",
       "      <td>1.0</td>\n",
       "      <td>21.604938</td>\n",
       "      <td>0.0</td>\n",
       "      <td>0.0</td>\n",
       "      <td>0.0</td>\n",
       "      <td>0</td>\n",
       "    </tr>\n",
       "    <tr>\n",
       "      <td>2</td>\n",
       "      <td>2.0</td>\n",
       "      <td>3.0</td>\n",
       "      <td>35.0</td>\n",
       "      <td>1.0</td>\n",
       "      <td>14.0</td>\n",
       "      <td>1.0</td>\n",
       "      <td>19.151585</td>\n",
       "      <td>0.0</td>\n",
       "      <td>0.0</td>\n",
       "      <td>0.0</td>\n",
       "      <td>0</td>\n",
       "    </tr>\n",
       "    <tr>\n",
       "      <td>3</td>\n",
       "      <td>3.0</td>\n",
       "      <td>4.0</td>\n",
       "      <td>24.0</td>\n",
       "      <td>0.0</td>\n",
       "      <td>30.0</td>\n",
       "      <td>1.0</td>\n",
       "      <td>24.772097</td>\n",
       "      <td>1.0</td>\n",
       "      <td>0.0</td>\n",
       "      <td>1.0</td>\n",
       "      <td>0</td>\n",
       "    </tr>\n",
       "    <tr>\n",
       "      <td>4</td>\n",
       "      <td>4.0</td>\n",
       "      <td>5.0</td>\n",
       "      <td>16.0</td>\n",
       "      <td>0.0</td>\n",
       "      <td>270.0</td>\n",
       "      <td>0.0</td>\n",
       "      <td>21.007668</td>\n",
       "      <td>0.0</td>\n",
       "      <td>0.0</td>\n",
       "      <td>0.0</td>\n",
       "      <td>1</td>\n",
       "    </tr>\n",
       "  </tbody>\n",
       "</table>\n",
       "</div>"
      ],
      "text/plain": [
       "   index  patient   age  int_ext  delay  ACL        IMC   BH  BHI  new_BH  \\\n",
       "0    0.0      1.0  17.0      0.0   30.0  1.0  21.604938  0.0  0.0     0.0   \n",
       "1    1.0      2.0  17.0      1.0   30.0  1.0  21.604938  0.0  0.0     0.0   \n",
       "2    2.0      3.0  35.0      1.0   14.0  1.0  19.151585  0.0  0.0     0.0   \n",
       "3    3.0      4.0  24.0      0.0   30.0  1.0  24.772097  1.0  0.0     1.0   \n",
       "4    4.0      5.0  16.0      0.0  270.0  0.0  21.007668  0.0  0.0     0.0   \n",
       "\n",
       "   reprise  \n",
       "0        0  \n",
       "1        0  \n",
       "2        0  \n",
       "3        0  \n",
       "4        1  "
      ]
     },
     "execution_count": 25,
     "metadata": {},
     "output_type": "execute_result"
    }
   ],
   "source": [
    "data.head()"
   ]
  },
  {
   "cell_type": "markdown",
   "metadata": {},
   "source": [
    "# Partie Machine_Learning"
   ]
  },
  {
   "cell_type": "markdown",
   "metadata": {},
   "source": [
    "# Pre_process pipeline"
   ]
  },
  {
   "cell_type": "markdown",
   "metadata": {},
   "source": [
    "feature quanti"
   ]
  },
  {
   "cell_type": "code",
   "execution_count": 26,
   "metadata": {},
   "outputs": [],
   "source": [
    "quanti_feature = ['IMC']"
   ]
  },
  {
   "cell_type": "code",
   "execution_count": 27,
   "metadata": {},
   "outputs": [],
   "source": [
    "transfo_quanti = Pipeline(steps = [\n",
    "    ('normalisation', StandardScaler()) #MinMaxScaler() moins bon\n",
    "])"
   ]
  },
  {
   "cell_type": "code",
   "execution_count": 28,
   "metadata": {},
   "outputs": [],
   "source": [
    "quanti_feature_log = ['age']"
   ]
  },
  {
   "cell_type": "code",
   "execution_count": 29,
   "metadata": {},
   "outputs": [],
   "source": [
    "transfo_quanti_log = Pipeline(steps = [\n",
    "    ('log', FunctionTransformer(np.log1p)), #log transformation \n",
    "    ('normalisation', StandardScaler())\n",
    "])"
   ]
  },
  {
   "cell_type": "markdown",
   "metadata": {},
   "source": [
    "feature catégorie"
   ]
  },
  {
   "cell_type": "code",
   "execution_count": 30,
   "metadata": {},
   "outputs": [],
   "source": [
    "categorical_feature = ['int_ext','ACL', 'new_BH']"
   ]
  },
  {
   "cell_type": "code",
   "execution_count": 31,
   "metadata": {},
   "outputs": [],
   "source": [
    "transfo_categorical = Pipeline(steps = [\n",
    "    ('one_hot_encoding', OneHotEncoder(handle_unknown = 'ignore'))\n",
    "])"
   ]
  },
  {
   "cell_type": "markdown",
   "metadata": {},
   "source": [
    "feature catégorie_ordinal"
   ]
  },
  {
   "cell_type": "code",
   "execution_count": 32,
   "metadata": {},
   "outputs": [],
   "source": [
    "ord_feature = ['delay']"
   ]
  },
  {
   "cell_type": "code",
   "execution_count": 33,
   "metadata": {},
   "outputs": [],
   "source": [
    "transfo_ord_disc = Pipeline(steps = [\n",
    "    ('discretisation', KBinsDiscretizer(n_bins=5, encode='ordinal', strategy='quantile')) #discrétisation\n",
    "])"
   ]
  },
  {
   "cell_type": "markdown",
   "metadata": {},
   "source": [
    "pre_process_pipeline"
   ]
  },
  {
   "cell_type": "code",
   "execution_count": 34,
   "metadata": {},
   "outputs": [],
   "source": [
    "pre_process = ColumnTransformer(\n",
    "    transformers = [\n",
    "        ('quanti', transfo_quanti, quanti_feature),\n",
    "        ('categorical', transfo_categorical, categorical_feature),\n",
    "        ('ord', transfo_ord_disc, ord_feature), \n",
    "        ('quanti_log', transfo_quanti_log, quanti_feature_log)\n",
    "    ])"
   ]
  },
  {
   "cell_type": "markdown",
   "metadata": {},
   "source": [
    "# machine learning pipeline"
   ]
  },
  {
   "cell_type": "code",
   "execution_count": 35,
   "metadata": {},
   "outputs": [],
   "source": [
    "model = Pipeline(steps = [('pre_process', pre_process), \n",
    "                           ('knn', KNeighborsClassifier()) ])"
   ]
  },
  {
   "cell_type": "code",
   "execution_count": 36,
   "metadata": {},
   "outputs": [],
   "source": [
    "#param_grid selon le modèle\n",
    "#knn\n",
    "param_grid_knn = [\n",
    "                {\n",
    "    'knn__n_neighbors' : [1,2,3,4,5,6,7,8,9,10,11,12, 13, 14, 15],\n",
    "    }]\n",
    "\n",
    "#Paramètres pour autres modèles\n",
    "#Régréssion Log\n",
    "param_grid_log = [\n",
    "                {\n",
    "    'rlog__solver' : ['liblinear', 'newton-cg', 'lbfgs'],\n",
    "    'rlog__penalty' : ['l2'], #tenter une l1\n",
    "    'rlog__C' : [0.01, 0.1, 0.5, 1.0, 10, 50, 100]\n",
    "}, \n",
    "                {\n",
    "    'rlog__solver' : ['liblinear', 'newton-cg', 'lbfgs'],\n",
    "    'rlog__C' : [0.01, 0.1, 0.5, 1.0, 10, 50, 100]\n",
    "},\n",
    "                {\n",
    "    'rlog__solver' : ['liblinear'],\n",
    "    'rlog__penalty' : ['l1'], #tenter une l1\n",
    "    'rlog__C' : [0.01, 0.1, 0.5, 1.0, 10, 50, 100]\n",
    "},\n",
    "                {\n",
    "    'rlog__solver' : ['saga'],\n",
    "    'rlog__penalty' : ['elasticnet'], #tenter une l1\n",
    "    'rlog__C' : [0.01, 0.1, 0.5, 1.0, 10, 50, 100],\n",
    "    'rlog__l1_ratio' : [0.2, 0.5, 0.7]\n",
    "    }]\n",
    "\n",
    "#GradientBoostingClassifier\n",
    "\n",
    "param_grid_gb = [\n",
    "                {\n",
    "    'gb__n_estimators' : [10, 50, 100, 150],\n",
    "    'gb__min_samples_split'  : [2, 4, 7, 10]\n",
    "    }]\n",
    "\n",
    "param_grid_svc = [\n",
    "                {\n",
    "    'svc__kernel' : ['linear', 'sigmoid'],\n",
    "    'svc__C' : [0.01, 0.1, 1, 5, 10, 50]\n",
    "    }]\n",
    "\n",
    "\n",
    "scores = ['roc_auc', 'accuracy', 'recall', 'f1'] # 'f1', 'accuracy'"
   ]
  },
  {
   "cell_type": "code",
   "execution_count": 37,
   "metadata": {},
   "outputs": [
    {
     "name": "stdout",
     "output_type": "stream",
     "text": [
      "Hyperparamètres testés\n"
     ]
    },
    {
     "data": {
      "text/plain": [
       "[{'knn__n_neighbors': [1, 2, 3, 4, 5, 6, 7, 8, 9, 10, 11, 12, 13, 14, 15]}]"
      ]
     },
     "execution_count": 37,
     "metadata": {},
     "output_type": "execute_result"
    }
   ],
   "source": [
    "print('Hyperparamètres testés')\n",
    "param_grid_knn"
   ]
  },
  {
   "cell_type": "code",
   "execution_count": 38,
   "metadata": {},
   "outputs": [],
   "source": [
    "grid_search = GridSearchCV(estimator = model, param_grid = param_grid_knn, cv = 7,\n",
    "                           n_jobs = -1, scoring = scores, verbose = 1, refit = False,\n",
    "                           return_train_score = True, error_score = 'raise') #cv 3, 5, 10, pas bcp de données.."
   ]
  },
  {
   "cell_type": "markdown",
   "metadata": {},
   "source": [
    "FEATURES CONSERVEES POUR LA CONSTRUCTION DU MODELE"
   ]
  },
  {
   "cell_type": "code",
   "execution_count": 39,
   "metadata": {},
   "outputs": [],
   "source": [
    "features = ['age','int_ext', 'delay', 'ACL', 'IMC', 'new_BH']\n",
    "x = data[features]"
   ]
  },
  {
   "cell_type": "code",
   "execution_count": 40,
   "metadata": {},
   "outputs": [],
   "source": [
    "y = data['reprise']"
   ]
  },
  {
   "cell_type": "code",
   "execution_count": 41,
   "metadata": {},
   "outputs": [
    {
     "data": {
      "text/html": [
       "<div>\n",
       "<style scoped>\n",
       "    .dataframe tbody tr th:only-of-type {\n",
       "        vertical-align: middle;\n",
       "    }\n",
       "\n",
       "    .dataframe tbody tr th {\n",
       "        vertical-align: top;\n",
       "    }\n",
       "\n",
       "    .dataframe thead th {\n",
       "        text-align: right;\n",
       "    }\n",
       "</style>\n",
       "<table border=\"1\" class=\"dataframe\">\n",
       "  <thead>\n",
       "    <tr style=\"text-align: right;\">\n",
       "      <th></th>\n",
       "      <th>age</th>\n",
       "      <th>int_ext</th>\n",
       "      <th>delay</th>\n",
       "      <th>ACL</th>\n",
       "      <th>IMC</th>\n",
       "      <th>new_BH</th>\n",
       "    </tr>\n",
       "  </thead>\n",
       "  <tbody>\n",
       "    <tr>\n",
       "      <td>0</td>\n",
       "      <td>17.0</td>\n",
       "      <td>0.0</td>\n",
       "      <td>30.0</td>\n",
       "      <td>1.0</td>\n",
       "      <td>21.604938</td>\n",
       "      <td>0.0</td>\n",
       "    </tr>\n",
       "    <tr>\n",
       "      <td>1</td>\n",
       "      <td>17.0</td>\n",
       "      <td>1.0</td>\n",
       "      <td>30.0</td>\n",
       "      <td>1.0</td>\n",
       "      <td>21.604938</td>\n",
       "      <td>0.0</td>\n",
       "    </tr>\n",
       "    <tr>\n",
       "      <td>2</td>\n",
       "      <td>35.0</td>\n",
       "      <td>1.0</td>\n",
       "      <td>14.0</td>\n",
       "      <td>1.0</td>\n",
       "      <td>19.151585</td>\n",
       "      <td>0.0</td>\n",
       "    </tr>\n",
       "    <tr>\n",
       "      <td>3</td>\n",
       "      <td>24.0</td>\n",
       "      <td>0.0</td>\n",
       "      <td>30.0</td>\n",
       "      <td>1.0</td>\n",
       "      <td>24.772097</td>\n",
       "      <td>1.0</td>\n",
       "    </tr>\n",
       "    <tr>\n",
       "      <td>4</td>\n",
       "      <td>16.0</td>\n",
       "      <td>0.0</td>\n",
       "      <td>270.0</td>\n",
       "      <td>0.0</td>\n",
       "      <td>21.007668</td>\n",
       "      <td>0.0</td>\n",
       "    </tr>\n",
       "  </tbody>\n",
       "</table>\n",
       "</div>"
      ],
      "text/plain": [
       "    age  int_ext  delay  ACL        IMC  new_BH\n",
       "0  17.0      0.0   30.0  1.0  21.604938     0.0\n",
       "1  17.0      1.0   30.0  1.0  21.604938     0.0\n",
       "2  35.0      1.0   14.0  1.0  19.151585     0.0\n",
       "3  24.0      0.0   30.0  1.0  24.772097     1.0\n",
       "4  16.0      0.0  270.0  0.0  21.007668     0.0"
      ]
     },
     "execution_count": 41,
     "metadata": {},
     "output_type": "execute_result"
    }
   ],
   "source": [
    "x.head()"
   ]
  },
  {
   "cell_type": "markdown",
   "metadata": {},
   "source": [
    "A la rechercher des meilleurs paramètres..."
   ]
  },
  {
   "cell_type": "code",
   "execution_count": 42,
   "metadata": {
    "scrolled": true
   },
   "outputs": [
    {
     "name": "stdout",
     "output_type": "stream",
     "text": [
      "Fitting 7 folds for each of 15 candidates, totalling 105 fits\n"
     ]
    },
    {
     "name": "stderr",
     "output_type": "stream",
     "text": [
      "[Parallel(n_jobs=-1)]: Using backend LokyBackend with 4 concurrent workers.\n",
      "[Parallel(n_jobs=-1)]: Done  42 tasks      | elapsed:    4.7s\n",
      "[Parallel(n_jobs=-1)]: Done 105 out of 105 | elapsed:    7.3s finished\n"
     ]
    },
    {
     "data": {
      "text/plain": [
       "GridSearchCV(cv=7, error_score='raise',\n",
       "             estimator=Pipeline(memory=None,\n",
       "                                steps=[('pre_process',\n",
       "                                        ColumnTransformer(n_jobs=None,\n",
       "                                                          remainder='drop',\n",
       "                                                          sparse_threshold=0.3,\n",
       "                                                          transformer_weights=None,\n",
       "                                                          transformers=[('quanti',\n",
       "                                                                         Pipeline(memory=None,\n",
       "                                                                                  steps=[('normalisation',\n",
       "                                                                                          StandardScaler(copy=True,\n",
       "                                                                                                         with_mean=True,\n",
       "                                                                                                         with_std=True))],\n",
       "                                                                                  verbose=False),\n",
       "                                                                         ['IMC']),\n",
       "                                                                        ('categorical',\n",
       "                                                                         P...\n",
       "                                        KNeighborsClassifier(algorithm='auto',\n",
       "                                                             leaf_size=30,\n",
       "                                                             metric='minkowski',\n",
       "                                                             metric_params=None,\n",
       "                                                             n_jobs=None,\n",
       "                                                             n_neighbors=5, p=2,\n",
       "                                                             weights='uniform'))],\n",
       "                                verbose=False),\n",
       "             iid='deprecated', n_jobs=-1,\n",
       "             param_grid=[{'knn__n_neighbors': [1, 2, 3, 4, 5, 6, 7, 8, 9, 10,\n",
       "                                               11, 12, 13, 14, 15]}],\n",
       "             pre_dispatch='2*n_jobs', refit=False, return_train_score=True,\n",
       "             scoring=['roc_auc', 'accuracy', 'recall', 'f1'], verbose=1)"
      ]
     },
     "execution_count": 42,
     "metadata": {},
     "output_type": "execute_result"
    }
   ],
   "source": [
    "grid_search.fit(x, y)"
   ]
  },
  {
   "cell_type": "code",
   "execution_count": 43,
   "metadata": {},
   "outputs": [],
   "source": [
    "#df résumant les résultats (scores, score pour chaque split)\n",
    "dic_results = grid_search.cv_results_\n",
    "df_results = pd.DataFrame(data = dic_results).sort_values(by = ['rank_test_f1', 'rank_test_accuracy', \n",
    "                                                                'rank_test_roc_auc'])\n",
    "df_results = df_results.iloc[:,8:]"
   ]
  },
  {
   "cell_type": "code",
   "execution_count": 44,
   "metadata": {
    "scrolled": true
   },
   "outputs": [
    {
     "data": {
      "text/html": [
       "<div>\n",
       "<style scoped>\n",
       "    .dataframe tbody tr th:only-of-type {\n",
       "        vertical-align: middle;\n",
       "    }\n",
       "\n",
       "    .dataframe tbody tr th {\n",
       "        vertical-align: top;\n",
       "    }\n",
       "\n",
       "    .dataframe thead th {\n",
       "        text-align: right;\n",
       "    }\n",
       "</style>\n",
       "<table border=\"1\" class=\"dataframe\">\n",
       "  <thead>\n",
       "    <tr style=\"text-align: right;\">\n",
       "      <th></th>\n",
       "      <th>split2_test_roc_auc</th>\n",
       "      <th>split3_test_roc_auc</th>\n",
       "      <th>split4_test_roc_auc</th>\n",
       "      <th>split5_test_roc_auc</th>\n",
       "      <th>split6_test_roc_auc</th>\n",
       "      <th>mean_test_roc_auc</th>\n",
       "      <th>std_test_roc_auc</th>\n",
       "      <th>rank_test_roc_auc</th>\n",
       "      <th>split0_train_roc_auc</th>\n",
       "      <th>split1_train_roc_auc</th>\n",
       "      <th>...</th>\n",
       "      <th>rank_test_f1</th>\n",
       "      <th>split0_train_f1</th>\n",
       "      <th>split1_train_f1</th>\n",
       "      <th>split2_train_f1</th>\n",
       "      <th>split3_train_f1</th>\n",
       "      <th>split4_train_f1</th>\n",
       "      <th>split5_train_f1</th>\n",
       "      <th>split6_train_f1</th>\n",
       "      <th>mean_train_f1</th>\n",
       "      <th>std_train_f1</th>\n",
       "    </tr>\n",
       "  </thead>\n",
       "  <tbody>\n",
       "    <tr>\n",
       "      <td>4</td>\n",
       "      <td>0.844444</td>\n",
       "      <td>0.827778</td>\n",
       "      <td>1.000000</td>\n",
       "      <td>0.716049</td>\n",
       "      <td>0.759259</td>\n",
       "      <td>0.801235</td>\n",
       "      <td>0.136467</td>\n",
       "      <td>4</td>\n",
       "      <td>0.942532</td>\n",
       "      <td>0.907630</td>\n",
       "      <td>...</td>\n",
       "      <td>1</td>\n",
       "      <td>0.877193</td>\n",
       "      <td>0.845528</td>\n",
       "      <td>0.830508</td>\n",
       "      <td>0.833333</td>\n",
       "      <td>0.829268</td>\n",
       "      <td>0.844828</td>\n",
       "      <td>0.824561</td>\n",
       "      <td>0.840746</td>\n",
       "      <td>0.016567</td>\n",
       "    </tr>\n",
       "    <tr>\n",
       "      <td>6</td>\n",
       "      <td>0.838889</td>\n",
       "      <td>0.788889</td>\n",
       "      <td>0.987654</td>\n",
       "      <td>0.783951</td>\n",
       "      <td>0.833333</td>\n",
       "      <td>0.813404</td>\n",
       "      <td>0.117561</td>\n",
       "      <td>2</td>\n",
       "      <td>0.927273</td>\n",
       "      <td>0.885390</td>\n",
       "      <td>...</td>\n",
       "      <td>2</td>\n",
       "      <td>0.840336</td>\n",
       "      <td>0.829268</td>\n",
       "      <td>0.827586</td>\n",
       "      <td>0.817391</td>\n",
       "      <td>0.819672</td>\n",
       "      <td>0.831858</td>\n",
       "      <td>0.796460</td>\n",
       "      <td>0.823225</td>\n",
       "      <td>0.013016</td>\n",
       "    </tr>\n",
       "    <tr>\n",
       "      <td>10</td>\n",
       "      <td>0.877778</td>\n",
       "      <td>0.794444</td>\n",
       "      <td>1.000000</td>\n",
       "      <td>0.734568</td>\n",
       "      <td>0.753086</td>\n",
       "      <td>0.799824</td>\n",
       "      <td>0.128552</td>\n",
       "      <td>5</td>\n",
       "      <td>0.881981</td>\n",
       "      <td>0.845617</td>\n",
       "      <td>...</td>\n",
       "      <td>3</td>\n",
       "      <td>0.769231</td>\n",
       "      <td>0.739496</td>\n",
       "      <td>0.769231</td>\n",
       "      <td>0.736842</td>\n",
       "      <td>0.717949</td>\n",
       "      <td>0.810811</td>\n",
       "      <td>0.789474</td>\n",
       "      <td>0.761862</td>\n",
       "      <td>0.030051</td>\n",
       "    </tr>\n",
       "    <tr>\n",
       "      <td>3</td>\n",
       "      <td>0.838889</td>\n",
       "      <td>0.833333</td>\n",
       "      <td>1.000000</td>\n",
       "      <td>0.740741</td>\n",
       "      <td>0.790123</td>\n",
       "      <td>0.814727</td>\n",
       "      <td>0.131515</td>\n",
       "      <td>1</td>\n",
       "      <td>0.953734</td>\n",
       "      <td>0.921266</td>\n",
       "      <td>...</td>\n",
       "      <td>4</td>\n",
       "      <td>0.859813</td>\n",
       "      <td>0.849558</td>\n",
       "      <td>0.841121</td>\n",
       "      <td>0.825688</td>\n",
       "      <td>0.800000</td>\n",
       "      <td>0.780952</td>\n",
       "      <td>0.826923</td>\n",
       "      <td>0.826294</td>\n",
       "      <td>0.025725</td>\n",
       "    </tr>\n",
       "    <tr>\n",
       "      <td>9</td>\n",
       "      <td>0.872222</td>\n",
       "      <td>0.772222</td>\n",
       "      <td>1.000000</td>\n",
       "      <td>0.740741</td>\n",
       "      <td>0.734568</td>\n",
       "      <td>0.793298</td>\n",
       "      <td>0.138655</td>\n",
       "      <td>6</td>\n",
       "      <td>0.893019</td>\n",
       "      <td>0.845130</td>\n",
       "      <td>...</td>\n",
       "      <td>5</td>\n",
       "      <td>0.792793</td>\n",
       "      <td>0.732143</td>\n",
       "      <td>0.750000</td>\n",
       "      <td>0.763636</td>\n",
       "      <td>0.750000</td>\n",
       "      <td>0.803738</td>\n",
       "      <td>0.781818</td>\n",
       "      <td>0.767733</td>\n",
       "      <td>0.024009</td>\n",
       "    </tr>\n",
       "    <tr>\n",
       "      <td>14</td>\n",
       "      <td>0.838889</td>\n",
       "      <td>0.722222</td>\n",
       "      <td>1.000000</td>\n",
       "      <td>0.746914</td>\n",
       "      <td>0.734568</td>\n",
       "      <td>0.782275</td>\n",
       "      <td>0.129981</td>\n",
       "      <td>11</td>\n",
       "      <td>0.871429</td>\n",
       "      <td>0.802760</td>\n",
       "      <td>...</td>\n",
       "      <td>6</td>\n",
       "      <td>0.793103</td>\n",
       "      <td>0.724138</td>\n",
       "      <td>0.730435</td>\n",
       "      <td>0.745455</td>\n",
       "      <td>0.736842</td>\n",
       "      <td>0.761905</td>\n",
       "      <td>0.765217</td>\n",
       "      <td>0.751014</td>\n",
       "      <td>0.022263</td>\n",
       "    </tr>\n",
       "    <tr>\n",
       "      <td>2</td>\n",
       "      <td>0.744444</td>\n",
       "      <td>0.866667</td>\n",
       "      <td>0.962963</td>\n",
       "      <td>0.728395</td>\n",
       "      <td>0.679012</td>\n",
       "      <td>0.787831</td>\n",
       "      <td>0.129972</td>\n",
       "      <td>7</td>\n",
       "      <td>0.954870</td>\n",
       "      <td>0.923377</td>\n",
       "      <td>...</td>\n",
       "      <td>7</td>\n",
       "      <td>0.859649</td>\n",
       "      <td>0.837607</td>\n",
       "      <td>0.859649</td>\n",
       "      <td>0.830508</td>\n",
       "      <td>0.817391</td>\n",
       "      <td>0.803571</td>\n",
       "      <td>0.849558</td>\n",
       "      <td>0.836848</td>\n",
       "      <td>0.019741</td>\n",
       "    </tr>\n",
       "    <tr>\n",
       "      <td>5</td>\n",
       "      <td>0.850000</td>\n",
       "      <td>0.811111</td>\n",
       "      <td>1.000000</td>\n",
       "      <td>0.740741</td>\n",
       "      <td>0.796296</td>\n",
       "      <td>0.806878</td>\n",
       "      <td>0.127890</td>\n",
       "      <td>3</td>\n",
       "      <td>0.935877</td>\n",
       "      <td>0.889448</td>\n",
       "      <td>...</td>\n",
       "      <td>8</td>\n",
       "      <td>0.862385</td>\n",
       "      <td>0.830508</td>\n",
       "      <td>0.828829</td>\n",
       "      <td>0.803571</td>\n",
       "      <td>0.774775</td>\n",
       "      <td>0.785047</td>\n",
       "      <td>0.792453</td>\n",
       "      <td>0.811081</td>\n",
       "      <td>0.028595</td>\n",
       "    </tr>\n",
       "    <tr>\n",
       "      <td>7</td>\n",
       "      <td>0.816667</td>\n",
       "      <td>0.711111</td>\n",
       "      <td>1.000000</td>\n",
       "      <td>0.765432</td>\n",
       "      <td>0.796296</td>\n",
       "      <td>0.787390</td>\n",
       "      <td>0.126757</td>\n",
       "      <td>8</td>\n",
       "      <td>0.904545</td>\n",
       "      <td>0.869156</td>\n",
       "      <td>...</td>\n",
       "      <td>9</td>\n",
       "      <td>0.807018</td>\n",
       "      <td>0.777778</td>\n",
       "      <td>0.788991</td>\n",
       "      <td>0.770642</td>\n",
       "      <td>0.770642</td>\n",
       "      <td>0.803738</td>\n",
       "      <td>0.788991</td>\n",
       "      <td>0.786829</td>\n",
       "      <td>0.013674</td>\n",
       "    </tr>\n",
       "    <tr>\n",
       "      <td>12</td>\n",
       "      <td>0.850000</td>\n",
       "      <td>0.727778</td>\n",
       "      <td>1.000000</td>\n",
       "      <td>0.759259</td>\n",
       "      <td>0.746914</td>\n",
       "      <td>0.781041</td>\n",
       "      <td>0.127217</td>\n",
       "      <td>12</td>\n",
       "      <td>0.875487</td>\n",
       "      <td>0.830032</td>\n",
       "      <td>...</td>\n",
       "      <td>10</td>\n",
       "      <td>0.775862</td>\n",
       "      <td>0.706897</td>\n",
       "      <td>0.747826</td>\n",
       "      <td>0.750000</td>\n",
       "      <td>0.700855</td>\n",
       "      <td>0.818182</td>\n",
       "      <td>0.771930</td>\n",
       "      <td>0.753079</td>\n",
       "      <td>0.037815</td>\n",
       "    </tr>\n",
       "    <tr>\n",
       "      <td>8</td>\n",
       "      <td>0.833333</td>\n",
       "      <td>0.722222</td>\n",
       "      <td>1.000000</td>\n",
       "      <td>0.734568</td>\n",
       "      <td>0.746914</td>\n",
       "      <td>0.785450</td>\n",
       "      <td>0.126808</td>\n",
       "      <td>10</td>\n",
       "      <td>0.894968</td>\n",
       "      <td>0.858117</td>\n",
       "      <td>...</td>\n",
       "      <td>11</td>\n",
       "      <td>0.806723</td>\n",
       "      <td>0.769231</td>\n",
       "      <td>0.786325</td>\n",
       "      <td>0.782609</td>\n",
       "      <td>0.765217</td>\n",
       "      <td>0.796460</td>\n",
       "      <td>0.789474</td>\n",
       "      <td>0.785148</td>\n",
       "      <td>0.013473</td>\n",
       "    </tr>\n",
       "    <tr>\n",
       "      <td>0</td>\n",
       "      <td>0.577778</td>\n",
       "      <td>0.788889</td>\n",
       "      <td>0.888889</td>\n",
       "      <td>0.777778</td>\n",
       "      <td>0.611111</td>\n",
       "      <td>0.701587</td>\n",
       "      <td>0.123075</td>\n",
       "      <td>15</td>\n",
       "      <td>1.000000</td>\n",
       "      <td>1.000000</td>\n",
       "      <td>...</td>\n",
       "      <td>12</td>\n",
       "      <td>1.000000</td>\n",
       "      <td>1.000000</td>\n",
       "      <td>1.000000</td>\n",
       "      <td>1.000000</td>\n",
       "      <td>1.000000</td>\n",
       "      <td>1.000000</td>\n",
       "      <td>1.000000</td>\n",
       "      <td>1.000000</td>\n",
       "      <td>0.000000</td>\n",
       "    </tr>\n",
       "    <tr>\n",
       "      <td>13</td>\n",
       "      <td>0.838889</td>\n",
       "      <td>0.716667</td>\n",
       "      <td>1.000000</td>\n",
       "      <td>0.734568</td>\n",
       "      <td>0.728395</td>\n",
       "      <td>0.778836</td>\n",
       "      <td>0.133189</td>\n",
       "      <td>13</td>\n",
       "      <td>0.877760</td>\n",
       "      <td>0.818344</td>\n",
       "      <td>...</td>\n",
       "      <td>13</td>\n",
       "      <td>0.789474</td>\n",
       "      <td>0.714286</td>\n",
       "      <td>0.750000</td>\n",
       "      <td>0.745455</td>\n",
       "      <td>0.709091</td>\n",
       "      <td>0.757282</td>\n",
       "      <td>0.767857</td>\n",
       "      <td>0.747635</td>\n",
       "      <td>0.026351</td>\n",
       "    </tr>\n",
       "    <tr>\n",
       "      <td>11</td>\n",
       "      <td>0.877778</td>\n",
       "      <td>0.733333</td>\n",
       "      <td>1.000000</td>\n",
       "      <td>0.765432</td>\n",
       "      <td>0.740741</td>\n",
       "      <td>0.786596</td>\n",
       "      <td>0.126368</td>\n",
       "      <td>9</td>\n",
       "      <td>0.874351</td>\n",
       "      <td>0.834578</td>\n",
       "      <td>...</td>\n",
       "      <td>14</td>\n",
       "      <td>0.767857</td>\n",
       "      <td>0.719298</td>\n",
       "      <td>0.750000</td>\n",
       "      <td>0.750000</td>\n",
       "      <td>0.720721</td>\n",
       "      <td>0.803738</td>\n",
       "      <td>0.767857</td>\n",
       "      <td>0.754210</td>\n",
       "      <td>0.027259</td>\n",
       "    </tr>\n",
       "    <tr>\n",
       "      <td>1</td>\n",
       "      <td>0.688889</td>\n",
       "      <td>0.861111</td>\n",
       "      <td>0.876543</td>\n",
       "      <td>0.765432</td>\n",
       "      <td>0.672840</td>\n",
       "      <td>0.753704</td>\n",
       "      <td>0.136944</td>\n",
       "      <td>14</td>\n",
       "      <td>0.975162</td>\n",
       "      <td>0.945455</td>\n",
       "      <td>...</td>\n",
       "      <td>15</td>\n",
       "      <td>0.912621</td>\n",
       "      <td>0.857143</td>\n",
       "      <td>0.865979</td>\n",
       "      <td>0.829787</td>\n",
       "      <td>0.821053</td>\n",
       "      <td>0.833333</td>\n",
       "      <td>0.845361</td>\n",
       "      <td>0.852183</td>\n",
       "      <td>0.028636</td>\n",
       "    </tr>\n",
       "  </tbody>\n",
       "</table>\n",
       "<p>15 rows × 74 columns</p>\n",
       "</div>"
      ],
      "text/plain": [
       "    split2_test_roc_auc  split3_test_roc_auc  split4_test_roc_auc  \\\n",
       "4              0.844444             0.827778             1.000000   \n",
       "6              0.838889             0.788889             0.987654   \n",
       "10             0.877778             0.794444             1.000000   \n",
       "3              0.838889             0.833333             1.000000   \n",
       "9              0.872222             0.772222             1.000000   \n",
       "14             0.838889             0.722222             1.000000   \n",
       "2              0.744444             0.866667             0.962963   \n",
       "5              0.850000             0.811111             1.000000   \n",
       "7              0.816667             0.711111             1.000000   \n",
       "12             0.850000             0.727778             1.000000   \n",
       "8              0.833333             0.722222             1.000000   \n",
       "0              0.577778             0.788889             0.888889   \n",
       "13             0.838889             0.716667             1.000000   \n",
       "11             0.877778             0.733333             1.000000   \n",
       "1              0.688889             0.861111             0.876543   \n",
       "\n",
       "    split5_test_roc_auc  split6_test_roc_auc  mean_test_roc_auc  \\\n",
       "4              0.716049             0.759259           0.801235   \n",
       "6              0.783951             0.833333           0.813404   \n",
       "10             0.734568             0.753086           0.799824   \n",
       "3              0.740741             0.790123           0.814727   \n",
       "9              0.740741             0.734568           0.793298   \n",
       "14             0.746914             0.734568           0.782275   \n",
       "2              0.728395             0.679012           0.787831   \n",
       "5              0.740741             0.796296           0.806878   \n",
       "7              0.765432             0.796296           0.787390   \n",
       "12             0.759259             0.746914           0.781041   \n",
       "8              0.734568             0.746914           0.785450   \n",
       "0              0.777778             0.611111           0.701587   \n",
       "13             0.734568             0.728395           0.778836   \n",
       "11             0.765432             0.740741           0.786596   \n",
       "1              0.765432             0.672840           0.753704   \n",
       "\n",
       "    std_test_roc_auc  rank_test_roc_auc  split0_train_roc_auc  \\\n",
       "4           0.136467                  4              0.942532   \n",
       "6           0.117561                  2              0.927273   \n",
       "10          0.128552                  5              0.881981   \n",
       "3           0.131515                  1              0.953734   \n",
       "9           0.138655                  6              0.893019   \n",
       "14          0.129981                 11              0.871429   \n",
       "2           0.129972                  7              0.954870   \n",
       "5           0.127890                  3              0.935877   \n",
       "7           0.126757                  8              0.904545   \n",
       "12          0.127217                 12              0.875487   \n",
       "8           0.126808                 10              0.894968   \n",
       "0           0.123075                 15              1.000000   \n",
       "13          0.133189                 13              0.877760   \n",
       "11          0.126368                  9              0.874351   \n",
       "1           0.136944                 14              0.975162   \n",
       "\n",
       "    split1_train_roc_auc  ...  rank_test_f1  split0_train_f1  split1_train_f1  \\\n",
       "4               0.907630  ...             1         0.877193         0.845528   \n",
       "6               0.885390  ...             2         0.840336         0.829268   \n",
       "10              0.845617  ...             3         0.769231         0.739496   \n",
       "3               0.921266  ...             4         0.859813         0.849558   \n",
       "9               0.845130  ...             5         0.792793         0.732143   \n",
       "14              0.802760  ...             6         0.793103         0.724138   \n",
       "2               0.923377  ...             7         0.859649         0.837607   \n",
       "5               0.889448  ...             8         0.862385         0.830508   \n",
       "7               0.869156  ...             9         0.807018         0.777778   \n",
       "12              0.830032  ...            10         0.775862         0.706897   \n",
       "8               0.858117  ...            11         0.806723         0.769231   \n",
       "0               1.000000  ...            12         1.000000         1.000000   \n",
       "13              0.818344  ...            13         0.789474         0.714286   \n",
       "11              0.834578  ...            14         0.767857         0.719298   \n",
       "1               0.945455  ...            15         0.912621         0.857143   \n",
       "\n",
       "    split2_train_f1  split3_train_f1  split4_train_f1  split5_train_f1  \\\n",
       "4          0.830508         0.833333         0.829268         0.844828   \n",
       "6          0.827586         0.817391         0.819672         0.831858   \n",
       "10         0.769231         0.736842         0.717949         0.810811   \n",
       "3          0.841121         0.825688         0.800000         0.780952   \n",
       "9          0.750000         0.763636         0.750000         0.803738   \n",
       "14         0.730435         0.745455         0.736842         0.761905   \n",
       "2          0.859649         0.830508         0.817391         0.803571   \n",
       "5          0.828829         0.803571         0.774775         0.785047   \n",
       "7          0.788991         0.770642         0.770642         0.803738   \n",
       "12         0.747826         0.750000         0.700855         0.818182   \n",
       "8          0.786325         0.782609         0.765217         0.796460   \n",
       "0          1.000000         1.000000         1.000000         1.000000   \n",
       "13         0.750000         0.745455         0.709091         0.757282   \n",
       "11         0.750000         0.750000         0.720721         0.803738   \n",
       "1          0.865979         0.829787         0.821053         0.833333   \n",
       "\n",
       "    split6_train_f1  mean_train_f1  std_train_f1  \n",
       "4          0.824561       0.840746      0.016567  \n",
       "6          0.796460       0.823225      0.013016  \n",
       "10         0.789474       0.761862      0.030051  \n",
       "3          0.826923       0.826294      0.025725  \n",
       "9          0.781818       0.767733      0.024009  \n",
       "14         0.765217       0.751014      0.022263  \n",
       "2          0.849558       0.836848      0.019741  \n",
       "5          0.792453       0.811081      0.028595  \n",
       "7          0.788991       0.786829      0.013674  \n",
       "12         0.771930       0.753079      0.037815  \n",
       "8          0.789474       0.785148      0.013473  \n",
       "0          1.000000       1.000000      0.000000  \n",
       "13         0.767857       0.747635      0.026351  \n",
       "11         0.767857       0.754210      0.027259  \n",
       "1          0.845361       0.852183      0.028636  \n",
       "\n",
       "[15 rows x 74 columns]"
      ]
     },
     "execution_count": 44,
     "metadata": {},
     "output_type": "execute_result"
    }
   ],
   "source": [
    "df_results"
   ]
  },
  {
   "cell_type": "markdown",
   "metadata": {},
   "source": [
    "# Analyse Overfiiting"
   ]
  },
  {
   "cell_type": "code",
   "execution_count": 45,
   "metadata": {},
   "outputs": [
    {
     "name": "stdout",
     "output_type": "stream",
     "text": [
      "15 modèles analysés\n",
      "Modèles triés par ordre f1, accuracy, roc_auc - dans l'ordre décroissant\n"
     ]
    }
   ],
   "source": [
    "print('{} modèles analysés'.format(df_results.shape[0]))\n",
    "print('Modèles triés par ordre f1, accuracy, roc_auc - dans l\\'ordre décroissant')"
   ]
  },
  {
   "cell_type": "code",
   "execution_count": 46,
   "metadata": {},
   "outputs": [
    {
     "data": {
      "text/html": [
       "<div>\n",
       "<style scoped>\n",
       "    .dataframe tbody tr th:only-of-type {\n",
       "        vertical-align: middle;\n",
       "    }\n",
       "\n",
       "    .dataframe tbody tr th {\n",
       "        vertical-align: top;\n",
       "    }\n",
       "\n",
       "    .dataframe thead th {\n",
       "        text-align: right;\n",
       "    }\n",
       "</style>\n",
       "<table border=\"1\" class=\"dataframe\">\n",
       "  <thead>\n",
       "    <tr style=\"text-align: right;\">\n",
       "      <th></th>\n",
       "      <th>mean_test_roc_auc</th>\n",
       "      <th>mean_train_roc_auc</th>\n",
       "      <th>rank_test_roc_auc</th>\n",
       "      <th>mean_test_f1</th>\n",
       "      <th>mean_train_f1</th>\n",
       "      <th>rank_test_f1</th>\n",
       "      <th>mean_test_accuracy</th>\n",
       "      <th>mean_train_accuracy</th>\n",
       "      <th>rank_test_accuracy</th>\n",
       "    </tr>\n",
       "  </thead>\n",
       "  <tbody>\n",
       "    <tr>\n",
       "      <td>4</td>\n",
       "      <td>0.801235</td>\n",
       "      <td>0.910023</td>\n",
       "      <td>4</td>\n",
       "      <td>0.797732</td>\n",
       "      <td>0.840746</td>\n",
       "      <td>1</td>\n",
       "      <td>0.784461</td>\n",
       "      <td>0.830794</td>\n",
       "      <td>1</td>\n",
       "    </tr>\n",
       "    <tr>\n",
       "      <td>6</td>\n",
       "      <td>0.813404</td>\n",
       "      <td>0.888392</td>\n",
       "      <td>2</td>\n",
       "      <td>0.768682</td>\n",
       "      <td>0.823225</td>\n",
       "      <td>2</td>\n",
       "      <td>0.761905</td>\n",
       "      <td>0.814120</td>\n",
       "      <td>2</td>\n",
       "    </tr>\n",
       "    <tr>\n",
       "      <td>10</td>\n",
       "      <td>0.799824</td>\n",
       "      <td>0.851895</td>\n",
       "      <td>5</td>\n",
       "      <td>0.755102</td>\n",
       "      <td>0.761862</td>\n",
       "      <td>3</td>\n",
       "      <td>0.738513</td>\n",
       "      <td>0.752505</td>\n",
       "      <td>6</td>\n",
       "    </tr>\n",
       "    <tr>\n",
       "      <td>3</td>\n",
       "      <td>0.814727</td>\n",
       "      <td>0.923786</td>\n",
       "      <td>1</td>\n",
       "      <td>0.741738</td>\n",
       "      <td>0.826294</td>\n",
       "      <td>4</td>\n",
       "      <td>0.753968</td>\n",
       "      <td>0.833402</td>\n",
       "      <td>3</td>\n",
       "    </tr>\n",
       "    <tr>\n",
       "      <td>9</td>\n",
       "      <td>0.793298</td>\n",
       "      <td>0.859007</td>\n",
       "      <td>6</td>\n",
       "      <td>0.736007</td>\n",
       "      <td>0.767733</td>\n",
       "      <td>5</td>\n",
       "      <td>0.738931</td>\n",
       "      <td>0.769179</td>\n",
       "      <td>5</td>\n",
       "    </tr>\n",
       "  </tbody>\n",
       "</table>\n",
       "</div>"
      ],
      "text/plain": [
       "    mean_test_roc_auc  mean_train_roc_auc  rank_test_roc_auc  mean_test_f1  \\\n",
       "4            0.801235            0.910023                  4      0.797732   \n",
       "6            0.813404            0.888392                  2      0.768682   \n",
       "10           0.799824            0.851895                  5      0.755102   \n",
       "3            0.814727            0.923786                  1      0.741738   \n",
       "9            0.793298            0.859007                  6      0.736007   \n",
       "\n",
       "    mean_train_f1  rank_test_f1  mean_test_accuracy  mean_train_accuracy  \\\n",
       "4        0.840746             1            0.784461             0.830794   \n",
       "6        0.823225             2            0.761905             0.814120   \n",
       "10       0.761862             3            0.738513             0.752505   \n",
       "3        0.826294             4            0.753968             0.833402   \n",
       "9        0.767733             5            0.738931             0.769179   \n",
       "\n",
       "    rank_test_accuracy  \n",
       "4                    1  \n",
       "6                    2  \n",
       "10                   6  \n",
       "3                    3  \n",
       "9                    5  "
      ]
     },
     "execution_count": 46,
     "metadata": {},
     "output_type": "execute_result"
    }
   ],
   "source": [
    "df_scores_train_test = df_results[['mean_test_roc_auc', 'mean_train_roc_auc', 'rank_test_roc_auc',\n",
    "                                   'mean_test_f1', 'mean_train_f1', 'rank_test_f1', \n",
    "                                   'mean_test_accuracy', 'mean_train_accuracy', 'rank_test_accuracy']]\n",
    "df_scores_train_test.head()"
   ]
  },
  {
   "cell_type": "code",
   "execution_count": 47,
   "metadata": {},
   "outputs": [
    {
     "name": "stdout",
     "output_type": "stream",
     "text": [
      "Meilleurs modèles\n"
     ]
    },
    {
     "name": "stderr",
     "output_type": "stream",
     "text": [
      "C:\\Users\\Admin\\Anaconda3\\lib\\site-packages\\ipykernel_launcher.py:5: SettingWithCopyWarning: \n",
      "A value is trying to be set on a copy of a slice from a DataFrame.\n",
      "Try using .loc[row_indexer,col_indexer] = value instead\n",
      "\n",
      "See the caveats in the documentation: http://pandas.pydata.org/pandas-docs/stable/user_guide/indexing.html#returning-a-view-versus-a-copy\n",
      "  \"\"\"\n",
      "C:\\Users\\Admin\\Anaconda3\\lib\\site-packages\\ipykernel_launcher.py:11: SettingWithCopyWarning: \n",
      "A value is trying to be set on a copy of a slice from a DataFrame.\n",
      "Try using .loc[row_indexer,col_indexer] = value instead\n",
      "\n",
      "See the caveats in the documentation: http://pandas.pydata.org/pandas-docs/stable/user_guide/indexing.html#returning-a-view-versus-a-copy\n",
      "  # This is added back by InteractiveShellApp.init_path()\n"
     ]
    },
    {
     "data": {
      "text/html": [
       "<div>\n",
       "<style scoped>\n",
       "    .dataframe tbody tr th:only-of-type {\n",
       "        vertical-align: middle;\n",
       "    }\n",
       "\n",
       "    .dataframe tbody tr th {\n",
       "        vertical-align: top;\n",
       "    }\n",
       "\n",
       "    .dataframe thead th {\n",
       "        text-align: right;\n",
       "    }\n",
       "</style>\n",
       "<table border=\"1\" class=\"dataframe\">\n",
       "  <thead>\n",
       "    <tr style=\"text-align: right;\">\n",
       "      <th></th>\n",
       "      <th>score_roc_auc</th>\n",
       "      <th>rank_test_roc_auc</th>\n",
       "      <th>score_f1</th>\n",
       "      <th>rank_test_f1</th>\n",
       "      <th>score_accuracy</th>\n",
       "      <th>rank_test_accuracy</th>\n",
       "      <th>train/test</th>\n",
       "      <th>modele</th>\n",
       "    </tr>\n",
       "  </thead>\n",
       "  <tbody>\n",
       "    <tr>\n",
       "      <td>4</td>\n",
       "      <td>0.801235</td>\n",
       "      <td>4</td>\n",
       "      <td>0.797732</td>\n",
       "      <td>1</td>\n",
       "      <td>0.784461</td>\n",
       "      <td>1</td>\n",
       "      <td>test</td>\n",
       "      <td>4</td>\n",
       "    </tr>\n",
       "    <tr>\n",
       "      <td>6</td>\n",
       "      <td>0.813404</td>\n",
       "      <td>2</td>\n",
       "      <td>0.768682</td>\n",
       "      <td>2</td>\n",
       "      <td>0.761905</td>\n",
       "      <td>2</td>\n",
       "      <td>test</td>\n",
       "      <td>6</td>\n",
       "    </tr>\n",
       "    <tr>\n",
       "      <td>10</td>\n",
       "      <td>0.799824</td>\n",
       "      <td>5</td>\n",
       "      <td>0.755102</td>\n",
       "      <td>3</td>\n",
       "      <td>0.738513</td>\n",
       "      <td>6</td>\n",
       "      <td>test</td>\n",
       "      <td>10</td>\n",
       "    </tr>\n",
       "    <tr>\n",
       "      <td>3</td>\n",
       "      <td>0.814727</td>\n",
       "      <td>1</td>\n",
       "      <td>0.741738</td>\n",
       "      <td>4</td>\n",
       "      <td>0.753968</td>\n",
       "      <td>3</td>\n",
       "      <td>test</td>\n",
       "      <td>3</td>\n",
       "    </tr>\n",
       "    <tr>\n",
       "      <td>9</td>\n",
       "      <td>0.793298</td>\n",
       "      <td>6</td>\n",
       "      <td>0.736007</td>\n",
       "      <td>5</td>\n",
       "      <td>0.738931</td>\n",
       "      <td>5</td>\n",
       "      <td>test</td>\n",
       "      <td>9</td>\n",
       "    </tr>\n",
       "  </tbody>\n",
       "</table>\n",
       "</div>"
      ],
      "text/plain": [
       "    score_roc_auc  rank_test_roc_auc  score_f1  rank_test_f1  score_accuracy  \\\n",
       "4        0.801235                  4  0.797732             1        0.784461   \n",
       "6        0.813404                  2  0.768682             2        0.761905   \n",
       "10       0.799824                  5  0.755102             3        0.738513   \n",
       "3        0.814727                  1  0.741738             4        0.753968   \n",
       "9        0.793298                  6  0.736007             5        0.738931   \n",
       "\n",
       "    rank_test_accuracy train/test  modele  \n",
       "4                    1       test       4  \n",
       "6                    2       test       6  \n",
       "10                   6       test      10  \n",
       "3                    3       test       3  \n",
       "9                    5       test       9  "
      ]
     },
     "execution_count": 47,
     "metadata": {},
     "output_type": "execute_result"
    }
   ],
   "source": [
    "print('Meilleurs modèles')\n",
    "\n",
    "test_scores = df_results[['mean_test_roc_auc', 'rank_test_roc_auc', 'mean_test_f1', 'rank_test_f1',\n",
    "                         'mean_test_accuracy', 'rank_test_accuracy']]\n",
    "test_scores['train/test'] = 'test'\n",
    "test_scores = test_scores.rename(columns = {'mean_test_roc_auc' : 'score_roc_auc', 'mean_test_f1' : 'score_f1',\n",
    "                                           'mean_test_accuracy' : 'score_accuracy'})\n",
    "\n",
    "train_scores = df_results[['mean_train_roc_auc', 'rank_test_roc_auc', 'mean_train_f1', 'rank_test_f1',\n",
    "                          'mean_train_accuracy', 'rank_test_accuracy']]\n",
    "train_scores['train/test'] = 'train'\n",
    "train_scores = train_scores.rename(columns = {'mean_train_roc_auc' : 'score_roc_auc', 'mean_train_f1' : 'score_f1',\n",
    "                                             'mean_train_accuracy' : 'score_accuracy'})\n",
    "\n",
    "test_train_scores = pd.concat([test_scores, train_scores], axis = 0)\n",
    "test_train_scores['modele'] = test_train_scores.index\n",
    "test_train_scores.head()"
   ]
  },
  {
   "cell_type": "markdown",
   "metadata": {},
   "source": [
    "Graphs pour analyser le sur-apprentissage entre chaque modèle, pour chaque metrique (accuracy, f1, AUC)"
   ]
  },
  {
   "cell_type": "code",
   "execution_count": 48,
   "metadata": {},
   "outputs": [
    {
     "data": {
      "text/plain": [
       "(0.2, 1)"
      ]
     },
     "execution_count": 48,
     "metadata": {},
     "output_type": "execute_result"
    },
    {
     "data": {
      "image/png": "[encoded data removed]",
      "text/plain": [
       "<Figure size 1080x360 with 1 Axes>"
      ]
     },
     "metadata": {
      "needs_background": "light"
     },
     "output_type": "display_data"
    },
    {
     "data": {
      "image/png": "[encoded data removed]",
      "text/plain": [
       "<Figure size 1080x360 with 1 Axes>"
      ]
     },
     "metadata": {
      "needs_background": "light"
     },
     "output_type": "display_data"
    },
    {
     "data": {
      "image/png": "[encoded data removed]",
      "text/plain": [
       "<Figure size 1080x360 with 1 Axes>"
      ]
     },
     "metadata": {
      "needs_background": "light"
     },
     "output_type": "display_data"
    }
   ],
   "source": [
    "plt.figure(figsize=(15,5))\n",
    "ax = sns.barplot(x='modele', y=\"score_roc_auc\", hue=\"train/test\", data=test_train_scores)\n",
    "plt.ylim(0.2,1)\n",
    "\n",
    "plt.figure(figsize=(15,5))\n",
    "ax = sns.barplot(x='modele', y=\"score_f1\", hue=\"train/test\", data=test_train_scores)\n",
    "plt.ylim(0.2,1)\n",
    "\n",
    "plt.figure(figsize=(15,5))\n",
    "ax = sns.barplot(x='modele', y=\"score_accuracy\", hue=\"train/test\", data=test_train_scores)\n",
    "plt.ylim(0.2,1)"
   ]
  },
  {
   "cell_type": "markdown",
   "metadata": {},
   "source": [
    "# Courbe d'apprentissage sur modèle de son choix"
   ]
  },
  {
   "cell_type": "markdown",
   "metadata": {},
   "source": [
    "Choisir le modèle à analyser plus précisément ci-dessous"
   ]
  },
  {
   "cell_type": "code",
   "execution_count": 49,
   "metadata": {},
   "outputs": [],
   "source": [
    "#modèle choisi à analyser plus précisément, en\n",
    "num_modele = 4"
   ]
  },
  {
   "cell_type": "code",
   "execution_count": 50,
   "metadata": {},
   "outputs": [],
   "source": [
    "params = pd.DataFrame(data = dic_results)['params'][num_modele]"
   ]
  },
  {
   "cell_type": "code",
   "execution_count": 51,
   "metadata": {},
   "outputs": [
    {
     "name": "stdout",
     "output_type": "stream",
     "text": [
      "Paramètres utilisés dans le modèle\n"
     ]
    },
    {
     "data": {
      "text/plain": [
       "{'knn__n_neighbors': 5}"
      ]
     },
     "execution_count": 51,
     "metadata": {},
     "output_type": "execute_result"
    }
   ],
   "source": [
    "print('Paramètres utilisés dans le modèle')\n",
    "params"
   ]
  },
  {
   "cell_type": "code",
   "execution_count": 52,
   "metadata": {},
   "outputs": [],
   "source": [
    "my_model = Pipeline(steps = [('pre_process', pre_process), \n",
    "                               ('knn',KNeighborsClassifier(n_neighbors = params['knn__n_neighbors']) ) ])"
   ]
  },
  {
   "cell_type": "code",
   "execution_count": 53,
   "metadata": {},
   "outputs": [
    {
     "name": "stdout",
     "output_type": "stream",
     "text": [
      "[learning_curve] Training set sizes: [20 30 50 60 80]\n"
     ]
    },
    {
     "name": "stderr",
     "output_type": "stream",
     "text": [
      "[Parallel(n_jobs=-1)]: Using backend LokyBackend with 4 concurrent workers.\n",
      "[Parallel(n_jobs=-1)]: Done  35 out of  35 | elapsed:    0.8s finished\n"
     ]
    }
   ],
   "source": [
    "train_sizes = [20, 30, 50, 60, 80]\n",
    "train_sizes, train_scores, validation_scores = learning_curve(\n",
    "                                                estimator = my_model, X = x,\n",
    "                                                y = y, train_sizes = train_sizes, cv = 7,\n",
    "                                                scoring = 'accuracy', shuffle = True, n_jobs = -1,\n",
    "                                                verbose = 1, random_state = 1\n",
    "                                                )"
   ]
  },
  {
   "cell_type": "code",
   "execution_count": 54,
   "metadata": {},
   "outputs": [
    {
     "name": "stdout",
     "output_type": "stream",
     "text": [
      "Moyenne accuracy entrainement de tous les folds\n",
      "\n",
      " 20    0.757143\n",
      "30    0.804762\n",
      "50    0.768571\n",
      "60    0.771429\n",
      "80    0.817857\n",
      "dtype: float64\n",
      "\n",
      " --------------------\n",
      "Moyenne accuracy test de tous les folds\n",
      "\n",
      " 20    0.701337\n",
      "30    0.670426\n",
      "50    0.693818\n",
      "60    0.685881\n",
      "80    0.747285\n",
      "dtype: float64\n"
     ]
    }
   ],
   "source": [
    "train_scores_mean = train_scores.mean(axis = 1)\n",
    "validation_scores_mean = validation_scores.mean(axis = 1)\n",
    "\n",
    "print('Moyenne accuracy entrainement de tous les folds\\n\\n', pd.Series(train_scores_mean, index = train_sizes))\n",
    "print('\\n', '-' * 20) # separator\n",
    "print('Moyenne accuracy test de tous les folds\\n\\n',pd.Series(validation_scores_mean, index = train_sizes))"
   ]
  },
  {
   "cell_type": "code",
   "execution_count": 55,
   "metadata": {},
   "outputs": [
    {
     "data": {
      "text/plain": [
       "(0.3, 1)"
      ]
     },
     "execution_count": 55,
     "metadata": {},
     "output_type": "execute_result"
    },
    {
     "data": {
      "image/png": "[encoded data removed]",
      "text/plain": [
       "<Figure size 576x396 with 1 Axes>"
      ]
     },
     "metadata": {},
     "output_type": "display_data"
    }
   ],
   "source": [
    "plt.style.use('seaborn')\n",
    "plt.plot(train_sizes, train_scores_mean, label = 'Training accuracy')\n",
    "plt.plot(train_sizes, validation_scores_mean, label = 'Validation accuracy')\n",
    "\n",
    "plt.ylabel('accuracy', fontsize=14)\n",
    "plt.xlabel('Taille de la base d\\'entrainement', fontsize=14)\n",
    "plt.title(\"Courbe d'apprentissage\", fontsize=18, y=1.03)\n",
    "plt.legend()\n",
    "plt.ylim(0.3,1)"
   ]
  },
  {
   "cell_type": "markdown",
   "metadata": {},
   "source": [
    "# Entrainement et Sauvegarde du modèle final"
   ]
  },
  {
   "cell_type": "markdown",
   "metadata": {},
   "source": [
    "my_model créé avant la courbe d'apprentissage (pre_processing inclu)"
   ]
  },
  {
   "cell_type": "code",
   "execution_count": 56,
   "metadata": {},
   "outputs": [
    {
     "data": {
      "text/plain": [
       "Pipeline(memory=None,\n",
       "         steps=[('pre_process',\n",
       "                 ColumnTransformer(n_jobs=None, remainder='drop',\n",
       "                                   sparse_threshold=0.3,\n",
       "                                   transformer_weights=None,\n",
       "                                   transformers=[('quanti',\n",
       "                                                  Pipeline(memory=None,\n",
       "                                                           steps=[('normalisation',\n",
       "                                                                   StandardScaler(copy=True,\n",
       "                                                                                  with_mean=True,\n",
       "                                                                                  with_std=True))],\n",
       "                                                           verbose=False),\n",
       "                                                  ['IMC']),\n",
       "                                                 ('categorical',\n",
       "                                                  Pipeline(memory=None,\n",
       "                                                           steps=[('one_hot_encoding',\n",
       "                                                                   O...\n",
       "                                                                                       func=<ufunc 'log1p'>,\n",
       "                                                                                       inv_kw_args=None,\n",
       "                                                                                       inverse_func=None,\n",
       "                                                                                       kw_args=None,\n",
       "                                                                                       validate=False)),\n",
       "                                                                  ('normalisation',\n",
       "                                                                   StandardScaler(copy=True,\n",
       "                                                                                  with_mean=True,\n",
       "                                                                                  with_std=True))],\n",
       "                                                           verbose=False),\n",
       "                                                  ['age'])],\n",
       "                                   verbose=False)),\n",
       "                ('knn',\n",
       "                 KNeighborsClassifier(algorithm='auto', leaf_size=30,\n",
       "                                      metric='minkowski', metric_params=None,\n",
       "                                      n_jobs=None, n_neighbors=5, p=2,\n",
       "                                      weights='uniform'))],\n",
       "         verbose=False)"
      ]
     },
     "execution_count": 56,
     "metadata": {},
     "output_type": "execute_result"
    }
   ],
   "source": [
    "my_model.fit(x, y)"
   ]
  },
  {
   "cell_type": "code",
   "execution_count": 58,
   "metadata": {},
   "outputs": [],
   "source": [
    "pickle.dump(my_model, open(current_dir + '/ml_model.pkl','wb'))"
   ]
  },
  {
   "cell_type": "markdown",
   "metadata": {},
   "source": [
    "# Importance des features"
   ]
  },
  {
   "cell_type": "code",
   "execution_count": 59,
   "metadata": {},
   "outputs": [
    {
     "data": {
      "text/html": [
       "\n",
       "    <style>\n",
       "    table.eli5-weights tr:hover {\n",
       "        filter: brightness(85%);\n",
       "    }\n",
       "</style>\n",
       "\n",
       "\n",
       "\n",
       "    \n",
       "\n",
       "    \n",
       "\n",
       "    \n",
       "\n",
       "    \n",
       "\n",
       "    \n",
       "\n",
       "    \n",
       "\n",
       "\n",
       "    \n",
       "\n",
       "    \n",
       "\n",
       "    \n",
       "\n",
       "    \n",
       "\n",
       "    \n",
       "\n",
       "    \n",
       "\n",
       "\n",
       "    \n",
       "\n",
       "    \n",
       "\n",
       "    \n",
       "\n",
       "    \n",
       "\n",
       "    \n",
       "        <table class=\"eli5-weights eli5-feature-importances\" style=\"border-collapse: collapse; border: none; margin-top: 0em; table-layout: auto;\">\n",
       "    <thead>\n",
       "    <tr style=\"border: none;\">\n",
       "        <th style=\"padding: 0 1em 0 0.5em; text-align: right; border: none;\">Weight</th>\n",
       "        <th style=\"padding: 0 0.5em 0 0.5em; text-align: left; border: none;\">Feature</th>\n",
       "    </tr>\n",
       "    </thead>\n",
       "    <tbody>\n",
       "    \n",
       "        <tr style=\"background-color: hsl(120, 100.00%, 80.00%); border: none;\">\n",
       "            <td style=\"padding: 0 1em 0 0.5em; text-align: right; border: none;\">\n",
       "                0.2246\n",
       "                \n",
       "                    &plusmn; 0.0536\n",
       "                \n",
       "            </td>\n",
       "            <td style=\"padding: 0 0.5em 0 0.5em; text-align: left; border: none;\">\n",
       "                delay\n",
       "            </td>\n",
       "        </tr>\n",
       "    \n",
       "        <tr style=\"background-color: hsl(120, 100.00%, 88.53%); border: none;\">\n",
       "            <td style=\"padding: 0 1em 0 0.5em; text-align: right; border: none;\">\n",
       "                0.1015\n",
       "                \n",
       "                    &plusmn; 0.0382\n",
       "                \n",
       "            </td>\n",
       "            <td style=\"padding: 0 0.5em 0 0.5em; text-align: left; border: none;\">\n",
       "                age\n",
       "            </td>\n",
       "        </tr>\n",
       "    \n",
       "        <tr style=\"background-color: hsl(120, 100.00%, 91.50%); border: none;\">\n",
       "            <td style=\"padding: 0 1em 0 0.5em; text-align: right; border: none;\">\n",
       "                0.0662\n",
       "                \n",
       "                    &plusmn; 0.0384\n",
       "                \n",
       "            </td>\n",
       "            <td style=\"padding: 0 0.5em 0 0.5em; text-align: left; border: none;\">\n",
       "                IMC\n",
       "            </td>\n",
       "        </tr>\n",
       "    \n",
       "        <tr style=\"background-color: hsl(120, 100.00%, 92.64%); border: none;\">\n",
       "            <td style=\"padding: 0 1em 0 0.5em; text-align: right; border: none;\">\n",
       "                0.0538\n",
       "                \n",
       "                    &plusmn; 0.0515\n",
       "                \n",
       "            </td>\n",
       "            <td style=\"padding: 0 0.5em 0 0.5em; text-align: left; border: none;\">\n",
       "                int_ext\n",
       "            </td>\n",
       "        </tr>\n",
       "    \n",
       "        <tr style=\"background-color: hsl(120, 100.00%, 92.94%); border: none;\">\n",
       "            <td style=\"padding: 0 1em 0 0.5em; text-align: right; border: none;\">\n",
       "                0.0508\n",
       "                \n",
       "                    &plusmn; 0.0317\n",
       "                \n",
       "            </td>\n",
       "            <td style=\"padding: 0 0.5em 0 0.5em; text-align: left; border: none;\">\n",
       "                ACL\n",
       "            </td>\n",
       "        </tr>\n",
       "    \n",
       "        <tr style=\"background-color: hsl(120, 100.00%, 94.85%); border: none;\">\n",
       "            <td style=\"padding: 0 1em 0 0.5em; text-align: right; border: none;\">\n",
       "                0.0323\n",
       "                \n",
       "                    &plusmn; 0.0562\n",
       "                \n",
       "            </td>\n",
       "            <td style=\"padding: 0 0.5em 0 0.5em; text-align: left; border: none;\">\n",
       "                new_BH\n",
       "            </td>\n",
       "        </tr>\n",
       "    \n",
       "    \n",
       "    </tbody>\n",
       "</table>\n",
       "    \n",
       "\n",
       "    \n",
       "\n",
       "\n",
       "    \n",
       "\n",
       "    \n",
       "\n",
       "    \n",
       "\n",
       "    \n",
       "\n",
       "    \n",
       "\n",
       "    \n",
       "\n",
       "\n",
       "\n"
      ],
      "text/plain": [
       "<IPython.core.display.HTML object>"
      ]
     },
     "execution_count": 59,
     "metadata": {},
     "output_type": "execute_result"
    }
   ],
   "source": [
    "perm = PermutationImportance(my_model, random_state=1).fit(x, y)\n",
    "eli5.show_weights(perm, feature_names = ['age', 'int_ext', 'delay', 'ACL', 'IMC', 'new_BH'])"
   ]
  },
  {
   "cell_type": "markdown",
   "metadata": {},
   "source": [
    "Délais est la feature qui a le plus de poids, ce qui semble apriori logique. Etrangement, l'IMC a peu d'influence"
   ]
  },
  {
   "cell_type": "code",
   "execution_count": null,
   "metadata": {},
   "outputs": [],
   "source": []
  },
  {
   "cell_type": "code",
   "execution_count": null,
   "metadata": {},
   "outputs": [],
   "source": []
  },
  {
   "cell_type": "code",
   "execution_count": null,
   "metadata": {},
   "outputs": [],
   "source": []
  },
  {
   "cell_type": "code",
   "execution_count": null,
   "metadata": {},
   "outputs": [],
   "source": []
  },
  {
   "cell_type": "code",
   "execution_count": null,
   "metadata": {},
   "outputs": [],
   "source": []
  },
  {
   "cell_type": "code",
   "execution_count": null,
   "metadata": {},
   "outputs": [],
   "source": []
  },
  {
   "cell_type": "code",
   "execution_count": null,
   "metadata": {},
   "outputs": [],
   "source": []
  },
  {
   "cell_type": "code",
   "execution_count": null,
   "metadata": {},
   "outputs": [],
   "source": []
  },
  {
   "cell_type": "code",
   "execution_count": null,
   "metadata": {},
   "outputs": [],
   "source": []
  },
  {
   "cell_type": "code",
   "execution_count": null,
   "metadata": {},
   "outputs": [],
   "source": []
  }
 ],
 "metadata": {
  "kernelspec": {
   "display_name": "Python 3",
   "language": "python",
   "name": "python3"
  },
  "language_info": {
   "codemirror_mode": {
    "name": "ipython",
    "version": 3
   },
   "file_extension": ".py",
   "mimetype": "text/x-python",
   "name": "python",
   "nbconvert_exporter": "python",
   "pygments_lexer": "ipython3",
   "version": "3.7.4"
  }
 },
 "nbformat": 4,
 "nbformat_minor": 2
}
