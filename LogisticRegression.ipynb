{
 "cells": [
  {
   "cell_type": "markdown",
   "metadata": {},
   "source": [
    "# Cas Ménisque #2"
   ]
  },
  {
   "cell_type": "code",
   "execution_count": 1,
   "metadata": {
    "scrolled": true
   },
   "outputs": [
    {
     "name": "stderr",
     "output_type": "stream",
     "text": [
      "C:\\Users\\Admin\\Anaconda3\\lib\\site-packages\\sklearn\\utils\\deprecation.py:144: FutureWarning: The sklearn.metrics.scorer module is  deprecated in version 0.22 and will be removed in version 0.24. The corresponding classes / functions should instead be imported from sklearn.metrics. Anything that cannot be imported from sklearn.metrics is now part of the private API.\n",
      "  warnings.warn(message, FutureWarning)\n",
      "C:\\Users\\Admin\\Anaconda3\\lib\\site-packages\\sklearn\\utils\\deprecation.py:144: FutureWarning: The sklearn.feature_selection.base module is  deprecated in version 0.22 and will be removed in version 0.24. The corresponding classes / functions should instead be imported from sklearn.feature_selection. Anything that cannot be imported from sklearn.feature_selection is now part of the private API.\n",
      "  warnings.warn(message, FutureWarning)\n",
      "Using TensorFlow backend.\n",
      "C:\\Users\\Admin\\Anaconda3\\lib\\site-packages\\sklearn\\utils\\deprecation.py:144: FutureWarning: The sklearn.neighbors.base module is  deprecated in version 0.22 and will be removed in version 0.24. The corresponding classes / functions should instead be imported from sklearn.neighbors. Anything that cannot be imported from sklearn.neighbors is now part of the private API.\n",
      "  warnings.warn(message, FutureWarning)\n",
      "C:\\Users\\Admin\\Anaconda3\\lib\\site-packages\\sklearn\\utils\\deprecation.py:144: FutureWarning: The sklearn.ensemble.bagging module is  deprecated in version 0.22 and will be removed in version 0.24. The corresponding classes / functions should instead be imported from sklearn.ensemble. Anything that cannot be imported from sklearn.ensemble is now part of the private API.\n",
      "  warnings.warn(message, FutureWarning)\n",
      "C:\\Users\\Admin\\Anaconda3\\lib\\site-packages\\sklearn\\utils\\deprecation.py:144: FutureWarning: The sklearn.ensemble.base module is  deprecated in version 0.22 and will be removed in version 0.24. The corresponding classes / functions should instead be imported from sklearn.ensemble. Anything that cannot be imported from sklearn.ensemble is now part of the private API.\n",
      "  warnings.warn(message, FutureWarning)\n",
      "C:\\Users\\Admin\\Anaconda3\\lib\\site-packages\\sklearn\\utils\\deprecation.py:144: FutureWarning: The sklearn.ensemble.forest module is  deprecated in version 0.22 and will be removed in version 0.24. The corresponding classes / functions should instead be imported from sklearn.ensemble. Anything that cannot be imported from sklearn.ensemble is now part of the private API.\n",
      "  warnings.warn(message, FutureWarning)\n",
      "C:\\Users\\Admin\\Anaconda3\\lib\\site-packages\\sklearn\\utils\\deprecation.py:144: FutureWarning: The sklearn.utils.testing module is  deprecated in version 0.22 and will be removed in version 0.24. The corresponding classes / functions should instead be imported from sklearn.utils. Anything that cannot be imported from sklearn.utils is now part of the private API.\n",
      "  warnings.warn(message, FutureWarning)\n",
      "C:\\Users\\Admin\\Anaconda3\\lib\\site-packages\\sklearn\\utils\\deprecation.py:144: FutureWarning: The sklearn.metrics.classification module is  deprecated in version 0.22 and will be removed in version 0.24. The corresponding classes / functions should instead be imported from sklearn.metrics. Anything that cannot be imported from sklearn.metrics is now part of the private API.\n",
      "  warnings.warn(message, FutureWarning)\n"
     ]
    }
   ],
   "source": [
    "#maxime\n",
    "#même notebook que pour KNN mais utlisation de la Régression Logistique dans la Pipeline\n",
    "import os\n",
    "import pandas as pd\n",
    "import numpy as np\n",
    "\n",
    "\n",
    "#visualiation\n",
    "import matplotlib.pyplot as plt\n",
    "import seaborn as sns\n",
    "\n",
    "\n",
    "#machine learning\n",
    "import sklearn\n",
    "from sklearn.pipeline import Pipeline\n",
    "from sklearn.preprocessing import StandardScaler, MinMaxScaler, OneHotEncoder\n",
    "from sklearn.compose import ColumnTransformer\n",
    "from sklearn.model_selection import GridSearchCV, train_test_split, learning_curve\n",
    "from sklearn.linear_model import LogisticRegression\n",
    "from sklearn.neighbors import KNeighborsClassifier\n",
    "from sklearn.ensemble import GradientBoostingClassifier\n",
    "from sklearn.naive_bayes import GaussianNB\n",
    "from sklearn.svm import SVC\n",
    "from sklearn.metrics import balanced_accuracy_score, roc_auc_score, confusion_matrix\n",
    "\n",
    "import eli5\n",
    "from eli5.sklearn import PermutationImportance\n",
    "from sklearn.preprocessing import FunctionTransformer\n",
    "from sklearn.preprocessing import KBinsDiscretizer\n",
    "\n",
    "from imblearn.over_sampling import SMOTENC\n",
    "\n",
    "#sauvegarde du modèle\n",
    "import pickle\n"
   ]
  },
  {
   "cell_type": "markdown",
   "metadata": {},
   "source": [
    "# Préparation des données"
   ]
  },
  {
   "cell_type": "code",
   "execution_count": 2,
   "metadata": {},
   "outputs": [],
   "source": [
    "#données nettoyées à partir du fichier de David, et reimportées\n",
    "current_dir = os.getcwd()\n",
    "data = pd.read_excel(current_dir + '/data/clean_patients.xlsx')"
   ]
  },
  {
   "cell_type": "code",
   "execution_count": 3,
   "metadata": {},
   "outputs": [
    {
     "data": {
      "text/html": [
       "<div>\n",
       "<style scoped>\n",
       "    .dataframe tbody tr th:only-of-type {\n",
       "        vertical-align: middle;\n",
       "    }\n",
       "\n",
       "    .dataframe tbody tr th {\n",
       "        vertical-align: top;\n",
       "    }\n",
       "\n",
       "    .dataframe thead th {\n",
       "        text-align: right;\n",
       "    }\n",
       "</style>\n",
       "<table border=\"1\" class=\"dataframe\">\n",
       "  <thead>\n",
       "    <tr style=\"text-align: right;\">\n",
       "      <th></th>\n",
       "      <th>index</th>\n",
       "      <th>patient</th>\n",
       "      <th>reprise</th>\n",
       "      <th>age</th>\n",
       "      <th>int_ext</th>\n",
       "      <th>delay</th>\n",
       "      <th>ACL</th>\n",
       "      <th>height</th>\n",
       "      <th>poids</th>\n",
       "      <th>BH</th>\n",
       "      <th>BHI</th>\n",
       "    </tr>\n",
       "  </thead>\n",
       "  <tbody>\n",
       "    <tr>\n",
       "      <td>0</td>\n",
       "      <td>0</td>\n",
       "      <td>1</td>\n",
       "      <td>0</td>\n",
       "      <td>17</td>\n",
       "      <td>0</td>\n",
       "      <td>30</td>\n",
       "      <td>1</td>\n",
       "      <td>180</td>\n",
       "      <td>70</td>\n",
       "      <td>0</td>\n",
       "      <td>0</td>\n",
       "    </tr>\n",
       "    <tr>\n",
       "      <td>1</td>\n",
       "      <td>1</td>\n",
       "      <td>2</td>\n",
       "      <td>0</td>\n",
       "      <td>17</td>\n",
       "      <td>1</td>\n",
       "      <td>30</td>\n",
       "      <td>1</td>\n",
       "      <td>180</td>\n",
       "      <td>70</td>\n",
       "      <td>0</td>\n",
       "      <td>0</td>\n",
       "    </tr>\n",
       "    <tr>\n",
       "      <td>2</td>\n",
       "      <td>2</td>\n",
       "      <td>3</td>\n",
       "      <td>0</td>\n",
       "      <td>35</td>\n",
       "      <td>1</td>\n",
       "      <td>14</td>\n",
       "      <td>1</td>\n",
       "      <td>177</td>\n",
       "      <td>60</td>\n",
       "      <td>0</td>\n",
       "      <td>0</td>\n",
       "    </tr>\n",
       "    <tr>\n",
       "      <td>3</td>\n",
       "      <td>3</td>\n",
       "      <td>4</td>\n",
       "      <td>0</td>\n",
       "      <td>24</td>\n",
       "      <td>0</td>\n",
       "      <td>30</td>\n",
       "      <td>1</td>\n",
       "      <td>174</td>\n",
       "      <td>75</td>\n",
       "      <td>1</td>\n",
       "      <td>0</td>\n",
       "    </tr>\n",
       "    <tr>\n",
       "      <td>4</td>\n",
       "      <td>4</td>\n",
       "      <td>5</td>\n",
       "      <td>1</td>\n",
       "      <td>16</td>\n",
       "      <td>0</td>\n",
       "      <td>270</td>\n",
       "      <td>0</td>\n",
       "      <td>169</td>\n",
       "      <td>60</td>\n",
       "      <td>0</td>\n",
       "      <td>0</td>\n",
       "    </tr>\n",
       "  </tbody>\n",
       "</table>\n",
       "</div>"
      ],
      "text/plain": [
       "   index  patient  reprise  age  int_ext  delay  ACL  height  poids  BH  BHI\n",
       "0      0        1        0   17        0     30    1     180     70   0    0\n",
       "1      1        2        0   17        1     30    1     180     70   0    0\n",
       "2      2        3        0   35        1     14    1     177     60   0    0\n",
       "3      3        4        0   24        0     30    1     174     75   1    0\n",
       "4      4        5        1   16        0    270    0     169     60   0    0"
      ]
     },
     "execution_count": 3,
     "metadata": {},
     "output_type": "execute_result"
    }
   ],
   "source": [
    "data.head()"
   ]
  },
  {
   "cell_type": "markdown",
   "metadata": {},
   "source": [
    "# Data Exploration"
   ]
  },
  {
   "cell_type": "markdown",
   "metadata": {},
   "source": [
    "Recovery"
   ]
  },
  {
   "cell_type": "code",
   "execution_count": 4,
   "metadata": {},
   "outputs": [
    {
     "name": "stdout",
     "output_type": "stream",
     "text": [
      "reprise = 1 :  38\n",
      "reprise = 0 :  65\n"
     ]
    },
    {
     "data": {
      "image/png": "[encoded data removed]",
      "text/plain": [
       "<Figure size 576x288 with 1 Axes>"
      ]
     },
     "metadata": {
      "needs_background": "light"
     },
     "output_type": "display_data"
    }
   ],
   "source": [
    "plt.figure(figsize=(8,4))\n",
    "sns.distplot(data['reprise'], kde = False)\n",
    "\n",
    "\n",
    "print('reprise = 1 : ', sum(data['reprise'] == 1) ) \n",
    "print('reprise = 0 : ', sum(data['reprise'] == 0) ) "
   ]
  },
  {
   "cell_type": "markdown",
   "metadata": {},
   "source": [
    "Age"
   ]
  },
  {
   "cell_type": "code",
   "execution_count": 5,
   "metadata": {},
   "outputs": [
    {
     "data": {
      "text/plain": [
       "<matplotlib.axes._subplots.AxesSubplot at 0x29fc46e6848>"
      ]
     },
     "execution_count": 5,
     "metadata": {},
     "output_type": "execute_result"
    },
    {
     "data": {
      "image/png": "[encoded data removed]",
      "text/plain": [
       "<Figure size 576x288 with 1 Axes>"
      ]
     },
     "metadata": {
      "needs_background": "light"
     },
     "output_type": "display_data"
    }
   ],
   "source": [
    "plt.figure(figsize=(8,4))\n",
    "sns.distplot(data['age'], bins = 10, kde = False)"
   ]
  },
  {
   "cell_type": "markdown",
   "metadata": {},
   "source": [
    "Après log transformation"
   ]
  },
  {
   "cell_type": "code",
   "execution_count": 6,
   "metadata": {},
   "outputs": [
    {
     "data": {
      "text/plain": [
       "<matplotlib.axes._subplots.AxesSubplot at 0x29fc478e5c8>"
      ]
     },
     "execution_count": 6,
     "metadata": {},
     "output_type": "execute_result"
    },
    {
     "data": {
      "image/png": "[encoded data removed]",
      "text/plain": [
       "<Figure size 576x288 with 1 Axes>"
      ]
     },
     "metadata": {
      "needs_background": "light"
     },
     "output_type": "display_data"
    }
   ],
   "source": [
    "plt.figure(figsize=(8,4))\n",
    "sns.distplot(np.log1p(data['age']), bins = 10, kde = False)"
   ]
  },
  {
   "cell_type": "markdown",
   "metadata": {},
   "source": [
    "Int_ext"
   ]
  },
  {
   "cell_type": "code",
   "execution_count": 7,
   "metadata": {},
   "outputs": [
    {
     "data": {
      "text/plain": [
       "<matplotlib.axes._subplots.AxesSubplot at 0x29fc480e988>"
      ]
     },
     "execution_count": 7,
     "metadata": {},
     "output_type": "execute_result"
    },
    {
     "data": {
      "image/png": "[encoded data removed]",
      "text/plain": [
       "<Figure size 576x288 with 1 Axes>"
      ]
     },
     "metadata": {
      "needs_background": "light"
     },
     "output_type": "display_data"
    }
   ],
   "source": [
    "plt.figure(figsize=(8,4))\n",
    "sns.distplot(data['int_ext'], kde = False)"
   ]
  },
  {
   "cell_type": "code",
   "execution_count": 8,
   "metadata": {},
   "outputs": [
    {
     "data": {
      "text/plain": [
       "<matplotlib.axes._subplots.AxesSubplot at 0x29fc48758c8>"
      ]
     },
     "execution_count": 8,
     "metadata": {},
     "output_type": "execute_result"
    },
    {
     "data": {
      "image/png": "[encoded data removed]",
      "text/plain": [
       "<Figure size 576x288 with 1 Axes>"
      ]
     },
     "metadata": {
      "needs_background": "light"
     },
     "output_type": "display_data"
    }
   ],
   "source": [
    "plt.figure(figsize=(8,4))\n",
    "sns.distplot(data['delay'], kde = False)"
   ]
  },
  {
   "cell_type": "code",
   "execution_count": 9,
   "metadata": {},
   "outputs": [
    {
     "data": {
      "text/plain": [
       "<matplotlib.axes._subplots.AxesSubplot at 0x29fc497a548>"
      ]
     },
     "execution_count": 9,
     "metadata": {},
     "output_type": "execute_result"
    },
    {
     "data": {
      "image/png": "[encoded data removed]",
      "text/plain": [
       "<Figure size 576x288 with 1 Axes>"
      ]
     },
     "metadata": {
      "needs_background": "light"
     },
     "output_type": "display_data"
    }
   ],
   "source": [
    "plt.figure(figsize=(8,4))\n",
    "sns.distplot(data['ACL'], kde = False)"
   ]
  },
  {
   "cell_type": "code",
   "execution_count": 10,
   "metadata": {},
   "outputs": [
    {
     "data": {
      "text/plain": [
       "<matplotlib.axes._subplots.AxesSubplot at 0x29fc49cfcc8>"
      ]
     },
     "execution_count": 10,
     "metadata": {},
     "output_type": "execute_result"
    },
    {
     "data": {
      "image/png": "[encoded data removed]",
      "text/plain": [
       "<Figure size 576x288 with 1 Axes>"
      ]
     },
     "metadata": {
      "needs_background": "light"
     },
     "output_type": "display_data"
    }
   ],
   "source": [
    "plt.figure(figsize=(8,4))\n",
    "sns.distplot(data['height'])"
   ]
  },
  {
   "cell_type": "code",
   "execution_count": 11,
   "metadata": {},
   "outputs": [
    {
     "data": {
      "text/plain": [
       "<matplotlib.axes._subplots.AxesSubplot at 0x29fc437ec48>"
      ]
     },
     "execution_count": 11,
     "metadata": {},
     "output_type": "execute_result"
    },
    {
     "data": {
      "image/png": "[encoded data removed]",
      "text/plain": [
       "<Figure size 576x288 with 1 Axes>"
      ]
     },
     "metadata": {
      "needs_background": "light"
     },
     "output_type": "display_data"
    }
   ],
   "source": [
    "plt.figure(figsize=(8,4))\n",
    "sns.distplot(data['poids'])"
   ]
  },
  {
   "cell_type": "code",
   "execution_count": 12,
   "metadata": {},
   "outputs": [
    {
     "data": {
      "text/plain": [
       "<matplotlib.axes._subplots.AxesSubplot at 0x29fc5a49388>"
      ]
     },
     "execution_count": 12,
     "metadata": {},
     "output_type": "execute_result"
    },
    {
     "data": {
      "image/png": "[encoded data removed]",
      "text/plain": [
       "<Figure size 576x288 with 1 Axes>"
      ]
     },
     "metadata": {
      "needs_background": "light"
     },
     "output_type": "display_data"
    }
   ],
   "source": [
    "plt.figure(figsize=(8,4))\n",
    "sns.distplot(data['BH'], kde = False)"
   ]
  },
  {
   "cell_type": "code",
   "execution_count": 13,
   "metadata": {},
   "outputs": [
    {
     "data": {
      "text/plain": [
       "<matplotlib.axes._subplots.AxesSubplot at 0x29fc5aab788>"
      ]
     },
     "execution_count": 13,
     "metadata": {},
     "output_type": "execute_result"
    },
    {
     "data": {
      "image/png": "[encoded data removed]",
      "text/plain": [
       "<Figure size 576x288 with 1 Axes>"
      ]
     },
     "metadata": {
      "needs_background": "light"
     },
     "output_type": "display_data"
    }
   ],
   "source": [
    "plt.figure(figsize=(8,4))\n",
    "sns.distplot(data['BHI'], kde = False)"
   ]
  },
  {
   "cell_type": "markdown",
   "metadata": {},
   "source": [
    "# Gestion des outliers : Discrétisation - log_transformation"
   ]
  },
  {
   "cell_type": "markdown",
   "metadata": {},
   "source": [
    "Pour la feature delay"
   ]
  },
  {
   "cell_type": "code",
   "execution_count": 14,
   "metadata": {},
   "outputs": [
    {
     "data": {
      "text/plain": [
       "<matplotlib.axes._subplots.AxesSubplot at 0x29fc5b2af08>"
      ]
     },
     "execution_count": 14,
     "metadata": {},
     "output_type": "execute_result"
    },
    {
     "data": {
      "image/png": "[encoded data removed]",
      "text/plain": [
       "<Figure size 432x288 with 1 Axes>"
      ]
     },
     "metadata": {
      "needs_background": "light"
     },
     "output_type": "display_data"
    }
   ],
   "source": [
    "sns.boxplot(data=data['delay'])"
   ]
  },
  {
   "cell_type": "markdown",
   "metadata": {},
   "source": [
    "On observe de nombreux outliers grâce à cette boîte à moustache (points en noir). Nous ferons une log transformation par la suite"
   ]
  },
  {
   "cell_type": "markdown",
   "metadata": {},
   "source": [
    "# Feature Engineering"
   ]
  },
  {
   "cell_type": "markdown",
   "metadata": {},
   "source": [
    "Poids _ taille --> IMC"
   ]
  },
  {
   "cell_type": "code",
   "execution_count": 15,
   "metadata": {},
   "outputs": [],
   "source": [
    "data['IMC'] = data['poids'] / (data['height'] /100)**2"
   ]
  },
  {
   "cell_type": "code",
   "execution_count": 16,
   "metadata": {},
   "outputs": [
    {
     "data": {
      "text/html": [
       "<div>\n",
       "<style scoped>\n",
       "    .dataframe tbody tr th:only-of-type {\n",
       "        vertical-align: middle;\n",
       "    }\n",
       "\n",
       "    .dataframe tbody tr th {\n",
       "        vertical-align: top;\n",
       "    }\n",
       "\n",
       "    .dataframe thead th {\n",
       "        text-align: right;\n",
       "    }\n",
       "</style>\n",
       "<table border=\"1\" class=\"dataframe\">\n",
       "  <thead>\n",
       "    <tr style=\"text-align: right;\">\n",
       "      <th></th>\n",
       "      <th>index</th>\n",
       "      <th>patient</th>\n",
       "      <th>reprise</th>\n",
       "      <th>age</th>\n",
       "      <th>int_ext</th>\n",
       "      <th>delay</th>\n",
       "      <th>ACL</th>\n",
       "      <th>height</th>\n",
       "      <th>poids</th>\n",
       "      <th>BH</th>\n",
       "      <th>BHI</th>\n",
       "      <th>IMC</th>\n",
       "    </tr>\n",
       "  </thead>\n",
       "  <tbody>\n",
       "    <tr>\n",
       "      <td>0</td>\n",
       "      <td>0</td>\n",
       "      <td>1</td>\n",
       "      <td>0</td>\n",
       "      <td>17</td>\n",
       "      <td>0</td>\n",
       "      <td>30</td>\n",
       "      <td>1</td>\n",
       "      <td>180</td>\n",
       "      <td>70</td>\n",
       "      <td>0</td>\n",
       "      <td>0</td>\n",
       "      <td>21.604938</td>\n",
       "    </tr>\n",
       "    <tr>\n",
       "      <td>1</td>\n",
       "      <td>1</td>\n",
       "      <td>2</td>\n",
       "      <td>0</td>\n",
       "      <td>17</td>\n",
       "      <td>1</td>\n",
       "      <td>30</td>\n",
       "      <td>1</td>\n",
       "      <td>180</td>\n",
       "      <td>70</td>\n",
       "      <td>0</td>\n",
       "      <td>0</td>\n",
       "      <td>21.604938</td>\n",
       "    </tr>\n",
       "    <tr>\n",
       "      <td>2</td>\n",
       "      <td>2</td>\n",
       "      <td>3</td>\n",
       "      <td>0</td>\n",
       "      <td>35</td>\n",
       "      <td>1</td>\n",
       "      <td>14</td>\n",
       "      <td>1</td>\n",
       "      <td>177</td>\n",
       "      <td>60</td>\n",
       "      <td>0</td>\n",
       "      <td>0</td>\n",
       "      <td>19.151585</td>\n",
       "    </tr>\n",
       "    <tr>\n",
       "      <td>3</td>\n",
       "      <td>3</td>\n",
       "      <td>4</td>\n",
       "      <td>0</td>\n",
       "      <td>24</td>\n",
       "      <td>0</td>\n",
       "      <td>30</td>\n",
       "      <td>1</td>\n",
       "      <td>174</td>\n",
       "      <td>75</td>\n",
       "      <td>1</td>\n",
       "      <td>0</td>\n",
       "      <td>24.772097</td>\n",
       "    </tr>\n",
       "    <tr>\n",
       "      <td>4</td>\n",
       "      <td>4</td>\n",
       "      <td>5</td>\n",
       "      <td>1</td>\n",
       "      <td>16</td>\n",
       "      <td>0</td>\n",
       "      <td>270</td>\n",
       "      <td>0</td>\n",
       "      <td>169</td>\n",
       "      <td>60</td>\n",
       "      <td>0</td>\n",
       "      <td>0</td>\n",
       "      <td>21.007668</td>\n",
       "    </tr>\n",
       "  </tbody>\n",
       "</table>\n",
       "</div>"
      ],
      "text/plain": [
       "   index  patient  reprise  age  int_ext  delay  ACL  height  poids  BH  BHI  \\\n",
       "0      0        1        0   17        0     30    1     180     70   0    0   \n",
       "1      1        2        0   17        1     30    1     180     70   0    0   \n",
       "2      2        3        0   35        1     14    1     177     60   0    0   \n",
       "3      3        4        0   24        0     30    1     174     75   1    0   \n",
       "4      4        5        1   16        0    270    0     169     60   0    0   \n",
       "\n",
       "         IMC  \n",
       "0  21.604938  \n",
       "1  21.604938  \n",
       "2  19.151585  \n",
       "3  24.772097  \n",
       "4  21.007668  "
      ]
     },
     "execution_count": 16,
     "metadata": {},
     "output_type": "execute_result"
    }
   ],
   "source": [
    "data.head()"
   ]
  },
  {
   "cell_type": "markdown",
   "metadata": {},
   "source": [
    "Anse de Sceau, combinaison BH et BHI"
   ]
  },
  {
   "cell_type": "code",
   "execution_count": 17,
   "metadata": {},
   "outputs": [],
   "source": [
    "data['new_BH'] = data['BH'] + data['BHI'] \n",
    "data['new_BH'] = data['new_BH'].astype(int)"
   ]
  },
  {
   "cell_type": "markdown",
   "metadata": {},
   "source": [
    "# Data Augmentation"
   ]
  },
  {
   "cell_type": "code",
   "execution_count": 18,
   "metadata": {},
   "outputs": [],
   "source": [
    "smote = SMOTENC(sampling_strategy='minority', \n",
    "                categorical_features = [True, True, False, True, False, True, False, True, True, True],\n",
    "                random_state = 1, n_jobs=-1)"
   ]
  },
  {
   "cell_type": "code",
   "execution_count": 19,
   "metadata": {},
   "outputs": [],
   "source": [
    "features = ['index', 'patient', 'age', 'int_ext', 'delay', 'ACL', 'IMC', 'BH', 'BHI', 'new_BH']\n",
    "target = ['reprise']"
   ]
  },
  {
   "cell_type": "code",
   "execution_count": 20,
   "metadata": {},
   "outputs": [
    {
     "name": "stderr",
     "output_type": "stream",
     "text": [
      "C:\\Users\\Admin\\Anaconda3\\lib\\site-packages\\sklearn\\utils\\validation.py:760: DataConversionWarning: A column-vector y was passed when a 1d array was expected. Please change the shape of y to (n_samples, ), for example using ravel().\n",
      "  y = column_or_1d(y, warn=True)\n",
      "C:\\Users\\Admin\\Anaconda3\\lib\\site-packages\\sklearn\\utils\\deprecation.py:87: FutureWarning: Function safe_indexing is deprecated; safe_indexing is deprecated in version 0.22 and will be removed in version 0.24.\n",
      "  warnings.warn(msg, category=FutureWarning)\n",
      "C:\\Users\\Admin\\Anaconda3\\lib\\site-packages\\sklearn\\utils\\deprecation.py:87: FutureWarning: Function safe_indexing is deprecated; safe_indexing is deprecated in version 0.22 and will be removed in version 0.24.\n",
      "  warnings.warn(msg, category=FutureWarning)\n"
     ]
    }
   ],
   "source": [
    "X_sm, y_sm = smote.fit_resample(data[features], data[target])"
   ]
  },
  {
   "cell_type": "code",
   "execution_count": 21,
   "metadata": {},
   "outputs": [],
   "source": [
    "XX = pd.DataFrame(data = X_sm, columns = features)\n",
    "YY = pd.DataFrame(data = y_sm, columns = target)"
   ]
  },
  {
   "cell_type": "code",
   "execution_count": 22,
   "metadata": {},
   "outputs": [
    {
     "data": {
      "text/html": [
       "<div>\n",
       "<style scoped>\n",
       "    .dataframe tbody tr th:only-of-type {\n",
       "        vertical-align: middle;\n",
       "    }\n",
       "\n",
       "    .dataframe tbody tr th {\n",
       "        vertical-align: top;\n",
       "    }\n",
       "\n",
       "    .dataframe thead th {\n",
       "        text-align: right;\n",
       "    }\n",
       "</style>\n",
       "<table border=\"1\" class=\"dataframe\">\n",
       "  <thead>\n",
       "    <tr style=\"text-align: right;\">\n",
       "      <th></th>\n",
       "      <th>index</th>\n",
       "      <th>patient</th>\n",
       "      <th>age</th>\n",
       "      <th>int_ext</th>\n",
       "      <th>delay</th>\n",
       "      <th>ACL</th>\n",
       "      <th>IMC</th>\n",
       "      <th>BH</th>\n",
       "      <th>BHI</th>\n",
       "      <th>new_BH</th>\n",
       "    </tr>\n",
       "  </thead>\n",
       "  <tbody>\n",
       "    <tr>\n",
       "      <td>0</td>\n",
       "      <td>0.0</td>\n",
       "      <td>1.0</td>\n",
       "      <td>17.000000</td>\n",
       "      <td>0.0</td>\n",
       "      <td>30.000000</td>\n",
       "      <td>1.0</td>\n",
       "      <td>21.604938</td>\n",
       "      <td>0.0</td>\n",
       "      <td>0.0</td>\n",
       "      <td>0.0</td>\n",
       "    </tr>\n",
       "    <tr>\n",
       "      <td>1</td>\n",
       "      <td>1.0</td>\n",
       "      <td>2.0</td>\n",
       "      <td>17.000000</td>\n",
       "      <td>1.0</td>\n",
       "      <td>30.000000</td>\n",
       "      <td>1.0</td>\n",
       "      <td>21.604938</td>\n",
       "      <td>0.0</td>\n",
       "      <td>0.0</td>\n",
       "      <td>0.0</td>\n",
       "    </tr>\n",
       "    <tr>\n",
       "      <td>2</td>\n",
       "      <td>2.0</td>\n",
       "      <td>3.0</td>\n",
       "      <td>35.000000</td>\n",
       "      <td>1.0</td>\n",
       "      <td>14.000000</td>\n",
       "      <td>1.0</td>\n",
       "      <td>19.151585</td>\n",
       "      <td>0.0</td>\n",
       "      <td>0.0</td>\n",
       "      <td>0.0</td>\n",
       "    </tr>\n",
       "    <tr>\n",
       "      <td>3</td>\n",
       "      <td>3.0</td>\n",
       "      <td>4.0</td>\n",
       "      <td>24.000000</td>\n",
       "      <td>0.0</td>\n",
       "      <td>30.000000</td>\n",
       "      <td>1.0</td>\n",
       "      <td>24.772097</td>\n",
       "      <td>1.0</td>\n",
       "      <td>0.0</td>\n",
       "      <td>1.0</td>\n",
       "    </tr>\n",
       "    <tr>\n",
       "      <td>4</td>\n",
       "      <td>4.0</td>\n",
       "      <td>5.0</td>\n",
       "      <td>16.000000</td>\n",
       "      <td>0.0</td>\n",
       "      <td>270.000000</td>\n",
       "      <td>0.0</td>\n",
       "      <td>21.007668</td>\n",
       "      <td>0.0</td>\n",
       "      <td>0.0</td>\n",
       "      <td>0.0</td>\n",
       "    </tr>\n",
       "    <tr>\n",
       "      <td>...</td>\n",
       "      <td>...</td>\n",
       "      <td>...</td>\n",
       "      <td>...</td>\n",
       "      <td>...</td>\n",
       "      <td>...</td>\n",
       "      <td>...</td>\n",
       "      <td>...</td>\n",
       "      <td>...</td>\n",
       "      <td>...</td>\n",
       "      <td>...</td>\n",
       "    </tr>\n",
       "    <tr>\n",
       "      <td>125</td>\n",
       "      <td>81.0</td>\n",
       "      <td>98.0</td>\n",
       "      <td>15.366821</td>\n",
       "      <td>1.0</td>\n",
       "      <td>180.000000</td>\n",
       "      <td>0.0</td>\n",
       "      <td>21.924826</td>\n",
       "      <td>1.0</td>\n",
       "      <td>0.0</td>\n",
       "      <td>0.0</td>\n",
       "    </tr>\n",
       "    <tr>\n",
       "      <td>126</td>\n",
       "      <td>58.0</td>\n",
       "      <td>86.0</td>\n",
       "      <td>22.184569</td>\n",
       "      <td>1.0</td>\n",
       "      <td>365.000000</td>\n",
       "      <td>0.0</td>\n",
       "      <td>21.810004</td>\n",
       "      <td>0.0</td>\n",
       "      <td>0.0</td>\n",
       "      <td>0.0</td>\n",
       "    </tr>\n",
       "    <tr>\n",
       "      <td>127</td>\n",
       "      <td>99.0</td>\n",
       "      <td>101.0</td>\n",
       "      <td>31.230622</td>\n",
       "      <td>1.0</td>\n",
       "      <td>60.000000</td>\n",
       "      <td>0.0</td>\n",
       "      <td>22.484023</td>\n",
       "      <td>1.0</td>\n",
       "      <td>0.0</td>\n",
       "      <td>1.0</td>\n",
       "    </tr>\n",
       "    <tr>\n",
       "      <td>128</td>\n",
       "      <td>89.0</td>\n",
       "      <td>95.0</td>\n",
       "      <td>23.642707</td>\n",
       "      <td>1.0</td>\n",
       "      <td>13.323591</td>\n",
       "      <td>1.0</td>\n",
       "      <td>25.043640</td>\n",
       "      <td>1.0</td>\n",
       "      <td>0.0</td>\n",
       "      <td>0.0</td>\n",
       "    </tr>\n",
       "    <tr>\n",
       "      <td>129</td>\n",
       "      <td>98.0</td>\n",
       "      <td>103.0</td>\n",
       "      <td>14.477962</td>\n",
       "      <td>0.0</td>\n",
       "      <td>28.238981</td>\n",
       "      <td>0.0</td>\n",
       "      <td>23.967136</td>\n",
       "      <td>0.0</td>\n",
       "      <td>0.0</td>\n",
       "      <td>0.0</td>\n",
       "    </tr>\n",
       "  </tbody>\n",
       "</table>\n",
       "<p>130 rows × 10 columns</p>\n",
       "</div>"
      ],
      "text/plain": [
       "     index  patient        age  int_ext       delay  ACL        IMC   BH  BHI  \\\n",
       "0      0.0      1.0  17.000000      0.0   30.000000  1.0  21.604938  0.0  0.0   \n",
       "1      1.0      2.0  17.000000      1.0   30.000000  1.0  21.604938  0.0  0.0   \n",
       "2      2.0      3.0  35.000000      1.0   14.000000  1.0  19.151585  0.0  0.0   \n",
       "3      3.0      4.0  24.000000      0.0   30.000000  1.0  24.772097  1.0  0.0   \n",
       "4      4.0      5.0  16.000000      0.0  270.000000  0.0  21.007668  0.0  0.0   \n",
       "..     ...      ...        ...      ...         ...  ...        ...  ...  ...   \n",
       "125   81.0     98.0  15.366821      1.0  180.000000  0.0  21.924826  1.0  0.0   \n",
       "126   58.0     86.0  22.184569      1.0  365.000000  0.0  21.810004  0.0  0.0   \n",
       "127   99.0    101.0  31.230622      1.0   60.000000  0.0  22.484023  1.0  0.0   \n",
       "128   89.0     95.0  23.642707      1.0   13.323591  1.0  25.043640  1.0  0.0   \n",
       "129   98.0    103.0  14.477962      0.0   28.238981  0.0  23.967136  0.0  0.0   \n",
       "\n",
       "     new_BH  \n",
       "0       0.0  \n",
       "1       0.0  \n",
       "2       0.0  \n",
       "3       1.0  \n",
       "4       0.0  \n",
       "..      ...  \n",
       "125     0.0  \n",
       "126     0.0  \n",
       "127     1.0  \n",
       "128     0.0  \n",
       "129     0.0  \n",
       "\n",
       "[130 rows x 10 columns]"
      ]
     },
     "execution_count": 22,
     "metadata": {},
     "output_type": "execute_result"
    }
   ],
   "source": [
    "XX"
   ]
  },
  {
   "cell_type": "code",
   "execution_count": 23,
   "metadata": {},
   "outputs": [
    {
     "name": "stdout",
     "output_type": "stream",
     "text": [
      "reprise    65\n",
      "dtype: int64\n",
      "reprise    65\n",
      "dtype: int64\n",
      "130\n"
     ]
    }
   ],
   "source": [
    "print((YY ==0).sum())\n",
    "print((YY ==1).sum())\n",
    "\n",
    "print(YY.shape[0])"
   ]
  },
  {
   "cell_type": "code",
   "execution_count": 24,
   "metadata": {},
   "outputs": [],
   "source": [
    "#dataframe augmenté\n",
    "data = pd.concat([XX, YY], axis = 1)"
   ]
  },
  {
   "cell_type": "code",
   "execution_count": 25,
   "metadata": {
    "scrolled": true
   },
   "outputs": [
    {
     "data": {
      "text/html": [
       "<div>\n",
       "<style scoped>\n",
       "    .dataframe tbody tr th:only-of-type {\n",
       "        vertical-align: middle;\n",
       "    }\n",
       "\n",
       "    .dataframe tbody tr th {\n",
       "        vertical-align: top;\n",
       "    }\n",
       "\n",
       "    .dataframe thead th {\n",
       "        text-align: right;\n",
       "    }\n",
       "</style>\n",
       "<table border=\"1\" class=\"dataframe\">\n",
       "  <thead>\n",
       "    <tr style=\"text-align: right;\">\n",
       "      <th></th>\n",
       "      <th>index</th>\n",
       "      <th>patient</th>\n",
       "      <th>age</th>\n",
       "      <th>int_ext</th>\n",
       "      <th>delay</th>\n",
       "      <th>ACL</th>\n",
       "      <th>IMC</th>\n",
       "      <th>BH</th>\n",
       "      <th>BHI</th>\n",
       "      <th>new_BH</th>\n",
       "      <th>reprise</th>\n",
       "    </tr>\n",
       "  </thead>\n",
       "  <tbody>\n",
       "    <tr>\n",
       "      <td>0</td>\n",
       "      <td>0.0</td>\n",
       "      <td>1.0</td>\n",
       "      <td>17.0</td>\n",
       "      <td>0.0</td>\n",
       "      <td>30.0</td>\n",
       "      <td>1.0</td>\n",
       "      <td>21.604938</td>\n",
       "      <td>0.0</td>\n",
       "      <td>0.0</td>\n",
       "      <td>0.0</td>\n",
       "      <td>0</td>\n",
       "    </tr>\n",
       "    <tr>\n",
       "      <td>1</td>\n",
       "      <td>1.0</td>\n",
       "      <td>2.0</td>\n",
       "      <td>17.0</td>\n",
       "      <td>1.0</td>\n",
       "      <td>30.0</td>\n",
       "      <td>1.0</td>\n",
       "      <td>21.604938</td>\n",
       "      <td>0.0</td>\n",
       "      <td>0.0</td>\n",
       "      <td>0.0</td>\n",
       "      <td>0</td>\n",
       "    </tr>\n",
       "    <tr>\n",
       "      <td>2</td>\n",
       "      <td>2.0</td>\n",
       "      <td>3.0</td>\n",
       "      <td>35.0</td>\n",
       "      <td>1.0</td>\n",
       "      <td>14.0</td>\n",
       "      <td>1.0</td>\n",
       "      <td>19.151585</td>\n",
       "      <td>0.0</td>\n",
       "      <td>0.0</td>\n",
       "      <td>0.0</td>\n",
       "      <td>0</td>\n",
       "    </tr>\n",
       "    <tr>\n",
       "      <td>3</td>\n",
       "      <td>3.0</td>\n",
       "      <td>4.0</td>\n",
       "      <td>24.0</td>\n",
       "      <td>0.0</td>\n",
       "      <td>30.0</td>\n",
       "      <td>1.0</td>\n",
       "      <td>24.772097</td>\n",
       "      <td>1.0</td>\n",
       "      <td>0.0</td>\n",
       "      <td>1.0</td>\n",
       "      <td>0</td>\n",
       "    </tr>\n",
       "    <tr>\n",
       "      <td>4</td>\n",
       "      <td>4.0</td>\n",
       "      <td>5.0</td>\n",
       "      <td>16.0</td>\n",
       "      <td>0.0</td>\n",
       "      <td>270.0</td>\n",
       "      <td>0.0</td>\n",
       "      <td>21.007668</td>\n",
       "      <td>0.0</td>\n",
       "      <td>0.0</td>\n",
       "      <td>0.0</td>\n",
       "      <td>1</td>\n",
       "    </tr>\n",
       "  </tbody>\n",
       "</table>\n",
       "</div>"
      ],
      "text/plain": [
       "   index  patient   age  int_ext  delay  ACL        IMC   BH  BHI  new_BH  \\\n",
       "0    0.0      1.0  17.0      0.0   30.0  1.0  21.604938  0.0  0.0     0.0   \n",
       "1    1.0      2.0  17.0      1.0   30.0  1.0  21.604938  0.0  0.0     0.0   \n",
       "2    2.0      3.0  35.0      1.0   14.0  1.0  19.151585  0.0  0.0     0.0   \n",
       "3    3.0      4.0  24.0      0.0   30.0  1.0  24.772097  1.0  0.0     1.0   \n",
       "4    4.0      5.0  16.0      0.0  270.0  0.0  21.007668  0.0  0.0     0.0   \n",
       "\n",
       "   reprise  \n",
       "0        0  \n",
       "1        0  \n",
       "2        0  \n",
       "3        0  \n",
       "4        1  "
      ]
     },
     "execution_count": 25,
     "metadata": {},
     "output_type": "execute_result"
    }
   ],
   "source": [
    "data.head()"
   ]
  },
  {
   "cell_type": "markdown",
   "metadata": {},
   "source": [
    "# Partie Machine_Learning"
   ]
  },
  {
   "cell_type": "markdown",
   "metadata": {},
   "source": [
    "# Pre_process pipeline"
   ]
  },
  {
   "cell_type": "markdown",
   "metadata": {},
   "source": [
    "feature quanti"
   ]
  },
  {
   "cell_type": "code",
   "execution_count": 26,
   "metadata": {},
   "outputs": [],
   "source": [
    "quanti_feature = ['IMC']"
   ]
  },
  {
   "cell_type": "code",
   "execution_count": 27,
   "metadata": {},
   "outputs": [],
   "source": [
    "transfo_quanti = Pipeline(steps = [\n",
    "    ('normalisation', StandardScaler()) #MinMaxScaler() moins bon\n",
    "])"
   ]
  },
  {
   "cell_type": "code",
   "execution_count": 28,
   "metadata": {},
   "outputs": [],
   "source": [
    "quanti_feature_log = ['age']"
   ]
  },
  {
   "cell_type": "code",
   "execution_count": 29,
   "metadata": {},
   "outputs": [],
   "source": [
    "transfo_quanti_log = Pipeline(steps = [\n",
    "    ('log', FunctionTransformer(np.log1p)), #log transformation \n",
    "    ('normalisation', StandardScaler())\n",
    "])"
   ]
  },
  {
   "cell_type": "markdown",
   "metadata": {},
   "source": [
    "feature catégorie"
   ]
  },
  {
   "cell_type": "code",
   "execution_count": 30,
   "metadata": {},
   "outputs": [],
   "source": [
    "categorical_feature = ['int_ext','ACL', 'new_BH']"
   ]
  },
  {
   "cell_type": "code",
   "execution_count": 31,
   "metadata": {},
   "outputs": [],
   "source": [
    "transfo_categorical = Pipeline(steps = [\n",
    "    ('one_hot_encoding', OneHotEncoder(handle_unknown = 'ignore'))\n",
    "])"
   ]
  },
  {
   "cell_type": "markdown",
   "metadata": {},
   "source": [
    "feature catégorie_ordinal"
   ]
  },
  {
   "cell_type": "code",
   "execution_count": 32,
   "metadata": {},
   "outputs": [],
   "source": [
    "ord_feature = ['delay']"
   ]
  },
  {
   "cell_type": "code",
   "execution_count": 33,
   "metadata": {},
   "outputs": [],
   "source": [
    "transfo_ord_disc = Pipeline(steps = [\n",
    "    ('discretisation', KBinsDiscretizer(n_bins=5, encode='ordinal', strategy='quantile')) #discrétisation\n",
    "])"
   ]
  },
  {
   "cell_type": "markdown",
   "metadata": {},
   "source": [
    "pre_process_pipeline"
   ]
  },
  {
   "cell_type": "code",
   "execution_count": 34,
   "metadata": {},
   "outputs": [],
   "source": [
    "pre_process = ColumnTransformer(\n",
    "    transformers = [\n",
    "        ('quanti', transfo_quanti, quanti_feature),\n",
    "        ('categorical', transfo_categorical, categorical_feature),\n",
    "        ('ord', transfo_ord_disc, ord_feature), \n",
    "        ('quanti_log', transfo_quanti_log, quanti_feature_log)\n",
    "    ])"
   ]
  },
  {
   "cell_type": "markdown",
   "metadata": {},
   "source": [
    "# machine learning pipeline"
   ]
  },
  {
   "cell_type": "code",
   "execution_count": 35,
   "metadata": {},
   "outputs": [],
   "source": [
    "model = Pipeline(steps = [('pre_process', pre_process), \n",
    "                           ('rlog', LogisticRegression()) ])"
   ]
  },
  {
   "cell_type": "code",
   "execution_count": 36,
   "metadata": {},
   "outputs": [],
   "source": [
    "#param_grid selon le modèle\n",
    "#knn\n",
    "param_grid_knn = [\n",
    "                {\n",
    "    'knn__n_neighbors' : [1,2,3,4,5,6,7,8,9,10,11,12, 13, 14, 15],\n",
    "    }]\n",
    "\n",
    "#Paramètres pour autres modèles\n",
    "#Régréssion Log\n",
    "param_grid_log = [\n",
    "                {\n",
    "    'rlog__solver' : ['liblinear', 'newton-cg', 'lbfgs'],\n",
    "    'rlog__penalty' : ['l2'], #tenter une l1\n",
    "    'rlog__C' : [0.01, 0.1, 0.5, 1.0, 10, 50, 100]\n",
    "}, \n",
    "                {\n",
    "    'rlog__solver' : ['liblinear', 'newton-cg', 'lbfgs'],\n",
    "    'rlog__C' : [0.01, 0.1, 0.5, 1.0, 10, 50, 100]\n",
    "},\n",
    "                {\n",
    "    'rlog__solver' : ['liblinear'],\n",
    "    'rlog__penalty' : ['l1'], #tenter une l1\n",
    "    'rlog__C' : [0.01, 0.1, 0.5, 1.0, 10, 50, 100]\n",
    "},\n",
    "                {\n",
    "    'rlog__solver' : ['saga'],\n",
    "    'rlog__penalty' : ['elasticnet'], #tenter une l1\n",
    "    'rlog__C' : [0.01, 0.1, 0.5, 1.0, 10, 50, 100],\n",
    "    'rlog__l1_ratio' : [0.2, 0.5, 0.7]\n",
    "    }]\n",
    "\n",
    "#GradientBoostingClassifier\n",
    "\n",
    "param_grid_gb = [\n",
    "                {\n",
    "    'gb__n_estimators' : [10, 50, 100, 150],\n",
    "    'gb__min_samples_split'  : [2, 4, 7, 10]\n",
    "    }]\n",
    "\n",
    "param_grid_svc = [\n",
    "                {\n",
    "    'svc__kernel' : ['linear', 'sigmoid'],\n",
    "    'svc__C' : [0.01, 0.1, 1, 5, 10, 50]\n",
    "    }]\n",
    "\n",
    "\n",
    "scores = ['roc_auc', 'accuracy', 'recall', 'f1'] # 'f1', 'accuracy'"
   ]
  },
  {
   "cell_type": "code",
   "execution_count": 37,
   "metadata": {},
   "outputs": [
    {
     "name": "stdout",
     "output_type": "stream",
     "text": [
      "Hyperparamètres testés\n"
     ]
    },
    {
     "data": {
      "text/plain": [
       "[{'rlog__solver': ['liblinear', 'newton-cg', 'lbfgs'],\n",
       "  'rlog__penalty': ['l2'],\n",
       "  'rlog__C': [0.01, 0.1, 0.5, 1.0, 10, 50, 100]},\n",
       " {'rlog__solver': ['liblinear', 'newton-cg', 'lbfgs'],\n",
       "  'rlog__C': [0.01, 0.1, 0.5, 1.0, 10, 50, 100]},\n",
       " {'rlog__solver': ['liblinear'],\n",
       "  'rlog__penalty': ['l1'],\n",
       "  'rlog__C': [0.01, 0.1, 0.5, 1.0, 10, 50, 100]},\n",
       " {'rlog__solver': ['saga'],\n",
       "  'rlog__penalty': ['elasticnet'],\n",
       "  'rlog__C': [0.01, 0.1, 0.5, 1.0, 10, 50, 100],\n",
       "  'rlog__l1_ratio': [0.2, 0.5, 0.7]}]"
      ]
     },
     "execution_count": 37,
     "metadata": {},
     "output_type": "execute_result"
    }
   ],
   "source": [
    "print('Hyperparamètres testés')\n",
    "param_grid_log"
   ]
  },
  {
   "cell_type": "code",
   "execution_count": 38,
   "metadata": {},
   "outputs": [],
   "source": [
    "grid_search = GridSearchCV(estimator = model, param_grid = param_grid_log, cv = 7,\n",
    "                           n_jobs = -1, scoring = scores, verbose = 1, refit = False,\n",
    "                           return_train_score = True, error_score = 'raise') #cv 3, 5, 10, pas bcp de données.."
   ]
  },
  {
   "cell_type": "markdown",
   "metadata": {},
   "source": [
    "FEATURES CONSERVEES POUR LA CONSTRUCTION DU MODELE"
   ]
  },
  {
   "cell_type": "code",
   "execution_count": 39,
   "metadata": {},
   "outputs": [],
   "source": [
    "features = ['age','int_ext', 'delay', 'ACL', 'IMC', 'new_BH']\n",
    "x = data[features]"
   ]
  },
  {
   "cell_type": "code",
   "execution_count": 40,
   "metadata": {},
   "outputs": [],
   "source": [
    "y = data['reprise']"
   ]
  },
  {
   "cell_type": "code",
   "execution_count": 41,
   "metadata": {},
   "outputs": [
    {
     "data": {
      "text/html": [
       "<div>\n",
       "<style scoped>\n",
       "    .dataframe tbody tr th:only-of-type {\n",
       "        vertical-align: middle;\n",
       "    }\n",
       "\n",
       "    .dataframe tbody tr th {\n",
       "        vertical-align: top;\n",
       "    }\n",
       "\n",
       "    .dataframe thead th {\n",
       "        text-align: right;\n",
       "    }\n",
       "</style>\n",
       "<table border=\"1\" class=\"dataframe\">\n",
       "  <thead>\n",
       "    <tr style=\"text-align: right;\">\n",
       "      <th></th>\n",
       "      <th>age</th>\n",
       "      <th>int_ext</th>\n",
       "      <th>delay</th>\n",
       "      <th>ACL</th>\n",
       "      <th>IMC</th>\n",
       "      <th>new_BH</th>\n",
       "    </tr>\n",
       "  </thead>\n",
       "  <tbody>\n",
       "    <tr>\n",
       "      <td>0</td>\n",
       "      <td>17.0</td>\n",
       "      <td>0.0</td>\n",
       "      <td>30.0</td>\n",
       "      <td>1.0</td>\n",
       "      <td>21.604938</td>\n",
       "      <td>0.0</td>\n",
       "    </tr>\n",
       "    <tr>\n",
       "      <td>1</td>\n",
       "      <td>17.0</td>\n",
       "      <td>1.0</td>\n",
       "      <td>30.0</td>\n",
       "      <td>1.0</td>\n",
       "      <td>21.604938</td>\n",
       "      <td>0.0</td>\n",
       "    </tr>\n",
       "    <tr>\n",
       "      <td>2</td>\n",
       "      <td>35.0</td>\n",
       "      <td>1.0</td>\n",
       "      <td>14.0</td>\n",
       "      <td>1.0</td>\n",
       "      <td>19.151585</td>\n",
       "      <td>0.0</td>\n",
       "    </tr>\n",
       "    <tr>\n",
       "      <td>3</td>\n",
       "      <td>24.0</td>\n",
       "      <td>0.0</td>\n",
       "      <td>30.0</td>\n",
       "      <td>1.0</td>\n",
       "      <td>24.772097</td>\n",
       "      <td>1.0</td>\n",
       "    </tr>\n",
       "    <tr>\n",
       "      <td>4</td>\n",
       "      <td>16.0</td>\n",
       "      <td>0.0</td>\n",
       "      <td>270.0</td>\n",
       "      <td>0.0</td>\n",
       "      <td>21.007668</td>\n",
       "      <td>0.0</td>\n",
       "    </tr>\n",
       "  </tbody>\n",
       "</table>\n",
       "</div>"
      ],
      "text/plain": [
       "    age  int_ext  delay  ACL        IMC  new_BH\n",
       "0  17.0      0.0   30.0  1.0  21.604938     0.0\n",
       "1  17.0      1.0   30.0  1.0  21.604938     0.0\n",
       "2  35.0      1.0   14.0  1.0  19.151585     0.0\n",
       "3  24.0      0.0   30.0  1.0  24.772097     1.0\n",
       "4  16.0      0.0  270.0  0.0  21.007668     0.0"
      ]
     },
     "execution_count": 41,
     "metadata": {},
     "output_type": "execute_result"
    }
   ],
   "source": [
    "x.head()"
   ]
  },
  {
   "cell_type": "markdown",
   "metadata": {},
   "source": [
    "A la rechercher des meilleurs paramètres..."
   ]
  },
  {
   "cell_type": "code",
   "execution_count": 42,
   "metadata": {
    "scrolled": true
   },
   "outputs": [
    {
     "name": "stdout",
     "output_type": "stream",
     "text": [
      "Fitting 7 folds for each of 70 candidates, totalling 490 fits\n"
     ]
    },
    {
     "name": "stderr",
     "output_type": "stream",
     "text": [
      "[Parallel(n_jobs=-1)]: Using backend LokyBackend with 4 concurrent workers.\n",
      "[Parallel(n_jobs=-1)]: Done  42 tasks      | elapsed:    6.2s\n",
      "[Parallel(n_jobs=-1)]: Done 192 tasks      | elapsed:   12.8s\n",
      "[Parallel(n_jobs=-1)]: Done 442 tasks      | elapsed:   21.7s\n",
      "[Parallel(n_jobs=-1)]: Done 490 out of 490 | elapsed:   23.4s finished\n"
     ]
    },
    {
     "data": {
      "text/plain": [
       "GridSearchCV(cv=7, error_score='raise',\n",
       "             estimator=Pipeline(memory=None,\n",
       "                                steps=[('pre_process',\n",
       "                                        ColumnTransformer(n_jobs=None,\n",
       "                                                          remainder='drop',\n",
       "                                                          sparse_threshold=0.3,\n",
       "                                                          transformer_weights=None,\n",
       "                                                          transformers=[('quanti',\n",
       "                                                                         Pipeline(memory=None,\n",
       "                                                                                  steps=[('normalisation',\n",
       "                                                                                          StandardScaler(copy=True,\n",
       "                                                                                                         with_mean=True,\n",
       "                                                                                                         with_std=True))],\n",
       "                                                                                  verbose=False),\n",
       "                                                                         ['IMC']),\n",
       "                                                                        ('categorical',\n",
       "                                                                         P...\n",
       "                          'rlog__solver': ['liblinear', 'newton-cg', 'lbfgs']},\n",
       "                         {'rlog__C': [0.01, 0.1, 0.5, 1.0, 10, 50, 100],\n",
       "                          'rlog__penalty': ['l1'],\n",
       "                          'rlog__solver': ['liblinear']},\n",
       "                         {'rlog__C': [0.01, 0.1, 0.5, 1.0, 10, 50, 100],\n",
       "                          'rlog__l1_ratio': [0.2, 0.5, 0.7],\n",
       "                          'rlog__penalty': ['elasticnet'],\n",
       "                          'rlog__solver': ['saga']}],\n",
       "             pre_dispatch='2*n_jobs', refit=False, return_train_score=True,\n",
       "             scoring=['roc_auc', 'accuracy', 'recall', 'f1'], verbose=1)"
      ]
     },
     "execution_count": 42,
     "metadata": {},
     "output_type": "execute_result"
    }
   ],
   "source": [
    "grid_search.fit(x, y)"
   ]
  },
  {
   "cell_type": "code",
   "execution_count": 43,
   "metadata": {},
   "outputs": [],
   "source": [
    "#df résumant les résultats (scores, score pour chaque split)\n",
    "dic_results = grid_search.cv_results_\n",
    "df_results = pd.DataFrame(data = dic_results).sort_values(by = ['rank_test_f1', 'rank_test_accuracy', \n",
    "                                                                'rank_test_roc_auc'])\n",
    "df_results = df_results.iloc[:,8:]"
   ]
  },
  {
   "cell_type": "code",
   "execution_count": 44,
   "metadata": {
    "scrolled": true
   },
   "outputs": [
    {
     "data": {
      "text/html": [
       "<div>\n",
       "<style scoped>\n",
       "    .dataframe tbody tr th:only-of-type {\n",
       "        vertical-align: middle;\n",
       "    }\n",
       "\n",
       "    .dataframe tbody tr th {\n",
       "        vertical-align: top;\n",
       "    }\n",
       "\n",
       "    .dataframe thead th {\n",
       "        text-align: right;\n",
       "    }\n",
       "</style>\n",
       "<table border=\"1\" class=\"dataframe\">\n",
       "  <thead>\n",
       "    <tr style=\"text-align: right;\">\n",
       "      <th></th>\n",
       "      <th>params</th>\n",
       "      <th>split0_test_roc_auc</th>\n",
       "      <th>split1_test_roc_auc</th>\n",
       "      <th>split2_test_roc_auc</th>\n",
       "      <th>split3_test_roc_auc</th>\n",
       "      <th>split4_test_roc_auc</th>\n",
       "      <th>split5_test_roc_auc</th>\n",
       "      <th>split6_test_roc_auc</th>\n",
       "      <th>mean_test_roc_auc</th>\n",
       "      <th>std_test_roc_auc</th>\n",
       "      <th>...</th>\n",
       "      <th>rank_test_f1</th>\n",
       "      <th>split0_train_f1</th>\n",
       "      <th>split1_train_f1</th>\n",
       "      <th>split2_train_f1</th>\n",
       "      <th>split3_train_f1</th>\n",
       "      <th>split4_train_f1</th>\n",
       "      <th>split5_train_f1</th>\n",
       "      <th>split6_train_f1</th>\n",
       "      <th>mean_train_f1</th>\n",
       "      <th>std_train_f1</th>\n",
       "    </tr>\n",
       "  </thead>\n",
       "  <tbody>\n",
       "    <tr>\n",
       "      <td>1</td>\n",
       "      <td>{'rlog__C': 0.01, 'rlog__penalty': 'l2', 'rlog...</td>\n",
       "      <td>0.600000</td>\n",
       "      <td>0.944444</td>\n",
       "      <td>0.844444</td>\n",
       "      <td>0.633333</td>\n",
       "      <td>0.901235</td>\n",
       "      <td>0.679012</td>\n",
       "      <td>0.851852</td>\n",
       "      <td>0.779189</td>\n",
       "      <td>0.128263</td>\n",
       "      <td>...</td>\n",
       "      <td>1</td>\n",
       "      <td>0.761062</td>\n",
       "      <td>0.713043</td>\n",
       "      <td>0.722222</td>\n",
       "      <td>0.733945</td>\n",
       "      <td>0.709091</td>\n",
       "      <td>0.752294</td>\n",
       "      <td>0.714286</td>\n",
       "      <td>0.729420</td>\n",
       "      <td>0.018925</td>\n",
       "    </tr>\n",
       "    <tr>\n",
       "      <td>2</td>\n",
       "      <td>{'rlog__C': 0.01, 'rlog__penalty': 'l2', 'rlog...</td>\n",
       "      <td>0.600000</td>\n",
       "      <td>0.944444</td>\n",
       "      <td>0.844444</td>\n",
       "      <td>0.633333</td>\n",
       "      <td>0.901235</td>\n",
       "      <td>0.679012</td>\n",
       "      <td>0.851852</td>\n",
       "      <td>0.779189</td>\n",
       "      <td>0.128263</td>\n",
       "      <td>...</td>\n",
       "      <td>1</td>\n",
       "      <td>0.761062</td>\n",
       "      <td>0.713043</td>\n",
       "      <td>0.722222</td>\n",
       "      <td>0.733945</td>\n",
       "      <td>0.709091</td>\n",
       "      <td>0.752294</td>\n",
       "      <td>0.714286</td>\n",
       "      <td>0.729420</td>\n",
       "      <td>0.018925</td>\n",
       "    </tr>\n",
       "    <tr>\n",
       "      <td>22</td>\n",
       "      <td>{'rlog__C': 0.01, 'rlog__solver': 'newton-cg'}</td>\n",
       "      <td>0.600000</td>\n",
       "      <td>0.944444</td>\n",
       "      <td>0.844444</td>\n",
       "      <td>0.633333</td>\n",
       "      <td>0.901235</td>\n",
       "      <td>0.679012</td>\n",
       "      <td>0.851852</td>\n",
       "      <td>0.779189</td>\n",
       "      <td>0.128263</td>\n",
       "      <td>...</td>\n",
       "      <td>1</td>\n",
       "      <td>0.761062</td>\n",
       "      <td>0.713043</td>\n",
       "      <td>0.722222</td>\n",
       "      <td>0.733945</td>\n",
       "      <td>0.709091</td>\n",
       "      <td>0.752294</td>\n",
       "      <td>0.714286</td>\n",
       "      <td>0.729420</td>\n",
       "      <td>0.018925</td>\n",
       "    </tr>\n",
       "    <tr>\n",
       "      <td>23</td>\n",
       "      <td>{'rlog__C': 0.01, 'rlog__solver': 'lbfgs'}</td>\n",
       "      <td>0.600000</td>\n",
       "      <td>0.944444</td>\n",
       "      <td>0.844444</td>\n",
       "      <td>0.633333</td>\n",
       "      <td>0.901235</td>\n",
       "      <td>0.679012</td>\n",
       "      <td>0.851852</td>\n",
       "      <td>0.779189</td>\n",
       "      <td>0.128263</td>\n",
       "      <td>...</td>\n",
       "      <td>1</td>\n",
       "      <td>0.761062</td>\n",
       "      <td>0.713043</td>\n",
       "      <td>0.722222</td>\n",
       "      <td>0.733945</td>\n",
       "      <td>0.709091</td>\n",
       "      <td>0.752294</td>\n",
       "      <td>0.714286</td>\n",
       "      <td>0.729420</td>\n",
       "      <td>0.018925</td>\n",
       "    </tr>\n",
       "    <tr>\n",
       "      <td>0</td>\n",
       "      <td>{'rlog__C': 0.01, 'rlog__penalty': 'l2', 'rlog...</td>\n",
       "      <td>0.611111</td>\n",
       "      <td>0.922222</td>\n",
       "      <td>0.822222</td>\n",
       "      <td>0.677778</td>\n",
       "      <td>0.962963</td>\n",
       "      <td>0.666667</td>\n",
       "      <td>0.839506</td>\n",
       "      <td>0.786067</td>\n",
       "      <td>0.125690</td>\n",
       "      <td>...</td>\n",
       "      <td>5</td>\n",
       "      <td>0.781955</td>\n",
       "      <td>0.730159</td>\n",
       "      <td>0.747967</td>\n",
       "      <td>0.734375</td>\n",
       "      <td>0.732824</td>\n",
       "      <td>0.744186</td>\n",
       "      <td>0.765625</td>\n",
       "      <td>0.748156</td>\n",
       "      <td>0.017777</td>\n",
       "    </tr>\n",
       "    <tr>\n",
       "      <td>...</td>\n",
       "      <td>...</td>\n",
       "      <td>...</td>\n",
       "      <td>...</td>\n",
       "      <td>...</td>\n",
       "      <td>...</td>\n",
       "      <td>...</td>\n",
       "      <td>...</td>\n",
       "      <td>...</td>\n",
       "      <td>...</td>\n",
       "      <td>...</td>\n",
       "      <td>...</td>\n",
       "      <td>...</td>\n",
       "      <td>...</td>\n",
       "      <td>...</td>\n",
       "      <td>...</td>\n",
       "      <td>...</td>\n",
       "      <td>...</td>\n",
       "      <td>...</td>\n",
       "      <td>...</td>\n",
       "      <td>...</td>\n",
       "      <td>...</td>\n",
       "    </tr>\n",
       "    <tr>\n",
       "      <td>49</td>\n",
       "      <td>{'rlog__C': 0.01, 'rlog__l1_ratio': 0.2, 'rlog...</td>\n",
       "      <td>0.600000</td>\n",
       "      <td>0.894444</td>\n",
       "      <td>0.811111</td>\n",
       "      <td>0.450000</td>\n",
       "      <td>0.839506</td>\n",
       "      <td>0.672840</td>\n",
       "      <td>0.814815</td>\n",
       "      <td>0.726102</td>\n",
       "      <td>0.147002</td>\n",
       "      <td>...</td>\n",
       "      <td>66</td>\n",
       "      <td>0.698413</td>\n",
       "      <td>0.661417</td>\n",
       "      <td>0.666667</td>\n",
       "      <td>0.720000</td>\n",
       "      <td>0.653846</td>\n",
       "      <td>0.699029</td>\n",
       "      <td>0.679612</td>\n",
       "      <td>0.682712</td>\n",
       "      <td>0.022223</td>\n",
       "    </tr>\n",
       "    <tr>\n",
       "      <td>43</td>\n",
       "      <td>{'rlog__C': 0.1, 'rlog__penalty': 'l1', 'rlog_...</td>\n",
       "      <td>0.611111</td>\n",
       "      <td>0.900000</td>\n",
       "      <td>0.833333</td>\n",
       "      <td>0.516667</td>\n",
       "      <td>0.839506</td>\n",
       "      <td>0.567901</td>\n",
       "      <td>0.851852</td>\n",
       "      <td>0.731481</td>\n",
       "      <td>0.147514</td>\n",
       "      <td>...</td>\n",
       "      <td>67</td>\n",
       "      <td>0.713287</td>\n",
       "      <td>0.685315</td>\n",
       "      <td>0.723404</td>\n",
       "      <td>0.688000</td>\n",
       "      <td>0.705882</td>\n",
       "      <td>0.738462</td>\n",
       "      <td>0.666667</td>\n",
       "      <td>0.703002</td>\n",
       "      <td>0.022822</td>\n",
       "    </tr>\n",
       "    <tr>\n",
       "      <td>50</td>\n",
       "      <td>{'rlog__C': 0.01, 'rlog__l1_ratio': 0.5, 'rlog...</td>\n",
       "      <td>0.500000</td>\n",
       "      <td>0.500000</td>\n",
       "      <td>0.500000</td>\n",
       "      <td>0.500000</td>\n",
       "      <td>0.500000</td>\n",
       "      <td>0.500000</td>\n",
       "      <td>0.500000</td>\n",
       "      <td>0.500000</td>\n",
       "      <td>0.000000</td>\n",
       "      <td>...</td>\n",
       "      <td>68</td>\n",
       "      <td>0.670659</td>\n",
       "      <td>0.670659</td>\n",
       "      <td>0.000000</td>\n",
       "      <td>0.000000</td>\n",
       "      <td>0.666667</td>\n",
       "      <td>0.000000</td>\n",
       "      <td>0.000000</td>\n",
       "      <td>0.286855</td>\n",
       "      <td>0.331234</td>\n",
       "    </tr>\n",
       "    <tr>\n",
       "      <td>51</td>\n",
       "      <td>{'rlog__C': 0.01, 'rlog__l1_ratio': 0.7, 'rlog...</td>\n",
       "      <td>0.500000</td>\n",
       "      <td>0.500000</td>\n",
       "      <td>0.500000</td>\n",
       "      <td>0.500000</td>\n",
       "      <td>0.500000</td>\n",
       "      <td>0.500000</td>\n",
       "      <td>0.500000</td>\n",
       "      <td>0.500000</td>\n",
       "      <td>0.000000</td>\n",
       "      <td>...</td>\n",
       "      <td>69</td>\n",
       "      <td>0.670659</td>\n",
       "      <td>0.000000</td>\n",
       "      <td>0.000000</td>\n",
       "      <td>0.000000</td>\n",
       "      <td>0.000000</td>\n",
       "      <td>0.666667</td>\n",
       "      <td>0.000000</td>\n",
       "      <td>0.191046</td>\n",
       "      <td>0.302073</td>\n",
       "    </tr>\n",
       "    <tr>\n",
       "      <td>42</td>\n",
       "      <td>{'rlog__C': 0.01, 'rlog__penalty': 'l1', 'rlog...</td>\n",
       "      <td>0.500000</td>\n",
       "      <td>0.500000</td>\n",
       "      <td>0.500000</td>\n",
       "      <td>0.500000</td>\n",
       "      <td>0.500000</td>\n",
       "      <td>0.500000</td>\n",
       "      <td>0.500000</td>\n",
       "      <td>0.500000</td>\n",
       "      <td>0.000000</td>\n",
       "      <td>...</td>\n",
       "      <td>70</td>\n",
       "      <td>0.000000</td>\n",
       "      <td>0.000000</td>\n",
       "      <td>0.000000</td>\n",
       "      <td>0.000000</td>\n",
       "      <td>0.000000</td>\n",
       "      <td>0.000000</td>\n",
       "      <td>0.000000</td>\n",
       "      <td>0.000000</td>\n",
       "      <td>0.000000</td>\n",
       "    </tr>\n",
       "  </tbody>\n",
       "</table>\n",
       "<p>70 rows × 77 columns</p>\n",
       "</div>"
      ],
      "text/plain": [
       "                                               params  split0_test_roc_auc  \\\n",
       "1   {'rlog__C': 0.01, 'rlog__penalty': 'l2', 'rlog...             0.600000   \n",
       "2   {'rlog__C': 0.01, 'rlog__penalty': 'l2', 'rlog...             0.600000   \n",
       "22     {'rlog__C': 0.01, 'rlog__solver': 'newton-cg'}             0.600000   \n",
       "23         {'rlog__C': 0.01, 'rlog__solver': 'lbfgs'}             0.600000   \n",
       "0   {'rlog__C': 0.01, 'rlog__penalty': 'l2', 'rlog...             0.611111   \n",
       "..                                                ...                  ...   \n",
       "49  {'rlog__C': 0.01, 'rlog__l1_ratio': 0.2, 'rlog...             0.600000   \n",
       "43  {'rlog__C': 0.1, 'rlog__penalty': 'l1', 'rlog_...             0.611111   \n",
       "50  {'rlog__C': 0.01, 'rlog__l1_ratio': 0.5, 'rlog...             0.500000   \n",
       "51  {'rlog__C': 0.01, 'rlog__l1_ratio': 0.7, 'rlog...             0.500000   \n",
       "42  {'rlog__C': 0.01, 'rlog__penalty': 'l1', 'rlog...             0.500000   \n",
       "\n",
       "    split1_test_roc_auc  split2_test_roc_auc  split3_test_roc_auc  \\\n",
       "1              0.944444             0.844444             0.633333   \n",
       "2              0.944444             0.844444             0.633333   \n",
       "22             0.944444             0.844444             0.633333   \n",
       "23             0.944444             0.844444             0.633333   \n",
       "0              0.922222             0.822222             0.677778   \n",
       "..                  ...                  ...                  ...   \n",
       "49             0.894444             0.811111             0.450000   \n",
       "43             0.900000             0.833333             0.516667   \n",
       "50             0.500000             0.500000             0.500000   \n",
       "51             0.500000             0.500000             0.500000   \n",
       "42             0.500000             0.500000             0.500000   \n",
       "\n",
       "    split4_test_roc_auc  split5_test_roc_auc  split6_test_roc_auc  \\\n",
       "1              0.901235             0.679012             0.851852   \n",
       "2              0.901235             0.679012             0.851852   \n",
       "22             0.901235             0.679012             0.851852   \n",
       "23             0.901235             0.679012             0.851852   \n",
       "0              0.962963             0.666667             0.839506   \n",
       "..                  ...                  ...                  ...   \n",
       "49             0.839506             0.672840             0.814815   \n",
       "43             0.839506             0.567901             0.851852   \n",
       "50             0.500000             0.500000             0.500000   \n",
       "51             0.500000             0.500000             0.500000   \n",
       "42             0.500000             0.500000             0.500000   \n",
       "\n",
       "    mean_test_roc_auc  std_test_roc_auc  ...  rank_test_f1  split0_train_f1  \\\n",
       "1            0.779189          0.128263  ...             1         0.761062   \n",
       "2            0.779189          0.128263  ...             1         0.761062   \n",
       "22           0.779189          0.128263  ...             1         0.761062   \n",
       "23           0.779189          0.128263  ...             1         0.761062   \n",
       "0            0.786067          0.125690  ...             5         0.781955   \n",
       "..                ...               ...  ...           ...              ...   \n",
       "49           0.726102          0.147002  ...            66         0.698413   \n",
       "43           0.731481          0.147514  ...            67         0.713287   \n",
       "50           0.500000          0.000000  ...            68         0.670659   \n",
       "51           0.500000          0.000000  ...            69         0.670659   \n",
       "42           0.500000          0.000000  ...            70         0.000000   \n",
       "\n",
       "    split1_train_f1  split2_train_f1  split3_train_f1  split4_train_f1  \\\n",
       "1          0.713043         0.722222         0.733945         0.709091   \n",
       "2          0.713043         0.722222         0.733945         0.709091   \n",
       "22         0.713043         0.722222         0.733945         0.709091   \n",
       "23         0.713043         0.722222         0.733945         0.709091   \n",
       "0          0.730159         0.747967         0.734375         0.732824   \n",
       "..              ...              ...              ...              ...   \n",
       "49         0.661417         0.666667         0.720000         0.653846   \n",
       "43         0.685315         0.723404         0.688000         0.705882   \n",
       "50         0.670659         0.000000         0.000000         0.666667   \n",
       "51         0.000000         0.000000         0.000000         0.000000   \n",
       "42         0.000000         0.000000         0.000000         0.000000   \n",
       "\n",
       "    split5_train_f1  split6_train_f1  mean_train_f1  std_train_f1  \n",
       "1          0.752294         0.714286       0.729420      0.018925  \n",
       "2          0.752294         0.714286       0.729420      0.018925  \n",
       "22         0.752294         0.714286       0.729420      0.018925  \n",
       "23         0.752294         0.714286       0.729420      0.018925  \n",
       "0          0.744186         0.765625       0.748156      0.017777  \n",
       "..              ...              ...            ...           ...  \n",
       "49         0.699029         0.679612       0.682712      0.022223  \n",
       "43         0.738462         0.666667       0.703002      0.022822  \n",
       "50         0.000000         0.000000       0.286855      0.331234  \n",
       "51         0.666667         0.000000       0.191046      0.302073  \n",
       "42         0.000000         0.000000       0.000000      0.000000  \n",
       "\n",
       "[70 rows x 77 columns]"
      ]
     },
     "execution_count": 44,
     "metadata": {},
     "output_type": "execute_result"
    }
   ],
   "source": [
    "df_results"
   ]
  },
  {
   "cell_type": "markdown",
   "metadata": {},
   "source": [
    "# Analyse Overfiiting"
   ]
  },
  {
   "cell_type": "code",
   "execution_count": 45,
   "metadata": {},
   "outputs": [
    {
     "name": "stdout",
     "output_type": "stream",
     "text": [
      "70 modèles analysés\n",
      "Modèles triés par ordre f1, accuracy, roc_auc - dans l'ordre décroissant\n"
     ]
    }
   ],
   "source": [
    "print('{} modèles analysés'.format(df_results.shape[0]))\n",
    "print('Modèles triés par ordre f1, accuracy, roc_auc - dans l\\'ordre décroissant')"
   ]
  },
  {
   "cell_type": "code",
   "execution_count": 46,
   "metadata": {},
   "outputs": [
    {
     "data": {
      "text/html": [
       "<div>\n",
       "<style scoped>\n",
       "    .dataframe tbody tr th:only-of-type {\n",
       "        vertical-align: middle;\n",
       "    }\n",
       "\n",
       "    .dataframe tbody tr th {\n",
       "        vertical-align: top;\n",
       "    }\n",
       "\n",
       "    .dataframe thead th {\n",
       "        text-align: right;\n",
       "    }\n",
       "</style>\n",
       "<table border=\"1\" class=\"dataframe\">\n",
       "  <thead>\n",
       "    <tr style=\"text-align: right;\">\n",
       "      <th></th>\n",
       "      <th>mean_test_roc_auc</th>\n",
       "      <th>mean_train_roc_auc</th>\n",
       "      <th>rank_test_roc_auc</th>\n",
       "      <th>mean_test_f1</th>\n",
       "      <th>mean_train_f1</th>\n",
       "      <th>rank_test_f1</th>\n",
       "      <th>mean_test_accuracy</th>\n",
       "      <th>mean_train_accuracy</th>\n",
       "      <th>rank_test_accuracy</th>\n",
       "    </tr>\n",
       "  </thead>\n",
       "  <tbody>\n",
       "    <tr>\n",
       "      <td>1</td>\n",
       "      <td>0.779189</td>\n",
       "      <td>0.803690</td>\n",
       "      <td>52</td>\n",
       "      <td>0.728657</td>\n",
       "      <td>0.729420</td>\n",
       "      <td>1</td>\n",
       "      <td>0.724311</td>\n",
       "      <td>0.730775</td>\n",
       "      <td>35</td>\n",
       "    </tr>\n",
       "    <tr>\n",
       "      <td>2</td>\n",
       "      <td>0.779189</td>\n",
       "      <td>0.803690</td>\n",
       "      <td>52</td>\n",
       "      <td>0.728657</td>\n",
       "      <td>0.729420</td>\n",
       "      <td>1</td>\n",
       "      <td>0.724311</td>\n",
       "      <td>0.730775</td>\n",
       "      <td>35</td>\n",
       "    </tr>\n",
       "    <tr>\n",
       "      <td>22</td>\n",
       "      <td>0.779189</td>\n",
       "      <td>0.803690</td>\n",
       "      <td>52</td>\n",
       "      <td>0.728657</td>\n",
       "      <td>0.729420</td>\n",
       "      <td>1</td>\n",
       "      <td>0.724311</td>\n",
       "      <td>0.730775</td>\n",
       "      <td>35</td>\n",
       "    </tr>\n",
       "    <tr>\n",
       "      <td>23</td>\n",
       "      <td>0.779189</td>\n",
       "      <td>0.803690</td>\n",
       "      <td>52</td>\n",
       "      <td>0.728657</td>\n",
       "      <td>0.729420</td>\n",
       "      <td>1</td>\n",
       "      <td>0.724311</td>\n",
       "      <td>0.730775</td>\n",
       "      <td>35</td>\n",
       "    </tr>\n",
       "    <tr>\n",
       "      <td>0</td>\n",
       "      <td>0.786067</td>\n",
       "      <td>0.811688</td>\n",
       "      <td>49</td>\n",
       "      <td>0.728463</td>\n",
       "      <td>0.748156</td>\n",
       "      <td>5</td>\n",
       "      <td>0.685881</td>\n",
       "      <td>0.710264</td>\n",
       "      <td>64</td>\n",
       "    </tr>\n",
       "  </tbody>\n",
       "</table>\n",
       "</div>"
      ],
      "text/plain": [
       "    mean_test_roc_auc  mean_train_roc_auc  rank_test_roc_auc  mean_test_f1  \\\n",
       "1            0.779189            0.803690                 52      0.728657   \n",
       "2            0.779189            0.803690                 52      0.728657   \n",
       "22           0.779189            0.803690                 52      0.728657   \n",
       "23           0.779189            0.803690                 52      0.728657   \n",
       "0            0.786067            0.811688                 49      0.728463   \n",
       "\n",
       "    mean_train_f1  rank_test_f1  mean_test_accuracy  mean_train_accuracy  \\\n",
       "1        0.729420             1            0.724311             0.730775   \n",
       "2        0.729420             1            0.724311             0.730775   \n",
       "22       0.729420             1            0.724311             0.730775   \n",
       "23       0.729420             1            0.724311             0.730775   \n",
       "0        0.748156             5            0.685881             0.710264   \n",
       "\n",
       "    rank_test_accuracy  \n",
       "1                   35  \n",
       "2                   35  \n",
       "22                  35  \n",
       "23                  35  \n",
       "0                   64  "
      ]
     },
     "execution_count": 46,
     "metadata": {},
     "output_type": "execute_result"
    }
   ],
   "source": [
    "df_scores_train_test = df_results[['mean_test_roc_auc', 'mean_train_roc_auc', 'rank_test_roc_auc',\n",
    "                                   'mean_test_f1', 'mean_train_f1', 'rank_test_f1', \n",
    "                                   'mean_test_accuracy', 'mean_train_accuracy', 'rank_test_accuracy']]\n",
    "df_scores_train_test.head()"
   ]
  },
  {
   "cell_type": "code",
   "execution_count": 47,
   "metadata": {},
   "outputs": [
    {
     "name": "stdout",
     "output_type": "stream",
     "text": [
      "Meilleurs modèles\n"
     ]
    },
    {
     "name": "stderr",
     "output_type": "stream",
     "text": [
      "C:\\Users\\Admin\\Anaconda3\\lib\\site-packages\\ipykernel_launcher.py:5: SettingWithCopyWarning: \n",
      "A value is trying to be set on a copy of a slice from a DataFrame.\n",
      "Try using .loc[row_indexer,col_indexer] = value instead\n",
      "\n",
      "See the caveats in the documentation: http://pandas.pydata.org/pandas-docs/stable/user_guide/indexing.html#returning-a-view-versus-a-copy\n",
      "  \"\"\"\n",
      "C:\\Users\\Admin\\Anaconda3\\lib\\site-packages\\ipykernel_launcher.py:11: SettingWithCopyWarning: \n",
      "A value is trying to be set on a copy of a slice from a DataFrame.\n",
      "Try using .loc[row_indexer,col_indexer] = value instead\n",
      "\n",
      "See the caveats in the documentation: http://pandas.pydata.org/pandas-docs/stable/user_guide/indexing.html#returning-a-view-versus-a-copy\n",
      "  # This is added back by InteractiveShellApp.init_path()\n"
     ]
    },
    {
     "data": {
      "text/html": [
       "<div>\n",
       "<style scoped>\n",
       "    .dataframe tbody tr th:only-of-type {\n",
       "        vertical-align: middle;\n",
       "    }\n",
       "\n",
       "    .dataframe tbody tr th {\n",
       "        vertical-align: top;\n",
       "    }\n",
       "\n",
       "    .dataframe thead th {\n",
       "        text-align: right;\n",
       "    }\n",
       "</style>\n",
       "<table border=\"1\" class=\"dataframe\">\n",
       "  <thead>\n",
       "    <tr style=\"text-align: right;\">\n",
       "      <th></th>\n",
       "      <th>score_roc_auc</th>\n",
       "      <th>rank_test_roc_auc</th>\n",
       "      <th>score_f1</th>\n",
       "      <th>rank_test_f1</th>\n",
       "      <th>score_accuracy</th>\n",
       "      <th>rank_test_accuracy</th>\n",
       "      <th>train/test</th>\n",
       "      <th>modele</th>\n",
       "    </tr>\n",
       "  </thead>\n",
       "  <tbody>\n",
       "    <tr>\n",
       "      <td>1</td>\n",
       "      <td>0.779189</td>\n",
       "      <td>52</td>\n",
       "      <td>0.728657</td>\n",
       "      <td>1</td>\n",
       "      <td>0.724311</td>\n",
       "      <td>35</td>\n",
       "      <td>test</td>\n",
       "      <td>1</td>\n",
       "    </tr>\n",
       "    <tr>\n",
       "      <td>2</td>\n",
       "      <td>0.779189</td>\n",
       "      <td>52</td>\n",
       "      <td>0.728657</td>\n",
       "      <td>1</td>\n",
       "      <td>0.724311</td>\n",
       "      <td>35</td>\n",
       "      <td>test</td>\n",
       "      <td>2</td>\n",
       "    </tr>\n",
       "    <tr>\n",
       "      <td>22</td>\n",
       "      <td>0.779189</td>\n",
       "      <td>52</td>\n",
       "      <td>0.728657</td>\n",
       "      <td>1</td>\n",
       "      <td>0.724311</td>\n",
       "      <td>35</td>\n",
       "      <td>test</td>\n",
       "      <td>22</td>\n",
       "    </tr>\n",
       "    <tr>\n",
       "      <td>23</td>\n",
       "      <td>0.779189</td>\n",
       "      <td>52</td>\n",
       "      <td>0.728657</td>\n",
       "      <td>1</td>\n",
       "      <td>0.724311</td>\n",
       "      <td>35</td>\n",
       "      <td>test</td>\n",
       "      <td>23</td>\n",
       "    </tr>\n",
       "    <tr>\n",
       "      <td>0</td>\n",
       "      <td>0.786067</td>\n",
       "      <td>49</td>\n",
       "      <td>0.728463</td>\n",
       "      <td>5</td>\n",
       "      <td>0.685881</td>\n",
       "      <td>64</td>\n",
       "      <td>test</td>\n",
       "      <td>0</td>\n",
       "    </tr>\n",
       "  </tbody>\n",
       "</table>\n",
       "</div>"
      ],
      "text/plain": [
       "    score_roc_auc  rank_test_roc_auc  score_f1  rank_test_f1  score_accuracy  \\\n",
       "1        0.779189                 52  0.728657             1        0.724311   \n",
       "2        0.779189                 52  0.728657             1        0.724311   \n",
       "22       0.779189                 52  0.728657             1        0.724311   \n",
       "23       0.779189                 52  0.728657             1        0.724311   \n",
       "0        0.786067                 49  0.728463             5        0.685881   \n",
       "\n",
       "    rank_test_accuracy train/test  modele  \n",
       "1                   35       test       1  \n",
       "2                   35       test       2  \n",
       "22                  35       test      22  \n",
       "23                  35       test      23  \n",
       "0                   64       test       0  "
      ]
     },
     "execution_count": 47,
     "metadata": {},
     "output_type": "execute_result"
    }
   ],
   "source": [
    "print('Meilleurs modèles')\n",
    "\n",
    "test_scores = df_results[['mean_test_roc_auc', 'rank_test_roc_auc', 'mean_test_f1', 'rank_test_f1',\n",
    "                         'mean_test_accuracy', 'rank_test_accuracy']]\n",
    "test_scores['train/test'] = 'test'\n",
    "test_scores = test_scores.rename(columns = {'mean_test_roc_auc' : 'score_roc_auc', 'mean_test_f1' : 'score_f1',\n",
    "                                           'mean_test_accuracy' : 'score_accuracy'})\n",
    "\n",
    "train_scores = df_results[['mean_train_roc_auc', 'rank_test_roc_auc', 'mean_train_f1', 'rank_test_f1',\n",
    "                          'mean_train_accuracy', 'rank_test_accuracy']]\n",
    "train_scores['train/test'] = 'train'\n",
    "train_scores = train_scores.rename(columns = {'mean_train_roc_auc' : 'score_roc_auc', 'mean_train_f1' : 'score_f1',\n",
    "                                             'mean_train_accuracy' : 'score_accuracy'})\n",
    "\n",
    "test_train_scores = pd.concat([test_scores, train_scores], axis = 0)\n",
    "test_train_scores['modele'] = test_train_scores.index\n",
    "test_train_scores.head()"
   ]
  },
  {
   "cell_type": "markdown",
   "metadata": {},
   "source": [
    "Graphs pour analyser le sur-apprentissage entre chaque modèle, pour chaque metrique (accuracy, f1, AUC)"
   ]
  },
  {
   "cell_type": "code",
   "execution_count": 48,
   "metadata": {},
   "outputs": [
    {
     "data": {
      "text/plain": [
       "(0.2, 1)"
      ]
     },
     "execution_count": 48,
     "metadata": {},
     "output_type": "execute_result"
    },
    {
     "data": {
      "image/png": "[encoded data removed]",
      "text/plain": [
       "<Figure size 1080x360 with 1 Axes>"
      ]
     },
     "metadata": {
      "needs_background": "light"
     },
     "output_type": "display_data"
    },
    {
     "data": {
      "image/png": "[encoded data removed]",
      "text/plain": [
       "<Figure size 1080x360 with 1 Axes>"
      ]
     },
     "metadata": {
      "needs_background": "light"
     },
     "output_type": "display_data"
    },
    {
     "data": {
      "image/png": "[encoded data removed]",
      "text/plain": [
       "<Figure size 1080x360 with 1 Axes>"
      ]
     },
     "metadata": {
      "needs_background": "light"
     },
     "output_type": "display_data"
    }
   ],
   "source": [
    "plt.figure(figsize=(15,5))\n",
    "ax = sns.barplot(x='modele', y=\"score_roc_auc\", hue=\"train/test\", data=test_train_scores)\n",
    "plt.ylim(0.2,1)\n",
    "\n",
    "plt.figure(figsize=(15,5))\n",
    "ax = sns.barplot(x='modele', y=\"score_f1\", hue=\"train/test\", data=test_train_scores)\n",
    "plt.ylim(0.2,1)\n",
    "\n",
    "plt.figure(figsize=(15,5))\n",
    "ax = sns.barplot(x='modele', y=\"score_accuracy\", hue=\"train/test\", data=test_train_scores)\n",
    "plt.ylim(0.2,1)"
   ]
  },
  {
   "cell_type": "markdown",
   "metadata": {},
   "source": [
    "# Courbe d'apprentissage sur modèle de son choix"
   ]
  },
  {
   "cell_type": "markdown",
   "metadata": {},
   "source": [
    "Choisir le modèle à analyser plus précisément ci-dessous"
   ]
  },
  {
   "cell_type": "code",
   "execution_count": 53,
   "metadata": {},
   "outputs": [],
   "source": [
    "#modèle choisi à analyser plus précisément, en\n",
    "num_modele = 1"
   ]
  },
  {
   "cell_type": "code",
   "execution_count": 54,
   "metadata": {},
   "outputs": [],
   "source": [
    "params = pd.DataFrame(data = dic_results)['params'][num_modele]"
   ]
  },
  {
   "cell_type": "code",
   "execution_count": 55,
   "metadata": {},
   "outputs": [
    {
     "name": "stdout",
     "output_type": "stream",
     "text": [
      "Paramètres utilisés dans le modèle\n"
     ]
    },
    {
     "data": {
      "text/plain": [
       "{'rlog__C': 0.01, 'rlog__penalty': 'l2', 'rlog__solver': 'newton-cg'}"
      ]
     },
     "execution_count": 55,
     "metadata": {},
     "output_type": "execute_result"
    }
   ],
   "source": [
    "print('Paramètres utilisés dans le modèle')\n",
    "params"
   ]
  },
  {
   "cell_type": "code",
   "execution_count": 56,
   "metadata": {},
   "outputs": [],
   "source": [
    "my_model = Pipeline(steps = [('pre_process', pre_process), \n",
    "                               ('rlog',LogisticRegression(C= params['rlog__C'],\n",
    "                                                         solver= params['rlog__solver'],\n",
    "                                                         penalty= params['rlog__penalty']) ) ])"
   ]
  },
  {
   "cell_type": "code",
   "execution_count": 57,
   "metadata": {},
   "outputs": [
    {
     "name": "stdout",
     "output_type": "stream",
     "text": [
      "[learning_curve] Training set sizes: [20 30 50 60 80]\n"
     ]
    },
    {
     "name": "stderr",
     "output_type": "stream",
     "text": [
      "[Parallel(n_jobs=-1)]: Using backend LokyBackend with 4 concurrent workers.\n",
      "[Parallel(n_jobs=-1)]: Done  35 out of  35 | elapsed:    1.0s finished\n"
     ]
    }
   ],
   "source": [
    "train_sizes = [20, 30, 50, 60, 80]\n",
    "train_sizes, train_scores, validation_scores = learning_curve(\n",
    "                                                estimator = my_model, X = x,\n",
    "                                                y = y, train_sizes = train_sizes, cv = 7,\n",
    "                                                scoring = 'accuracy', shuffle = True, n_jobs = -1,\n",
    "                                                verbose = 1, random_state = 1\n",
    "                                                )"
   ]
  },
  {
   "cell_type": "code",
   "execution_count": 58,
   "metadata": {},
   "outputs": [
    {
     "name": "stdout",
     "output_type": "stream",
     "text": [
      "Moyenne accuracy entrainement de tous les folds\n",
      "\n",
      " 20    0.642857\n",
      "30    0.695238\n",
      "50    0.677143\n",
      "60    0.702381\n",
      "80    0.710714\n",
      "dtype: float64\n",
      "\n",
      " --------------------\n",
      "Moyenne accuracy test de tous les folds\n",
      "\n",
      " 20    0.555556\n",
      "30    0.602757\n",
      "50    0.654553\n",
      "60    0.670844\n",
      "80    0.677945\n",
      "dtype: float64\n"
     ]
    }
   ],
   "source": [
    "train_scores_mean = train_scores.mean(axis = 1)\n",
    "validation_scores_mean = validation_scores.mean(axis = 1)\n",
    "\n",
    "print('Moyenne accuracy entrainement de tous les folds\\n\\n', pd.Series(train_scores_mean, index = train_sizes))\n",
    "print('\\n', '-' * 20) # separator\n",
    "print('Moyenne accuracy test de tous les folds\\n\\n',pd.Series(validation_scores_mean, index = train_sizes))"
   ]
  },
  {
   "cell_type": "code",
   "execution_count": 59,
   "metadata": {},
   "outputs": [
    {
     "data": {
      "text/plain": [
       "(0.3, 1)"
      ]
     },
     "execution_count": 59,
     "metadata": {},
     "output_type": "execute_result"
    },
    {
     "data": {
      "image/png": "[encoded data removed]",
      "text/plain": [
       "<Figure size 576x396 with 1 Axes>"
      ]
     },
     "metadata": {},
     "output_type": "display_data"
    }
   ],
   "source": [
    "plt.style.use('seaborn')\n",
    "plt.plot(train_sizes, train_scores_mean, label = 'Training accuracy')\n",
    "plt.plot(train_sizes, validation_scores_mean, label = 'Validation accuracy')\n",
    "\n",
    "plt.ylabel('accuracy', fontsize=14)\n",
    "plt.xlabel('Taille de la base d\\'entrainement', fontsize=14)\n",
    "plt.title(\"Courbe d'apprentissage\", fontsize=18, y=1.03)\n",
    "plt.legend()\n",
    "plt.ylim(0.3,1)"
   ]
  },
  {
   "cell_type": "markdown",
   "metadata": {},
   "source": [
    "# Entrainement et Sauvegarde du modèle final"
   ]
  },
  {
   "cell_type": "markdown",
   "metadata": {},
   "source": [
    "my_model créé avant la courbe d'apprentissage (pre_processing inclu)"
   ]
  },
  {
   "cell_type": "code",
   "execution_count": 60,
   "metadata": {},
   "outputs": [
    {
     "data": {
      "text/plain": [
       "Pipeline(memory=None,\n",
       "         steps=[('pre_process',\n",
       "                 ColumnTransformer(n_jobs=None, remainder='drop',\n",
       "                                   sparse_threshold=0.3,\n",
       "                                   transformer_weights=None,\n",
       "                                   transformers=[('quanti',\n",
       "                                                  Pipeline(memory=None,\n",
       "                                                           steps=[('normalisation',\n",
       "                                                                   StandardScaler(copy=True,\n",
       "                                                                                  with_mean=True,\n",
       "                                                                                  with_std=True))],\n",
       "                                                           verbose=False),\n",
       "                                                  ['IMC']),\n",
       "                                                 ('categorical',\n",
       "                                                  Pipeline(memory=None,\n",
       "                                                           steps=[('one_hot_encoding',\n",
       "                                                                   O...\n",
       "                                                                   StandardScaler(copy=True,\n",
       "                                                                                  with_mean=True,\n",
       "                                                                                  with_std=True))],\n",
       "                                                           verbose=False),\n",
       "                                                  ['age'])],\n",
       "                                   verbose=False)),\n",
       "                ('rlog',\n",
       "                 LogisticRegression(C=0.01, class_weight=None, dual=False,\n",
       "                                    fit_intercept=True, intercept_scaling=1,\n",
       "                                    l1_ratio=None, max_iter=100,\n",
       "                                    multi_class='auto', n_jobs=None,\n",
       "                                    penalty='l2', random_state=None,\n",
       "                                    solver='newton-cg', tol=0.0001, verbose=0,\n",
       "                                    warm_start=False))],\n",
       "         verbose=False)"
      ]
     },
     "execution_count": 60,
     "metadata": {},
     "output_type": "execute_result"
    }
   ],
   "source": [
    "my_model.fit(x, y)"
   ]
  },
  {
   "cell_type": "code",
   "execution_count": 61,
   "metadata": {},
   "outputs": [],
   "source": [
    "pickle.dump(my_model, open(current_dir + '/reg_log_model.pkl','wb'))"
   ]
  },
  {
   "cell_type": "markdown",
   "metadata": {},
   "source": [
    "# Importance des features"
   ]
  },
  {
   "cell_type": "code",
   "execution_count": 62,
   "metadata": {},
   "outputs": [
    {
     "data": {
      "text/html": [
       "\n",
       "    <style>\n",
       "    table.eli5-weights tr:hover {\n",
       "        filter: brightness(85%);\n",
       "    }\n",
       "</style>\n",
       "\n",
       "\n",
       "\n",
       "    \n",
       "\n",
       "    \n",
       "\n",
       "    \n",
       "\n",
       "    \n",
       "\n",
       "    \n",
       "\n",
       "    \n",
       "\n",
       "\n",
       "    \n",
       "\n",
       "    \n",
       "\n",
       "    \n",
       "\n",
       "    \n",
       "\n",
       "    \n",
       "\n",
       "    \n",
       "\n",
       "\n",
       "    \n",
       "\n",
       "    \n",
       "\n",
       "    \n",
       "\n",
       "    \n",
       "\n",
       "    \n",
       "        <table class=\"eli5-weights eli5-feature-importances\" style=\"border-collapse: collapse; border: none; margin-top: 0em; table-layout: auto;\">\n",
       "    <thead>\n",
       "    <tr style=\"border: none;\">\n",
       "        <th style=\"padding: 0 1em 0 0.5em; text-align: right; border: none;\">Weight</th>\n",
       "        <th style=\"padding: 0 0.5em 0 0.5em; text-align: left; border: none;\">Feature</th>\n",
       "    </tr>\n",
       "    </thead>\n",
       "    <tbody>\n",
       "    \n",
       "        <tr style=\"background-color: hsl(120, 100.00%, 80.00%); border: none;\">\n",
       "            <td style=\"padding: 0 1em 0 0.5em; text-align: right; border: none;\">\n",
       "                0.1708\n",
       "                \n",
       "                    &plusmn; 0.0611\n",
       "                \n",
       "            </td>\n",
       "            <td style=\"padding: 0 0.5em 0 0.5em; text-align: left; border: none;\">\n",
       "                delay\n",
       "            </td>\n",
       "        </tr>\n",
       "    \n",
       "        <tr style=\"background-color: hsl(120, 100.00%, 97.72%); border: none;\">\n",
       "            <td style=\"padding: 0 1em 0 0.5em; text-align: right; border: none;\">\n",
       "                0.0077\n",
       "                \n",
       "                    &plusmn; 0.0257\n",
       "                \n",
       "            </td>\n",
       "            <td style=\"padding: 0 0.5em 0 0.5em; text-align: left; border: none;\">\n",
       "                IMC\n",
       "            </td>\n",
       "        </tr>\n",
       "    \n",
       "        <tr style=\"background-color: hsl(120, 100.00%, 98.40%); border: none;\">\n",
       "            <td style=\"padding: 0 1em 0 0.5em; text-align: right; border: none;\">\n",
       "                0.0046\n",
       "                \n",
       "                    &plusmn; 0.0345\n",
       "                \n",
       "            </td>\n",
       "            <td style=\"padding: 0 0.5em 0 0.5em; text-align: left; border: none;\">\n",
       "                ACL\n",
       "            </td>\n",
       "        </tr>\n",
       "    \n",
       "        <tr style=\"background-color: hsl(120, 100.00%, 98.80%); border: none;\">\n",
       "            <td style=\"padding: 0 1em 0 0.5em; text-align: right; border: none;\">\n",
       "                0.0031\n",
       "                \n",
       "                    &plusmn; 0.0185\n",
       "                \n",
       "            </td>\n",
       "            <td style=\"padding: 0 0.5em 0 0.5em; text-align: left; border: none;\">\n",
       "                age\n",
       "            </td>\n",
       "        </tr>\n",
       "    \n",
       "        <tr style=\"background-color: hsl(0, 100.00%, 97.72%); border: none;\">\n",
       "            <td style=\"padding: 0 1em 0 0.5em; text-align: right; border: none;\">\n",
       "                -0.0077\n",
       "                \n",
       "                    &plusmn; 0.0097\n",
       "                \n",
       "            </td>\n",
       "            <td style=\"padding: 0 0.5em 0 0.5em; text-align: left; border: none;\">\n",
       "                new_BH\n",
       "            </td>\n",
       "        </tr>\n",
       "    \n",
       "        <tr style=\"background-color: hsl(0, 100.00%, 97.41%); border: none;\">\n",
       "            <td style=\"padding: 0 1em 0 0.5em; text-align: right; border: none;\">\n",
       "                -0.0092\n",
       "                \n",
       "                    &plusmn; 0.0062\n",
       "                \n",
       "            </td>\n",
       "            <td style=\"padding: 0 0.5em 0 0.5em; text-align: left; border: none;\">\n",
       "                int_ext\n",
       "            </td>\n",
       "        </tr>\n",
       "    \n",
       "    \n",
       "    </tbody>\n",
       "</table>\n",
       "    \n",
       "\n",
       "    \n",
       "\n",
       "\n",
       "    \n",
       "\n",
       "    \n",
       "\n",
       "    \n",
       "\n",
       "    \n",
       "\n",
       "    \n",
       "\n",
       "    \n",
       "\n",
       "\n",
       "\n"
      ],
      "text/plain": [
       "<IPython.core.display.HTML object>"
      ]
     },
     "execution_count": 62,
     "metadata": {},
     "output_type": "execute_result"
    }
   ],
   "source": [
    "perm = PermutationImportance(my_model, random_state=1).fit(x, y)\n",
    "eli5.show_weights(perm, feature_names = ['age', 'int_ext', 'delay', 'ACL', 'IMC', 'new_BH'])"
   ]
  },
  {
   "cell_type": "markdown",
   "metadata": {},
   "source": [
    "Délais est la feature qui a le plus de poids, ce qui semble apriori logique. Etrangement, l'IMC a peu d'influence"
   ]
  },
  {
   "cell_type": "code",
   "execution_count": null,
   "metadata": {},
   "outputs": [],
   "source": []
  },
  {
   "cell_type": "code",
   "execution_count": null,
   "metadata": {},
   "outputs": [],
   "source": []
  },
  {
   "cell_type": "code",
   "execution_count": null,
   "metadata": {},
   "outputs": [],
   "source": []
  },
  {
   "cell_type": "code",
   "execution_count": null,
   "metadata": {},
   "outputs": [],
   "source": []
  },
  {
   "cell_type": "code",
   "execution_count": null,
   "metadata": {},
   "outputs": [],
   "source": []
  },
  {
   "cell_type": "code",
   "execution_count": null,
   "metadata": {},
   "outputs": [],
   "source": []
  },
  {
   "cell_type": "code",
   "execution_count": null,
   "metadata": {},
   "outputs": [],
   "source": []
  },
  {
   "cell_type": "code",
   "execution_count": null,
   "metadata": {},
   "outputs": [],
   "source": []
  },
  {
   "cell_type": "code",
   "execution_count": null,
   "metadata": {},
   "outputs": [],
   "source": []
  },
  {
   "cell_type": "code",
   "execution_count": null,
   "metadata": {},
   "outputs": [],
   "source": []
  }
 ],
 "metadata": {
  "kernelspec": {
   "display_name": "Python 3",
   "language": "python",
   "name": "python3"
  },
  "language_info": {
   "codemirror_mode": {
    "name": "ipython",
    "version": 3
   },
   "file_extension": ".py",
   "mimetype": "text/x-python",
   "name": "python",
   "nbconvert_exporter": "python",
   "pygments_lexer": "ipython3",
   "version": "3.7.4"
  }
 },
 "nbformat": 4,
 "nbformat_minor": 2
}
